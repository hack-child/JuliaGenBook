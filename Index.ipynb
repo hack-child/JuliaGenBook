{
 "metadata": {
  "kernelspec": {
   "codemirror_mode": {
    "name": "ipython",
    "version": 2
   },
   "display_name": "IPython (Python 2)",
   "language": "python",
   "name": "python2"
  },
  "language": "Julia",
  "name": "",
  "signature": "sha256:de8e0d6add4e28a795a6f04562c6d178cf9571729b1fcaa90495088ac3b3f670"
 },
 "nbformat": 3,
 "nbformat_minor": 0,
 "worksheets": [
  {
   "cells": [
    {
     "cell_type": "markdown",
     "metadata": {},
     "source": [
      "#Introduction to Julia for Quantitative Genetics"
     ]
    },
    {
     "cell_type": "markdown",
     "metadata": {},
     "source": [
      "The note is entirely written inside <a href=\"http://ipython.org/notebook.html\" target=\"_blank\">Jupeter notebooks</a>. <br>\n",
      "\n",
      "> Why [Jupyter notebook](http://www.nature.com/news/interactive-notebooks-sharing-the-code-1.16261)?\n",
      "\n",
      "\n",
      "The guide to install Julia and iJulia notebook.\n",
      "\n",
      "[Juliabox](https://www.juliabox.org) can be used to easily check this notebook.\n",
      "\n"
     ]
    },
    {
     "cell_type": "markdown",
     "metadata": {},
     "source": [
      "####About\n",
      "\n",
      "* Hao Cheng (haocheng@iastate.edu)                           "
     ]
    },
    {
     "cell_type": "markdown",
     "metadata": {},
     "source": [
      "<div style=\"float:right; \\\">\n",
      "<img src=\"QTL.jpg\" \n",
      " align=right style=\"float:right; margin-left: 5px; margin-top: 100px\" \n",
      " />\n",
      "</div>\n",
      "\n",
      "###Content\n",
      "\n",
      "* Section 0:\n",
      "  &nbsp; **Installation**\n",
      " \n",
      "    * [1.1](basic/MapFunction.ipynb) &nbsp; Why Julia?\n",
      "    * [1.2](basic/MapFunction.ipynb) &nbsp; Speed?\n",
      "<br><br>\n",
      "\n",
      "\n",
      "* Section 1:\n",
      "  &nbsp; **Basic**\n",
      " \n",
      "    * [1.1](basic/MapFunction.ipynb) &nbsp; Why Julia?\n",
      "    * [1.2](basic/MapFunction.ipynb) &nbsp; Speed?\n",
      "    * [1.3](basic/RecProb.ipynb) &nbsp; Basic functions?\n",
      "    * [1.4](basic/LD.ipynb) &nbsp; run it from terminal\n",
      "    * [1.4](basic/LD.ipynb) &nbsp; map (data structure)(learn it with example (factor incidence matrix)  )\n",
      "\n",
      "<br><br>\n",
      "\n",
      "* Section 2:\n",
      "  &nbsp; **second step**\n",
      "\n",
      "    * [2.1](Bayes/BayesTheorem.ipynb) &nbsp; control flow\n",
      "    * [2.2](Bayes/BayesInference.ipynb) &nbsp; reading files\n",
      "    * [2.3](Bayes/MCMC.ipynb) &nbsp; save as binary files\n",
      "    * [2.4](Bayes/BayesSimpleLinear.ipynb) &nbsp; distributions \n",
      "    * [2.5](Bayes/BayesMultipleRegression.ipynb) &nbsp; Plot \n",
      "<br><br>\n",
      "\n",
      "* Section 3:\n",
      "  &nbsp; **Advanced**\n",
      "\n",
      "    * [2.1](Bayes/BayesTheorem.ipynb) &nbsp; Type\n",
      "    * [2.2](Bayes/BayesInference.ipynb) &nbsp; Modele\n",
      "    * [2.2](Bayes/BayesInference.ipynb) &nbsp; Tricky things(Traps) in Julia\n",
      "    * [2.2](Bayes/BayesInference.ipynb) &nbsp; Example things(Traps) in Julia\n",
      "<br><br>\n",
      "\n",
      "    \n",
      "* Section 4:\n",
      "  &nbsp; **Examples**\n",
      "\n",
      "    * [2.1](Bayes/BayesTheorem.ipynb) &nbsp; A inverse\n",
      "    * [2.2](Bayes/BayesInference.ipynb) &nbsp; Gensel package\n",
      "\n",
      "\n",
      "<br><br>\n",
      "\n"
     ]
    }
   ],
   "metadata": {}
  }
 ]
}