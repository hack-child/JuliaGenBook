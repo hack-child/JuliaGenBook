{
 "cells": [
  {
   "cell_type": "markdown",
   "metadata": {},
   "source": [
    "#Introduction to Julia for Statictical Genetics"
   ]
  },
  {
   "cell_type": "markdown",
   "metadata": {},
   "source": [
    "<div style=\"float:right; \\\">\n",
    "<img src=\"QTL.jpg\" \n",
    " align=right style=\"float:right; margin-left: 5px; margin-top: 100px\" \n",
    " />\n",
    "</div>\n",
    "\n",
    "This interactive book is written entirely using <a href=\"http://ipython.org/notebook.html\" target=\"_blank\">Jupyter notebooks</a>. <br>\n",
    "\n",
    "> Why [Jupyter notebook](http://www.nature.com/news/interactive-notebooks-sharing-the-code-1.16261)?\n",
    "\n",
    "[Juliabox](https://www.juliabox.org) can be used to interact with this book.\n",
    "\n",
    "####Authors\n",
    "\n",
    "* Hao Cheng (haocheng@iastate.edu)    \n",
    "\n",
    "* Rohan Fernando (rohan@iastate.edu)"
   ]
  },
  {
   "cell_type": "markdown",
   "metadata": {},
   "source": [
    "[Julia by example](http://www.scolvin.com/juliabyexample/#Multidimensional-Arrays)\n",
    "\n",
    "[forio](http://forio.com/labs/julia-studio/tutorials/beginner/2/)\n",
    "\n",
    "[nbviewer](http://nbviewer.ipython.org/github/john9631/JuliaDocs/tree/master/)"
   ]
  },
  {
   "cell_type": "markdown",
   "metadata": {},
   "source": [
    "###Content"
   ]
  },
  {
   "cell_type": "markdown",
   "metadata": {},
   "source": [
    "* Section 0:\n",
    "  &nbsp; **Introduction**\n",
    "\n",
    "    * [0.1](section_0_introduction/whyJulia.ipynb) &nbsp; Why Julia <font color=\"red\">$\\bigstar$</font> \n",
    "    * [0.2](section_0_introduction/installation.ipynb) &nbsp; Installation <font color=\"red\">$\\bigstar$</font> \n",
    "    * [0.3](section_0_introduction/run.ipynb) &nbsp; Run code <font color=\"red\">$\\bigstar$</font>"
   ]
  },
  {
   "cell_type": "markdown",
   "metadata": {},
   "source": [
    "* Section 1:\n",
    "  &nbsp; **Basics**\n",
    " \n",
    "    * [1.1](section_1_basics/MapFunction.ipynb) &nbsp; basic types learnxiny and random number(distributions)? string(my_example)\n",
    "    * [1.2](section_1_basics/MapFunction.ipynb) &nbsp; loops/control flow?\n",
    "    * [1.3](section_1_basics/RecProb.ipynb) &nbsp; function\n",
    "    * [1.4](section_1_basics/LD.ipynb) &nbsp; map (data structure)(learn it with example (factor incidence matrix)  )\n",
    "    * [1.5](section_1_basics/rwfiles.ipynb) &nbsp; Read and write files <font color=\"red\">$\\bigstar$</font>\n",
    "    * [1.6](basic/LD.ipynb) &nbsp; regular expression\n"
   ]
  },
  {
   "cell_type": "markdown",
   "metadata": {},
   "source": [
    "* Section 2:\n",
    "  &nbsp; **Matrix**\n",
    " \n",
    "    * [2.1](section_2_matrix/matrix.ipynb) &nbsp; Matrix <font color=\"red\">$\\bigstar$</font>\n",
    "    * [2.2](section_2_matrix/matrixAlgebra.ipynb) &nbsp; Matrix Algebra <font color=\"red\">$\\bigstar$</font>"
   ]
  },
  {
   "cell_type": "markdown",
   "metadata": {},
   "source": [
    "* Section 3:\n",
    "&nbsp; **Plotting**\n",
    " \n",
    "    * [3.1](section_3_plotting/plotting.ipynb) &nbsp; Plotting with Gadfly <font color=\"red\">$\\bigstar$</font>\n",
    "    * [3.2](section_3_plotting/interactive.ipynb) &nbsp; Interactive Plotting <font color=\"red\">$\\bigstar$</font>"
   ]
  },
  {
   "cell_type": "markdown",
   "metadata": {},
   "source": [
    "* Section 4:\n",
    "  &nbsp; **Advanced**\n",
    "\n",
    "    * [4.1](section_2/pointer.ipynb) &nbsp; Pointer <font color=\"red\">(Half)</font>   \n",
    "    * [4.2](section_2/BayesTheorem.ipynb) &nbsp; Type(XSim)\n",
    "    * [4.3](section_2/BayesInference.ipynb) &nbsp; Module\n",
    "    * [4.4](section_2/BayesInference.ipynb) &nbsp; Tricky things(Traps) in Julia\n",
    "    * [4.5](section_2/BayesInference.ipynb) &nbsp; Example things(Traps) in Julia\n",
    "    * [4.6](section_2/BayesInference.ipynb) &nbsp; Closure(Traps) in Julia\n",
    "    * [4.7](create a package) &nbsp; Create your own package"
   ]
  },
  {
   "cell_type": "markdown",
   "metadata": {},
   "source": [
    "    \n",
    "* Section 5:\n",
    "  &nbsp; **Applications in Statistical Genetics**\n",
    "\n",
    "    * [5.1](Bayes/BayesTheorem.ipynb) &nbsp; inverse numerator relationship matrix\n",
    "    * [5.2](Bayes/BayesInference.ipynb) &nbsp; JWAS package\n",
    "    * [5.3](Bayes/BayesInference.ipynb) &nbsp; XSim package"
   ]
  },
  {
   "cell_type": "markdown",
   "metadata": {},
   "source": [
    "   \n",
    "* Section 6:\n",
    "  &nbsp; **Appendix**\n",
    "\n",
    "    * [6.1](section_6_appendix/commands.ipynb) &nbsp; useful commands"
   ]
  }
 ],
 "metadata": {
  "kernelspec": {
   "display_name": "Python 2",
   "language": "python",
   "name": "python2"
  },
  "language": "Julia",
  "language_info": {
   "codemirror_mode": {
    "name": "ipython",
    "version": 2
   },
   "file_extension": ".py",
   "mimetype": "text/x-python",
   "name": "python",
   "nbconvert_exporter": "python",
   "pygments_lexer": "ipython2",
   "version": "2.7.11"
  }
 },
 "nbformat": 4,
 "nbformat_minor": 0
}
