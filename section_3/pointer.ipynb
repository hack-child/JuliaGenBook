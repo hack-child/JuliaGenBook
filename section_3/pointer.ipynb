{
 "metadata": {
  "language": "Julia",
  "name": "",
  "signature": "sha256:f209cc5b6cce4710389e3dcaa85ae605e8ef99f394f2cf0dc80d588f3b2a5680"
 },
 "nbformat": 3,
 "nbformat_minor": 0,
 "worksheets": [
  {
   "cells": [
    {
     "cell_type": "markdown",
     "metadata": {},
     "source": [
      "###Pointer"
     ]
    },
    {
     "cell_type": "markdown",
     "metadata": {},
     "source": [
      "[Pointer](http://en.wikipedia.org/wiki/Pointer_(computer_programming), a programming language object, gives the address of a variable. It's very helpful to get the value stored at a specific address instead of copying the value. For example, below **pointer(a)** gives the address of the array **a**."
     ]
    },
    {
     "cell_type": "code",
     "collapsed": false,
     "input": [
      "a = [1,2,3]\n",
      "myptr=pointer(a)"
     ],
     "language": "python",
     "metadata": {},
     "outputs": [
      {
       "metadata": {},
       "output_type": "pyout",
       "prompt_number": 6,
       "text": [
        "Ptr{Int64} @0x00007fb6ae8c6f00"
       ]
      }
     ],
     "prompt_number": 6
    },
    {
     "cell_type": "markdown",
     "metadata": {},
     "source": [
      "Given the address, the value stored at that address can be obtained as"
     ]
    },
    {
     "cell_type": "code",
     "collapsed": false,
     "input": [
      "pointer_to_array(myptr,length(a))"
     ],
     "language": "python",
     "metadata": {},
     "outputs": [
      {
       "metadata": {},
       "output_type": "pyout",
       "prompt_number": 12,
       "text": [
        "3-element Array{Int64,1}:\n",
        " 1\n",
        " 2\n",
        " 3"
       ]
      }
     ],
     "prompt_number": 12
    },
    {
     "cell_type": "markdown",
     "metadata": {},
     "source": [
      "But you need to be vary carful when using pointers. Sometimes,it is dangerous. For example,"
     ]
    },
    {
     "cell_type": "code",
     "collapsed": false,
     "input": [
      "pointer_to_array(myptr,5)"
     ],
     "language": "python",
     "metadata": {},
     "outputs": [
      {
       "metadata": {},
       "output_type": "pyout",
       "prompt_number": 13,
       "text": [
        "5-element Array{Int64,1}:\n",
        " 1\n",
        " 2\n",
        " 3\n",
        " 0\n",
        " 0"
       ]
      }
     ],
     "prompt_number": 13
    },
    {
     "cell_type": "markdown",
     "metadata": {},
     "source": [
      "An example is shown below to get the column of a matrix efficiently through pointer intead of copying."
     ]
    },
    {
     "cell_type": "code",
     "collapsed": false,
     "input": [
      "function get_column(X,j)\n",
      "  nrow,ncol = size(X)\n",
      "  if j>ncol||j<0\n",
      "      error(\"column number is wrong!\")\n",
      "  end\n",
      "  indx = 1 + (j-1)*nrow\n",
      "  ptr = pointer(X,indx)\n",
      "  pointer_to_array(ptr,nrow)\n",
      "end"
     ],
     "language": "python",
     "metadata": {},
     "outputs": [
      {
       "metadata": {},
       "output_type": "pyout",
       "prompt_number": 14,
       "text": [
        "get_column (generic function with 1 method)"
       ]
      }
     ],
     "prompt_number": 14
    }
   ],
   "metadata": {}
  }
 ]
}