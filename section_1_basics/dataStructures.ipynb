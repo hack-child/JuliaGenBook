{
 "metadata": {
  "language": "Julia",
  "name": "",
  "signature": "sha256:80f300fcb03df176dbfadfa3e90e5881e971dacc1922e4a48653293963702f50"
 },
 "nbformat": 3,
 "nbformat_minor": 0,
 "worksheets": [
  {
   "cells": [
    {
     "cell_type": "markdown",
     "metadata": {},
     "source": [
      "Dictionary"
     ]
    },
    {
     "cell_type": "code",
     "collapsed": false,
     "input": [
      "function mkmat_incidence_factor(b)\n",
      "    factor=unique(b)\n",
      "    coMat= spzeros(length(b),length(factor))\n",
      "\n",
      "    dictFactor = Dict()\n",
      "    index=1\n",
      "    for i in factor\n",
      "        dictFactor[i]=index\n",
      "        index+=1\n",
      "    end\n",
      "\n",
      "    nrow=1\n",
      "    for i in b\n",
      "        myindex=DictFactor[i]\n",
      "        coMat[nrow,myindex]=1\n",
      "        nrow=nrow+1\n",
      "    end\n",
      "    return full(coMat),dictFactor\n",
      "end"
     ],
     "language": "python",
     "metadata": {},
     "outputs": []
    },
    {
     "cell_type": "code",
     "collapsed": false,
     "input": [
      "function missing2mean(X,missing=9)\n",
      "    \n",
      "    nrow,ncol = size(X)    \n",
      "\n",
      "    for i=1:ncol\n",
      "        index=find(x->x==missing,X[:,i])\n",
      "        cols = [1:nrow]\n",
      "        deleteat!(cols,index)\n",
      "        X[index,i]=int(mean(X[cols,i]))\n",
      "               \n",
      "        if(i%3000==0)\n",
      "            println(\"This is line \",i)\n",
      "        end\n",
      "    end\n",
      "\n",
      "\n",
      "end"
     ],
     "language": "python",
     "metadata": {},
     "outputs": []
    },
    {
     "cell_type": "markdown",
     "metadata": {},
     "source": [
      "string"
     ]
    },
    {
     "cell_type": "markdown",
     "metadata": {},
     "source": [
      "extractcolumnmean"
     ]
    }
   ],
   "metadata": {}
  }
 ]
}