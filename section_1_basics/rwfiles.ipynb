{
 "cells": [
  {
   "cell_type": "markdown",
   "metadata": {},
   "source": [
    "##read and write files"
   ]
  },
  {
   "cell_type": "markdown",
   "metadata": {},
   "source": [
    "Several ways to read and write files are intrudoced in this section. Please see [I/O and Network](http://docs.julialang.org/en/release-0.3/stdlib/io-network/) part in official documentation for more details."
   ]
  },
  {
   "cell_type": "markdown",
   "metadata": {},
   "source": [
    "#####1. <font,color=\"blue\">readdlm</font> is used to read a whole file. \n",
    "\n",
    " Read a matrix from a file with headers and elements separated by the delimeter ( , ). "
   ]
  },
  {
   "cell_type": "code",
   "execution_count": 2,
   "metadata": {
    "collapsed": false
   },
   "outputs": [
    {
     "name": "stdout",
     "output_type": "stream",
     "text": [
      "age,weight\n",
      "12,110\n",
      "54,165\n",
      "26,131\n"
     ]
    }
   ],
   "source": [
    ";cat data.txt"
   ]
  },
  {
   "cell_type": "code",
   "execution_count": 3,
   "metadata": {
    "collapsed": false
   },
   "outputs": [
    {
     "data": {
      "text/plain": [
       "(\n",
       "3x2 Array{Float64,2}:\n",
       " 12.0  110.0\n",
       " 54.0  165.0\n",
       " 26.0  131.0,\n",
       "\n",
       "1x2 Array{String,2}:\n",
       " \"age\"  \"weight\")"
      ]
     },
     "execution_count": 3,
     "metadata": {},
     "output_type": "execute_result"
    }
   ],
   "source": [
    "d=readdlm(\"data.txt\",',',header=true)"
   ]
  },
  {
   "cell_type": "markdown",
   "metadata": {},
   "source": [
    "The type of the array in d is determined by Julia. The type of the array can also be define with options. For example, the type of the array can be defined as String."
   ]
  },
  {
   "cell_type": "code",
   "execution_count": 4,
   "metadata": {
    "collapsed": false
   },
   "outputs": [
    {
     "data": {
      "text/plain": [
       "(\n",
       "3x2 Array{String,2}:\n",
       " \"12\"  \"110\"\n",
       " \"54\"  \"165\"\n",
       " \"26\"  \"131\",\n",
       "\n",
       "1x2 Array{String,2}:\n",
       " \"age\"  \"weight\")"
      ]
     },
     "execution_count": 4,
     "metadata": {},
     "output_type": "execute_result"
    }
   ],
   "source": [
    "d=readdlm(\"data.txt\",',',String,header=true,)"
   ]
  },
  {
   "cell_type": "markdown",
   "metadata": {},
   "source": [
    "#####2. <font,color=\"blue\">readline</font> is used to read files line by line."
   ]
  },
  {
   "cell_type": "markdown",
   "metadata": {},
   "source": [
    "The function **readline** is more flexible, because working with one line uses less memory and may be much faster."
   ]
  },
  {
   "cell_type": "markdown",
   "metadata": {},
   "source": [
    "Sometime it's impossible to read a big file with **readdlm**. An function to handle reading a big genotype using **readline** is shown below. The function **open** is used to open a file (here for read only without specifying a mode). The function readline is used to read one line from the file as an array. **split** and **int** are used to split the single array to tokens and transfer the type from string to int. The functin **close** is used to close the stream. "
   ]
  },
  {
   "cell_type": "code",
   "execution_count": 5,
   "metadata": {
    "collapsed": false
   },
   "outputs": [
    {
     "data": {
      "text/plain": [
       "read_genotypes (generic function with 2 methods)"
      ]
     },
     "execution_count": 5,
     "metadata": {},
     "output_type": "execute_result"
    }
   ],
   "source": [
    "function read_genotypes(file,nrow,ncol,header=true)\n",
    "    f=open(file)\n",
    "\n",
    "    if header==true\n",
    "        readline(f)\n",
    "        nrow=nrow-1\n",
    "    end\n",
    "\n",
    "    mat = zeros(Int64,nrow,ncol)\n",
    "\n",
    "    for i=1:nrow\n",
    "        mat[i,:]=int(split(readline(f)))\n",
    "\n",
    "        if(i%1000==0)\n",
    "            println(\"This is line \",i)\n",
    "        end\n",
    "    end\n",
    "\n",
    "    close(f)\n",
    "    return mat\n",
    "end"
   ]
  },
  {
   "cell_type": "markdown",
   "metadata": {},
   "source": [
    "#####3. <font,color=\"blue\">writedlm</font> is used to write a file.\n",
    "\n",
    "The d matrix is modified and write to another file using writedlm( filename, matrix, delimeter )."
   ]
  },
  {
   "cell_type": "code",
   "execution_count": 6,
   "metadata": {
    "collapsed": false
   },
   "outputs": [
    {
     "data": {
      "text/plain": [
       "3x2 Array{String,2}:\n",
       " \"12\"  \"110\"\n",
       " \"54\"  \"165\"\n",
       " \"26\"  \"131\""
      ]
     },
     "execution_count": 6,
     "metadata": {},
     "output_type": "execute_result"
    }
   ],
   "source": [
    "newdata=d[1]"
   ]
  },
  {
   "cell_type": "code",
   "execution_count": 8,
   "metadata": {
    "collapsed": false
   },
   "outputs": [
    {
     "data": {
      "text/plain": [
       "\"314\""
      ]
     },
     "execution_count": 8,
     "metadata": {},
     "output_type": "execute_result"
    }
   ],
   "source": [
    "newdata[1,2]=\"314\""
   ]
  },
  {
   "cell_type": "code",
   "execution_count": 16,
   "metadata": {
    "collapsed": false
   },
   "outputs": [],
   "source": [
    "writedlm(\"datanew.txt\",newdata,\" \")"
   ]
  },
  {
   "cell_type": "code",
   "execution_count": 18,
   "metadata": {
    "collapsed": false
   },
   "outputs": [
    {
     "name": "stdout",
     "output_type": "stream",
     "text": [
      "12 314\n",
      "54 165\n",
      "26 131\n"
     ]
    }
   ],
   "source": [
    ";cat datanew.txt"
   ]
  },
  {
   "cell_type": "markdown",
   "metadata": {},
   "source": [
    "You may find there is no header in datanew.txt. This can be solved as"
   ]
  },
  {
   "cell_type": "code",
   "execution_count": 23,
   "metadata": {
    "collapsed": false
   },
   "outputs": [],
   "source": [
    "myheader=d[2]\n",
    "f = open(\"datanew2.txt\", \"w\")\n",
    "writedlm(f, myheader)\n",
    "writedlm(f, newdata)\n",
    "close(f)"
   ]
  },
  {
   "cell_type": "code",
   "execution_count": 25,
   "metadata": {
    "collapsed": false
   },
   "outputs": [
    {
     "name": "stdout",
     "output_type": "stream",
     "text": [
      "age\tweight\n",
      "12\t314\n",
      "54\t165\n",
      "26\t131\n"
     ]
    }
   ],
   "source": [
    ";cat datanew2.txt"
   ]
  },
  {
   "cell_type": "markdown",
   "metadata": {},
   "source": [
    "#####4. read and write <font,color=\"blue\">binary</font> files"
   ]
  },
  {
   "cell_type": "markdown",
   "metadata": {},
   "source": [
    "If you need to work with a file several times, it's better to save it as a binary file to read and write in order to save memory and increase reading speed. "
   ]
  },
  {
   "cell_type": "markdown",
   "metadata": {},
   "source": [
    "To write a variable as a binary file, "
   ]
  },
  {
   "cell_type": "code",
   "execution_count": 38,
   "metadata": {
    "collapsed": false
   },
   "outputs": [],
   "source": [
    "x=123\n",
    "y=314\n",
    "myfile=open(\"file.bin\",\"w\")\n",
    "write(myfile,x)\n",
    "write(myfile,y)\n",
    "close(myfile)"
   ]
  },
  {
   "cell_type": "markdown",
   "metadata": {},
   "source": [
    "To read a binary file,"
   ]
  },
  {
   "cell_type": "code",
   "execution_count": 40,
   "metadata": {
    "collapsed": false
   },
   "outputs": [],
   "source": [
    "myfile2=open(\"file.bin\")\n",
    "x2=read(myfile2,Int64)\n",
    "y2=read(myfile2,Int64)\n",
    "close(myfile2)"
   ]
  },
  {
   "cell_type": "code",
   "execution_count": 45,
   "metadata": {
    "collapsed": false
   },
   "outputs": [
    {
     "name": "stdout",
     "output_type": "stream",
     "text": [
      "123 314\n"
     ]
    }
   ],
   "source": [
    "println(x2,\" \",y2)"
   ]
  },
  {
   "cell_type": "markdown",
   "metadata": {},
   "source": [
    "To learn more about reading and writing files, please see the official documentation. A package called **DataFrames** may be helpful. Another package **ODBC** can be used to work with a database."
   ]
  }
 ],
 "metadata": {
  "kernelspec": {
   "display_name": "Julia 0.3.7",
   "language": "julia",
   "name": "julia 0.3"
  },
  "language_info": {
   "name": "julia",
   "version": "0.3.7"
  }
 },
 "nbformat": 4,
 "nbformat_minor": 0
}
