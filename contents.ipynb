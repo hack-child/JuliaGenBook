{
 "metadata": {
  "language": "Julia",
  "name": "",
  "signature": "sha256:4e55752add365572b952e62942066f158370e6fbca748513074fbb4bb7913c5c"
 },
 "nbformat": 3,
 "nbformat_minor": 0,
 "worksheets": [
  {
   "cells": [
    {
     "cell_type": "markdown",
     "metadata": {},
     "source": [
      "~~aaa~~"
     ]
    },
    {
     "cell_type": "markdown",
     "metadata": {},
     "source": [
      "Introduction\n",
      "\n",
      "Getting Started\n",
      "\n",
      "Variables\n",
      "\n",
      "Integers and Floating-Point Numbers\n",
      "\n",
      "Mathematical Operations and Elementary Functions\n",
      "\n",
      "Complex and Rational Numbers\n",
      "\n",
      "Strings\n",
      "\n",
      "Functions\n",
      "\n",
      "Control Flow"
     ]
    },
    {
     "cell_type": "markdown",
     "metadata": {},
     "source": [
      "Scope of Variables\n",
      "\n",
      "Types\n",
      "\n",
      "Methods\n",
      "\n",
      "Constructors\n",
      "\n",
      "Conversion and Promotion\n",
      "\n",
      "Modules\n",
      "\n",
      "Documentation\n",
      "\n",
      "Metaprogramming"
     ]
    },
    {
     "cell_type": "markdown",
     "metadata": {},
     "source": [
      "~~Multi-dimensional Arrays~~\n",
      "\n",
      "Linear algebra"
     ]
    },
    {
     "cell_type": "markdown",
     "metadata": {},
     "source": [
      "Networking and Streams\n",
      "\n",
      "Parallel Computing\n",
      "\n",
      "Date and DateTime\n",
      "\n",
      "Running External Programs\n",
      "\n",
      "Calling C and Fortran Code"
     ]
    },
    {
     "cell_type": "markdown",
     "metadata": {},
     "source": [
      "Interacting With Julia\n",
      "\n",
      "Embedding Julia\n",
      "\n",
      "Packages\n",
      "\n",
      "Package Development\n",
      "\n",
      "Profiling\n",
      "\n",
      "Memory allocation analysis\n",
      "\n",
      "Performance Tips\n",
      "\n",
      "Workflow Tips"
     ]
    },
    {
     "cell_type": "markdown",
     "metadata": {},
     "source": [
      "Style Guide\n",
      "\n",
      "Frequently Asked Questions\n",
      "\n",
      "Noteworthy Differences from other Languages\n",
      "\n",
      "Unicode Input"
     ]
    },
    {
     "cell_type": "code",
     "collapsed": false,
     "input": [],
     "language": "python",
     "metadata": {},
     "outputs": []
    },
    {
     "cell_type": "markdown",
     "metadata": {},
     "source": [
      "Essentials\n",
      "\n",
      "Collections and Data Structures"
     ]
    },
    {
     "cell_type": "markdown",
     "metadata": {},
     "source": [
      "Mathematics\n",
      "\n",
      "Numbers\n",
      "\n",
      "Strings\n",
      "\n",
      "Arrays\n",
      "\n",
      "Tasks and Parallel Computing\n",
      "\n",
      "Linear Algebra\n",
      "\n",
      "Constants"
     ]
    },
    {
     "cell_type": "markdown",
     "metadata": {},
     "source": [
      "Filesystem\n",
      "\n",
      "I/O and Network\n",
      "\n",
      "Punctuation\n",
      "\n",
      "Sorting and Related Functions\n",
      "\n",
      "Package Manager Functions"
     ]
    },
    {
     "cell_type": "markdown",
     "metadata": {},
     "source": [
      "Dates and Time\n",
      "\n",
      "Unit and Functional Testing\n",
      "\n",
      "C Interface\n",
      "\n",
      "Profiling"
     ]
    },
    {
     "cell_type": "code",
     "collapsed": false,
     "input": [],
     "language": "python",
     "metadata": {},
     "outputs": []
    },
    {
     "cell_type": "markdown",
     "metadata": {},
     "source": [
      "Reflection and introspection\n",
      "\n",
      "Documentation of Julia\u2019s Internals\n",
      "\n",
      "Developing/debugging Julia\u2019s C code"
     ]
    }
   ],
   "metadata": {}
  }
 ]
}