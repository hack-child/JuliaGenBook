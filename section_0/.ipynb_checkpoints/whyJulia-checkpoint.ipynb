{
 "metadata": {
  "language": "Julia",
  "name": "",
  "signature": "sha256:a292d179bd80fd7f035b3396ec3df5434562830210c28e06a3da1d811b016877"
 },
 "nbformat": 3,
 "nbformat_minor": 0,
 "worksheets": [
  {
   "cells": [
    {
     "cell_type": "markdown",
     "metadata": {},
     "source": [
      "###Why Julia?"
     ]
    },
    {
     "cell_type": "markdown",
     "metadata": {},
     "source": [
      "Julia is a high-level, high-performance dynamic programming language for technical computing. It has lots of appealing features. Please read the [homepage](http://julialang.org) of Julia to have an overview of this nice language. As what they said in the [introduction](http://docs.julialang.org/en/release-0.3/manual/introduction/) part of the official documention, "
     ]
    },
    {
     "cell_type": "markdown",
     "metadata": {},
     "source": [
      "> it is a flexible dynamic language, appropriate for scientific and numerical computing, with performance comparable to traditional statically-typed languages."
     ]
    },
    {
     "cell_type": "markdown",
     "metadata": {},
     "source": [
      ">Julia aims to create an unprecedented combination of ease-of-use, power, and efficiency in a single language."
     ]
    },
    {
     "cell_type": "markdown",
     "metadata": {},
     "source": [
      "Till now the reasons why we prefer Julia are: 1) nice syntax 2) speed. Belwo is an expample for syntax in Julia."
     ]
    },
    {
     "cell_type": "code",
     "collapsed": false,
     "input": [
      "X = [1 2\n",
      "     3 4]\n",
      "X'X"
     ],
     "language": "python",
     "metadata": {},
     "outputs": [
      {
       "metadata": {},
       "output_type": "pyout",
       "prompt_number": 1,
       "text": [
        "2x2 Array{Int64,2}:\n",
        " 10  14\n",
        " 14  20"
       ]
      }
     ],
     "prompt_number": 1
    },
    {
     "cell_type": "markdown",
     "metadata": {},
     "source": [
      "A set of [Benchmarks](http://julialang.org/benchmarks/) have been shown in the Julia official website. Below a comparison of speed between Julia and R implemetations of BayesC, a Bayesian multiptle-regression method for genome-wide association study and genomic prediction, is shown wiht "
     ]
    }
   ],
   "metadata": {}
  }
 ]
}