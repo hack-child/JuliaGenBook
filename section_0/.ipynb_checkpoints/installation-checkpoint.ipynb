{
 "metadata": {
  "language": "Julia",
  "name": "",
  "signature": "sha256:c5d4ba3efbac9da5dc3bae64573b137ba368252b529491adeceacbdaea04213a"
 },
 "nbformat": 3,
 "nbformat_minor": 0,
 "worksheets": [
  {
   "cells": [
    {
     "cell_type": "markdown",
     "metadata": {},
     "source": [
      "##Installation"
     ]
    },
    {
     "cell_type": "markdown",
     "metadata": {},
     "source": [
      "1. To **install Julia**, please go to [Julia (command line version)](http://julialang.org/downloads/) section on the official website. Please check platform specific instructions under the downloads table if you have trouble installing Julia.\n",
      "<br><br>\n",
      "\n",
      "2. To **install Juno**, an integrated development environment (IDE) for Julia, such as RStudio for R language, Visual studio/XCODE for C++, please go to the [Julia + Juno IDE bundles](http://julialang.org/downloads/) section on the official website..\n",
      "<br><br>\n",
      "\n",
      "3. To **install IJulia notebook**, an interactive environment, please go to [IJulia](https://github.com/JuliaLang/IJulia.jl)."
     ]
    },
    {
     "cell_type": "markdown",
     "metadata": {},
     "source": [
      "####Troubleshooting"
     ]
    },
    {
     "cell_type": "markdown",
     "metadata": {},
     "source": [
      "1. Please make sure your Julia is up-to-date using \n",
      "```\n",
      "Pkg.update()\n",
      "```\n",
      "2. Please check platform specific instructions under the downloads table if you have trouble installing Julia.\n",
      "\n",
      "3. Please check the the troubleshooting part on [IJulia](https://github.com/JuliaLang/IJulia.jl) webpage if you have trouble installing Ijulia.  "
     ]
    },
    {
     "cell_type": "markdown",
     "metadata": {},
     "source": [
      "##Run"
     ]
    },
    {
     "cell_type": "markdown",
     "metadata": {},
     "source": [
      "#####Julia\n",
      "\n",
      "1. run with REPL(start julia by opening the Julia app)\n",
      "```julia\n",
      ">julia 2+3\n",
      "5\n",
      "```\n",
      "\n",
      "2. run script directly from the command line\n",
      "```bash\n",
      "$julia script.jl\n",
      "```\n",
      "\n",
      "Please see [Getting Started](http://docs.julialang.org/en/release-0.3/manual/getting-started/) part in official documentation for more details.\n",
      "\n",
      "#####IJulia\n",
      "\n",
      "1. To start the IJulia notebook in the browser, run from the command line.\n",
      "```bash\n",
      "ipython notebook --profile julia\n",
      "```\n",
      " \n",
      "Please see [Running the IJulia Notebook](https://github.com/JuliaLang/IJulia.jl) on IJulia website."
     ]
    }
   ],
   "metadata": {}
  }
 ]
}