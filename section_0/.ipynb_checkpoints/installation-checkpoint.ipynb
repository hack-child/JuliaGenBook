{
 "metadata": {
  "language": "Julia",
  "name": "",
  "signature": "sha256:dfd078e9d40ffa1dd25b9d1a4e53c40438f49921e6b47a5325e9b43b2f819097"
 },
 "nbformat": 3,
 "nbformat_minor": 0,
 "worksheets": [
  {
   "cells": [
    {
     "cell_type": "markdown",
     "metadata": {},
     "source": [
      "##Installation"
     ]
    },
    {
     "cell_type": "markdown",
     "metadata": {},
     "source": [
      "1. To **install Julia**, please go to [Julia (command line version)](http://julialang.org/downloads/) section on the official website. Please check platform specific instructions under the downloads table if you have trouble installing Julia.\n",
      "<br><br>\n",
      "\n",
      "2. To **install Juno**, an integrated development environment (IDE) for Julia, such as RStudio for R language, Visual studio/XCODE for C++, please go to the [Julia + Juno IDE bundles](http://julialang.org/downloads/) section on the official website..\n",
      "<br><br>\n",
      "\n",
      "3. To **install IJulia notebook**, an interactive environment, please go to [IJulia](https://github.com/JuliaLang/IJulia.jl)."
     ]
    },
    {
     "cell_type": "markdown",
     "metadata": {},
     "source": [
      "####Troubleshooting"
     ]
    },
    {
     "cell_type": "markdown",
     "metadata": {},
     "source": [
      "1. Please make sure your Julia is up-to-date using \n",
      "```\n",
      "Pkg.update()\n",
      "```\n",
      "2. Please check platform specific instructions under the downloads table if you have trouble installing Julia.\n",
      "\n",
      "3. Please check the the troubleshooting part on [IJulia](https://github.com/JuliaLang/IJulia.jl) webpage if you have trouble installing IJulia.  "
     ]
    }
   ],
   "metadata": {}
  }
 ]
}