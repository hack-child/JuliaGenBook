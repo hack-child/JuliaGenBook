{
 "metadata": {
  "language": "Julia",
  "name": "",
  "signature": "sha256:03cc7eab3169b431e07188c67b753f7233c042d5eead128e6a3bc4df69f5ba91"
 },
 "nbformat": 3,
 "nbformat_minor": 0,
 "worksheets": [
  {
   "cells": [
    {
     "cell_type": "code",
     "collapsed": false,
     "input": [
      "x=\"Introduction\"\n",
      "y=\"quantitative genetics\"\n",
      "\n",
      "println(\"$x to $y\" )"
     ],
     "language": "python",
     "metadata": {},
     "outputs": [
      {
       "output_type": "stream",
       "stream": "stdout",
       "text": [
        "Introduction to quantitative genetics\n"
       ]
      }
     ],
     "prompt_number": 2
    },
    {
     "cell_type": "markdown",
     "metadata": {},
     "source": [
      "check **learn julia by example**"
     ]
    },
    {
     "cell_type": "code",
     "collapsed": false,
     "input": [],
     "language": "python",
     "metadata": {},
     "outputs": []
    },
    {
     "cell_type": "code",
     "collapsed": false,
     "input": [],
     "language": "python",
     "metadata": {},
     "outputs": [],
     "prompt_number": 4
    }
   ],
   "metadata": {}
  }
 ]
}