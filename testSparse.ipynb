{
 "cells": [
  {
   "cell_type": "code",
   "execution_count": 11,
   "metadata": {
    "collapsed": false
   },
   "outputs": [
    {
     "data": {
      "text/plain": [
       "10000-element Array{Float64,1}:\n",
       "  0.430989 \n",
       "  0.51713  \n",
       "  1.2997   \n",
       " -0.948078 \n",
       "  1.01842  \n",
       " -0.751114 \n",
       "  0.336801 \n",
       "  1.19205  \n",
       " -0.917341 \n",
       "  0.623263 \n",
       " -0.351031 \n",
       " -0.399209 \n",
       "  0.185481 \n",
       "  ⋮        \n",
       "  0.301361 \n",
       "  0.0114011\n",
       " -0.965413 \n",
       " -0.805052 \n",
       "  0.578623 \n",
       "  0.695232 \n",
       "  0.331621 \n",
       " -0.758712 \n",
       " -0.876339 \n",
       " -0.114785 \n",
       " -1.06447  \n",
       " -1.71045  "
      ]
     },
     "execution_count": 11,
     "metadata": {},
     "output_type": "execute_result"
    }
   ],
   "source": [
    "a=randn(10000)"
   ]
  },
  {
   "cell_type": "code",
   "execution_count": 9,
   "metadata": {
    "collapsed": false
   },
   "outputs": [
    {
     "data": {
      "text/plain": [
       "10000x1 sparse matrix with 10 Float64 entries:\n",
       "\t[1146 ,     1]  =  0.599778\n",
       "\t[2997 ,     1]  =  0.450048\n",
       "\t[4497 ,     1]  =  0.251991\n",
       "\t[5342 ,     1]  =  0.851433\n",
       "\t[6583 ,     1]  =  0.887292\n",
       "\t[6874 ,     1]  =  0.784329\n",
       "\t[7152 ,     1]  =  0.964375\n",
       "\t[7999 ,     1]  =  0.0331181\n",
       "\t[8319 ,     1]  =  0.139935\n",
       "\t[8917 ,     1]  =  0.411161"
      ]
     },
     "execution_count": 9,
     "metadata": {},
     "output_type": "execute_result"
    }
   ],
   "source": [
    "bs=sprand(10000,1,0.001)"
   ]
  },
  {
   "cell_type": "code",
   "execution_count": 47,
   "metadata": {
    "collapsed": false
   },
   "outputs": [
    {
     "name": "stderr",
     "output_type": "stream",
     "text": [
      "WARNING: dense is deprecated, use full instead.\n",
      " in depwarn at deprecated.jl:36\n",
      " in dense at deprecated.jl:8\n",
      " in include_string at loading.jl:97\n",
      " in execute_request_0x535c5df2 at /Users/haocheng/.julia/v0.3/IJulia/src/execute_request.jl:177\n",
      " in eventloop at /Users/haocheng/.julia/v0.3/IJulia/src/IJulia.jl:130\n",
      " in anonymous at task.jl:340\n"
     ]
    }
   ],
   "source": [
    "b=dense(bs);"
   ]
  },
  {
   "cell_type": "code",
   "execution_count": 88,
   "metadata": {
    "collapsed": false
   },
   "outputs": [
    {
     "name": "stdout",
     "output_type": "stream",
     "text": [
      "elapsed time: 1.9129e-5 seconds (80192 bytes allocated)\n"
     ]
    },
    {
     "data": {
      "text/plain": [
       "1x1 Array{Float64,2}:\n",
       " 0.326775"
      ]
     },
     "execution_count": 88,
     "metadata": {},
     "output_type": "execute_result"
    }
   ],
   "source": [
    "@time a'bs"
   ]
  },
  {
   "cell_type": "code",
   "execution_count": 116,
   "metadata": {
    "collapsed": false
   },
   "outputs": [
    {
     "name": "stdout",
     "output_type": "stream",
     "text": [
      "elapsed time: 4.31e-6 seconds (144 bytes allocated)\n"
     ]
    },
    {
     "data": {
      "text/plain": [
       "1-element Array{Float64,1}:\n",
       " 0.326775"
      ]
     },
     "execution_count": 116,
     "metadata": {},
     "output_type": "execute_result"
    }
   ],
   "source": [
    "@time bs'a"
   ]
  },
  {
   "cell_type": "code",
   "execution_count": 39,
   "metadata": {
    "collapsed": false
   },
   "outputs": [
    {
     "name": "stdout",
     "output_type": "stream",
     "text": [
      "elapsed time: 1.8294e-5 seconds (80128 bytes allocated)\n",
      "elapsed time: 3.14e-6 seconds (144 bytes allocated)\n"
     ]
    },
    {
     "data": {
      "text/plain": [
       "1x1 Array{Float64,2}:\n",
       " 0.326775"
      ]
     },
     "execution_count": 39,
     "metadata": {},
     "output_type": "execute_result"
    }
   ],
   "source": [
    "@time at=a'\n",
    "@time at*bs"
   ]
  },
  {
   "cell_type": "code",
   "execution_count": 43,
   "metadata": {
    "collapsed": false
   },
   "outputs": [
    {
     "data": {
      "text/html": [
       "14 methods for generic function <b>sparse</b>:<ul><li> sparse(a::<b>Array{T,1}</b>) at <a href=\"https://github.com/JuliaLang/julia/tree/a05f87b79ad62beb033817fdfdefa270c9557aaf/base/sparse/sparsematrix.jl#L226\" target=\"_blank\">sparse/sparsematrix.jl:226</a><li> sparse<i>{Tv}</i>(A::<b>Array{Tv,2}</b>) at <a href=\"https://github.com/JuliaLang/julia/tree/a05f87b79ad62beb033817fdfdefa270c9557aaf/base/sparse/sparsematrix.jl#L230\" target=\"_blank\">sparse/sparsematrix.jl:230</a><li> sparse(S::<b>SparseMatrixCSC{Tv,Ti<:Integer}</b>) at <a href=\"https://github.com/JuliaLang/julia/tree/a05f87b79ad62beb033817fdfdefa270c9557aaf/base/sparse/sparsematrix.jl#L232\" target=\"_blank\">sparse/sparsematrix.jl:232</a><li> sparse(A::<b>CholmodSparse{Tv<:Union(Float64,Complex{Float64}),Ti<:Union(Int64,Int32)}</b>) at <a href=\"https://github.com/JuliaLang/julia/tree/a05f87b79ad62beb033817fdfdefa270c9557aaf/base/linalg/cholmod.jl#L1055\" target=\"_blank\">linalg/cholmod.jl:1055</a><li> sparse(L::<b>CholmodFactor{Tv<:Union(Float64,Complex{Float64}),Ti<:Union(Int64,Int32)}</b>) at <a href=\"https://github.com/JuliaLang/julia/tree/a05f87b79ad62beb033817fdfdefa270c9557aaf/base/linalg/cholmod.jl#L1061\" target=\"_blank\">linalg/cholmod.jl:1061</a><li> sparse(D::<b>CholmodDense{T<:Union(Float64,Complex{Float64})}</b>) at <a href=\"https://github.com/JuliaLang/julia/tree/a05f87b79ad62beb033817fdfdefa270c9557aaf/base/linalg/cholmod.jl#L1062\" target=\"_blank\">linalg/cholmod.jl:1062</a><li> sparse(T::<b>CholmodTriplet{Tv<:Union(Float64,Complex{Float64}),Ti<:Union(Int64,Int32)}</b>) at <a href=\"https://github.com/JuliaLang/julia/tree/a05f87b79ad62beb033817fdfdefa270c9557aaf/base/linalg/cholmod.jl#L1063\" target=\"_blank\">linalg/cholmod.jl:1063</a><li> sparse(I,J,v::<b>Number</b>) at <a href=\"https://github.com/JuliaLang/julia/tree/a05f87b79ad62beb033817fdfdefa270c9557aaf/base/sparse/sparsematrix.jl#L288\" target=\"_blank\">sparse/sparsematrix.jl:288</a><li> sparse(I,J,V::<b>AbstractArray{Bool,1}</b>,m,n) at <a href=\"https://github.com/JuliaLang/julia/tree/a05f87b79ad62beb033817fdfdefa270c9557aaf/base/sparse/sparsematrix.jl#L296\" target=\"_blank\">sparse/sparsematrix.jl:296</a><li> sparse<i>{Tv,Ti<:Integer}</i>(I::<b>AbstractArray{Ti<:Integer,1}</b>,J::<b>AbstractArray{Ti<:Integer,1}</b>,V::<b>AbstractArray{Tv,1}</b>,nrow::<b>Integer</b>,ncol::<b>Integer</b>,combine::<b>Function</b>) at <a href=\"https://github.com/JuliaLang/julia/tree/a05f87b79ad62beb033817fdfdefa270c9557aaf/base/sparse/csparse.jl#L19\" target=\"_blank\">sparse/csparse.jl:19</a><li> sparse(I,J,V::<b>AbstractArray{T,1}</b>) at <a href=\"https://github.com/JuliaLang/julia/tree/a05f87b79ad62beb033817fdfdefa270c9557aaf/base/sparse/sparsematrix.jl#L290\" target=\"_blank\">sparse/sparsematrix.jl:290</a><li> sparse(I,J,v::<b>Number</b>,m,n) at <a href=\"https://github.com/JuliaLang/julia/tree/a05f87b79ad62beb033817fdfdefa270c9557aaf/base/sparse/sparsematrix.jl#L292\" target=\"_blank\">sparse/sparsematrix.jl:292</a><li> sparse(I,J,V::<b>AbstractArray{T,1}</b>,m,n) at <a href=\"https://github.com/JuliaLang/julia/tree/a05f87b79ad62beb033817fdfdefa270c9557aaf/base/sparse/sparsematrix.jl#L294\" target=\"_blank\">sparse/sparsematrix.jl:294</a><li> sparse(I,J,v::<b>Number</b>,m,n,combine::<b>Function</b>) at <a href=\"https://github.com/JuliaLang/julia/tree/a05f87b79ad62beb033817fdfdefa270c9557aaf/base/sparse/sparsematrix.jl#L298\" target=\"_blank\">sparse/sparsematrix.jl:298</a></ul>"
      ],
      "text/plain": [
       "# 14 methods for generic function \"sparse\":\n",
       "sparse(a::Array{T,1}) at sparse/sparsematrix.jl:226\n",
       "sparse{Tv}(A::Array{Tv,2}) at sparse/sparsematrix.jl:230\n",
       "sparse(S::SparseMatrixCSC{Tv,Ti<:Integer}) at sparse/sparsematrix.jl:232\n",
       "sparse(A::CholmodSparse{Tv<:Union(Float64,Complex{Float64}),Ti<:Union(Int64,Int32)}) at linalg/cholmod.jl:1055\n",
       "sparse(L::CholmodFactor{Tv<:Union(Float64,Complex{Float64}),Ti<:Union(Int64,Int32)}) at linalg/cholmod.jl:1061\n",
       "sparse(D::CholmodDense{T<:Union(Float64,Complex{Float64})}) at linalg/cholmod.jl:1062\n",
       "sparse(T::CholmodTriplet{Tv<:Union(Float64,Complex{Float64}),Ti<:Union(Int64,Int32)}) at linalg/cholmod.jl:1063\n",
       "sparse(I,J,v::Number) at sparse/sparsematrix.jl:288\n",
       "sparse(I,J,V::AbstractArray{Bool,1},m,n) at sparse/sparsematrix.jl:296\n",
       "sparse{Tv,Ti<:Integer}(I::AbstractArray{Ti<:Integer,1},J::AbstractArray{Ti<:Integer,1},V::AbstractArray{Tv,1},nrow::Integer,ncol::Integer,combine::Function) at sparse/csparse.jl:19\n",
       "sparse(I,J,V::AbstractArray{T,1}) at sparse/sparsematrix.jl:290\n",
       "sparse(I,J,v::Number,m,n) at sparse/sparsematrix.jl:292\n",
       "sparse(I,J,V::AbstractArray{T,1},m,n) at sparse/sparsematrix.jl:294\n",
       "sparse(I,J,v::Number,m,n,combine::Function) at sparse/sparsematrix.jl:298"
      ]
     },
     "execution_count": 43,
     "metadata": {},
     "output_type": "execute_result"
    }
   ],
   "source": [
    "methods(sparse)"
   ]
  },
  {
   "cell_type": "code",
   "execution_count": 92,
   "metadata": {
    "collapsed": false
   },
   "outputs": [
    {
     "name": "stdout",
     "output_type": "stream",
     "text": [
      "elapsed time: 6.209e-6 seconds (288 bytes allocated)\n"
     ]
    },
    {
     "data": {
      "text/plain": [
       "1-element Array{Float64,1}:\n",
       " 0.326775"
      ]
     },
     "execution_count": 92,
     "metadata": {},
     "output_type": "execute_result"
    }
   ],
   "source": [
    "@time a[bs.rowval]'bs.nzval"
   ]
  },
  {
   "cell_type": "code",
   "execution_count": 171,
   "metadata": {
    "collapsed": false
   },
   "outputs": [
    {
     "name": "stdout",
     "output_type": "stream",
     "text": [
      "elapsed time: 7.065e-6 seconds (288 bytes allocated)\n"
     ]
    },
    {
     "data": {
      "text/plain": [
       "1-element Array{Float64,1}:\n",
       " 0.326775"
      ]
     },
     "execution_count": 171,
     "metadata": {},
     "output_type": "execute_result"
    }
   ],
   "source": [
    "@time bs.nzval'a[bs.rowval]"
   ]
  },
  {
   "cell_type": "code",
   "execution_count": 164,
   "metadata": {
    "collapsed": false
   },
   "outputs": [
    {
     "name": "stdout",
     "output_type": "stream",
     "text": [
      "elapsed time: 4.637e-6 seconds (160 bytes allocated)\n"
     ]
    },
    {
     "data": {
      "text/plain": [
       "1-element Array{Float64,1}:\n",
       " 0.326775"
      ]
     },
     "execution_count": 164,
     "metadata": {},
     "output_type": "execute_result"
    }
   ],
   "source": [
    "a1=a[bs.rowval]\n",
    "b1=bs.nzval\n",
    "@time b1'a1"
   ]
  },
  {
   "cell_type": "code",
   "execution_count": 106,
   "metadata": {
    "collapsed": false
   },
   "outputs": [
    {
     "name": "stdout",
     "output_type": "stream",
     "text": [
      "elapsed time: 6.612e-6 seconds (224 bytes allocated)\n"
     ]
    },
    {
     "data": {
      "text/plain": [
       "0.3267754989980334"
      ]
     },
     "execution_count": 106,
     "metadata": {},
     "output_type": "execute_result"
    }
   ],
   "source": [
    "@time dot(bs.nzval,a[bs.rowval])"
   ]
  },
  {
   "cell_type": "code",
   "execution_count": 42,
   "metadata": {
    "collapsed": false
   },
   "outputs": [
    {
     "ename": "LoadError",
     "evalue": "`dot` has no method matching dot(::Array{Float64,1}, ::SparseMatrixCSC{Float64,Int64})\nwhile loading In[42], in expression starting on line 56",
     "output_type": "error",
     "traceback": [
      "`dot` has no method matching dot(::Array{Float64,1}, ::SparseMatrixCSC{Float64,Int64})\nwhile loading In[42], in expression starting on line 56",
      ""
     ]
    }
   ],
   "source": [
    "@time dot(a,bs[:])"
   ]
  },
  {
   "cell_type": "code",
   "execution_count": 172,
   "metadata": {
    "collapsed": false
   },
   "outputs": [
    {
     "name": "stdout",
     "output_type": "stream",
     "text": [
      "/Users/haocheng\n"
     ]
    }
   ],
   "source": [
    ";pwd"
   ]
  }
 ],
 "metadata": {
  "kernelspec": {
   "display_name": "Julia 0.3.5",
   "language": "julia",
   "name": "julia-0.3"
  },
  "language_info": {
   "file_extension": ".jl",
   "mimetype": "application/julia",
   "name": "julia",
   "version": "0.3.5"
  }
 },
 "nbformat": 4,
 "nbformat_minor": 0
}
