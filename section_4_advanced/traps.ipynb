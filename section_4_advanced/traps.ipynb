{
 "cells": [
  {
   "cell_type": "markdown",
   "metadata": {},
   "source": [
    "## traps in Julia"
   ]
  },
  {
   "cell_type": "markdown",
   "metadata": {},
   "source": [
    "<font color=\"red\">$\\bigstar$</font> ***copy and reference***"
   ]
  },
  {
   "cell_type": "markdown",
   "metadata": {},
   "source": [
    "***\n",
    "***copy***\n",
    "***"
   ]
  },
  {
   "cell_type": "code",
   "execution_count": 12,
   "metadata": {
    "collapsed": false
   },
   "outputs": [
    {
     "name": "stdout",
     "output_type": "stream",
     "text": [
      "Make a A matrix\n"
     ]
    },
    {
     "data": {
      "text/plain": [
       "2x2 Array{Float64,2}:\n",
       " 0.0861085  0.442108\n",
       " 0.170735   0.606775"
      ]
     },
     "execution_count": 12,
     "metadata": {},
     "output_type": "execute_result"
    }
   ],
   "source": [
    "println(\"Make a A matrix\")\n",
    "A=rand(2,2)"
   ]
  },
  {
   "cell_type": "code",
   "execution_count": 13,
   "metadata": {
    "collapsed": false
   },
   "outputs": [
    {
     "name": "stdout",
     "output_type": "stream",
     "text": [
      "Get the first row of A\n",
      "change first element in b as 999.0\n",
      "\n",
      "b is \n",
      "[999.0 0.4421084407424509]\n",
      "\n",
      "A is still \n",
      "[0.08610853398342933 0.4421084407424509\n",
      " 0.17073501419200854 0.6067751855925523]\n",
      "\n",
      "Here b is a copy of first row of A, modifying elements in b won't change A\n"
     ]
    }
   ],
   "source": [
    "println(\"Get the first row of A\")\n",
    "b=A[1,:]\n",
    "println(\"change first element in b as 999.0\\n\")\n",
    "b[1]=999.0\n",
    "println(\"b is \\n\", b,\"\\n\")\n",
    "println(\"A is still \\n\", A,\"\\n\")\n",
    "println(\"Here b is a copy of first row of A, modifying elements in b won't change A\")"
   ]
  },
  {
   "cell_type": "markdown",
   "metadata": {},
   "source": [
    "***\n",
    "***reference***\n",
    "***"
   ]
  },
  {
   "cell_type": "code",
   "execution_count": 14,
   "metadata": {
    "collapsed": false
   },
   "outputs": [
    {
     "name": "stdout",
     "output_type": "stream",
     "text": [
      "A is \n",
      "\n",
      "[0.08610853398342933 0.4421084407424509\n",
      " 0.17073501419200854 0.6067751855925523]\n",
      "\n",
      "b is \n",
      "[999.0 0.4421084407424509\n",
      " 0.17073501419200854 0.6067751855925523]\n",
      "\n",
      "A is changed to \n",
      "\n",
      "[999.0 0.4421084407424509\n",
      " 0.17073501419200854 0.6067751855925523]\n",
      "\n",
      "Here b is a reference(alias) of A, modifying elements in b will also modify A\n"
     ]
    }
   ],
   "source": [
    "println(\"A is \\n\\n\", A,\"\\n\")\n",
    "b=A\n",
    "b[1]=999.0\n",
    "\n",
    "println(\"b is \\n\",b ,\"\\n\")\n",
    "println(\"A is changed to \\n\\n\", A,\"\\n\")\n",
    "println(\"Here b is a reference(alias) of A, modifying elements in b will also modify A\")"
   ]
  },
  {
   "cell_type": "markdown",
   "metadata": {},
   "source": [
    "<font color=\"red\">$\\bigstar$</font> ***values and binding*** (John Myles White)"
   ]
  },
  {
   "cell_type": "markdown",
   "metadata": {},
   "source": [
    "<div class=\"span5 alert alert-info\">\n",
    "\n",
    "<ul>\n",
    "  <li>In Julia, the number <code>1</code> is a value.</li>\n",
    "  <li><p>In contrast to operating on a value, the Julia assignment operation shown below creates a binding:</p>\n",
    "    ```\n",
    "    julia> a=1\n",
    "    ```</li>\n",
    "   <li>\n",
    "   <p>This newly created binding is an association between the <b>symbolic name</b> <code>a</code> and the <b>value</b> <code>1</code>. In general, a binding operation always associates a specific value with a specific name. In Julia, the valid names that can be used to create bindings are symbols, because it is important that the names be parseable without ambiguity. For example, the string <code>\"a = 1\"</code> is not an acceptable name for a binding, because it would be ambiguous with the code that binds the value <code>1</code> to the name <code>a</code>.</p>\n",
    "   </li>\n",
    "</ul>\n",
    "\n",
    "</div>"
   ]
  },
  {
   "cell_type": "code",
   "execution_count": 15,
   "metadata": {
    "collapsed": false
   },
   "outputs": [
    {
     "name": "stdout",
     "output_type": "stream",
     "text": [
      "a==b is true\n",
      "Julia considers two objects to be exactly identical using the === operator:\n",
      "a===b is false\n"
     ]
    }
   ],
   "source": [
    "a=[1,2,3]\n",
    "b=[1,2,3]\n",
    "println(\"a==b is \",a==b)\n",
    "println(\"Julia considers two objects to be exactly identical using the === operator:\")\n",
    "println(\"a===b is \",a===b)"
   ]
  },
  {
   "cell_type": "markdown",
   "metadata": {},
   "source": [
    "<div class=\"span5 alert alert-info\">\n",
    "\n",
    "<ul>\n",
    "  <li>an array’s value is a unique identifier that allows one to reliably distinguish each array from every other array.</li>\n",
    "  <li>an array’s value is not equivalent to its contents. </li>\n",
    "</ul>\n",
    "\n",
    "</div>"
   ]
  },
  {
   "cell_type": "markdown",
   "metadata": {},
   "source": [
    "<font color=\"red\">$\\bigstar$</font> ***what's the identifier for an array?***\n",
    "\n",
    "More in **pointer**"
   ]
  },
  {
   "cell_type": "code",
   "execution_count": 17,
   "metadata": {
    "collapsed": false
   },
   "outputs": [
    {
     "name": "stdout",
     "output_type": "stream",
     "text": [
      "a=[1,2,3]\n",
      "the address of the container for a is Ptr{Int64} @0x0000000114fad540\n"
     ]
    }
   ],
   "source": [
    "a=[1,2,3]\n",
    "println(\"a=\",a)\n",
    "println(\"the address of the container for a is \", pointer(a))"
   ]
  },
  {
   "cell_type": "code",
   "execution_count": 18,
   "metadata": {
    "collapsed": false
   },
   "outputs": [
    {
     "name": "stdout",
     "output_type": "stream",
     "text": [
      "Change the first element in a to another value\n",
      "a=[999,2,3]\n",
      "the address of the container for a is still Ptr{Int64} @0x0000000114fad540\n"
     ]
    }
   ],
   "source": [
    "a[1]=999\n",
    "println(\"Change the first element in a to another value\")\n",
    "println(\"a=\",a)\n",
    "println(\"the address of the container for a is still \", pointer(a))"
   ]
  },
  {
   "cell_type": "code",
   "execution_count": 19,
   "metadata": {
    "collapsed": false
   },
   "outputs": [
    {
     "name": "stdout",
     "output_type": "stream",
     "text": [
      "assign an another array (though same values inside)\n",
      "the address of the container for a is changed to Ptr{Int64} @0x0000000115002260\n"
     ]
    }
   ],
   "source": [
    "a=[1,2,3]\n",
    "println(\"assign an another array (though same values inside)\")\n",
    "println(\"the address of the container for a is changed to \", pointer(a))"
   ]
  },
  {
   "cell_type": "markdown",
   "metadata": {},
   "source": [
    "<font color=\"red\">$\\bigstar$</font> ***How about 's the identifier for a value?***\n"
   ]
  },
  {
   "cell_type": "code",
   "execution_count": 20,
   "metadata": {
    "collapsed": false
   },
   "outputs": [
    {
     "data": {
      "text/plain": [
       "true"
      ]
     },
     "execution_count": 20,
     "metadata": {},
     "output_type": "execute_result"
    }
   ],
   "source": [
    "a=1\n",
    "b=1\n",
    "a===b"
   ]
  },
  {
   "cell_type": "markdown",
   "metadata": {},
   "source": [
    "<div class=\"span5 alert alert-info\">\n",
    "\n",
    "<ul>\n",
    "  <li>bindings between a symbol and a value is different. At first, pointer() is not allowed for a value (only work for arrays). Looks like in julia values always save at the a specific address, which means there is one specific address for one value, let's say the value $1$ is always at address $0x000001$. Here a and b refers to the same value, i.e. same address. Quite different from arrays. (More later) </li>\n",
    "</ul>\n",
    "\n",
    "</div>"
   ]
  },
  {
   "cell_type": "markdown",
   "metadata": {},
   "source": [
    "<font color=\"red\">$\\bigstar$</font> ***How about 's the identifier for a value?***"
   ]
  },
  {
   "cell_type": "code",
   "execution_count": 21,
   "metadata": {
    "collapsed": false
   },
   "outputs": [
    {
     "name": "stdout",
     "output_type": "stream",
     "text": [
      "[999,2,3][999,2,3]\n"
     ]
    }
   ],
   "source": [
    "a=[1,2,3]\n",
    "b=a\n",
    "a[1]=999\n",
    "println(a,b)"
   ]
  },
  {
   "cell_type": "code",
   "execution_count": 22,
   "metadata": {
    "collapsed": false
   },
   "outputs": [
    {
     "data": {
      "text/plain": [
       "Ptr{Int64} @0x000000011506c1c0"
      ]
     },
     "execution_count": 22,
     "metadata": {},
     "output_type": "execute_result"
    }
   ],
   "source": [
    "pointer(a)"
   ]
  },
  {
   "cell_type": "code",
   "execution_count": 23,
   "metadata": {
    "collapsed": false
   },
   "outputs": [
    {
     "data": {
      "text/plain": [
       "Ptr{Int64} @0x000000011506c1c0"
      ]
     },
     "execution_count": 23,
     "metadata": {},
     "output_type": "execute_result"
    }
   ],
   "source": [
    "pointer(b)"
   ]
  },
  {
   "cell_type": "markdown",
   "metadata": {},
   "source": [
    "<div class=\"span5 alert alert-success\">\n",
    "\n",
    "<ul>\n",
    "  <li><p>In general, you should not expect that you can change the contents of any container without employing some indexing syntax that allows you to talk about the contents of the container, rather than the container itself.(John Myles White)</p>\n",
    "    <p>\n",
    "    ```\n",
    "    julia> a[1]=1\n",
    "    ```\n",
    "    </p>\n",
    "    <p>\n",
    "    ```\n",
    "    julia> a[:]=[1,1,999]\n",
    "    ```\n",
    "    </p>\n",
    "  </li>\n",
    "  <li>Use a=b to make a and b refer to the same address </li>\n",
    "</ul>\n",
    "<li> It's very DANGEROUS to use <code>a=1</code> or <code>a=[1,2,3]</code> in your functions when juat want to modify the original one, even in julia arguments are passed by reference but these two ways create new a, to avoid this, using\n",
    "```\n",
    "a[:]=[1,2,3]\n",
    "```\n",
    "\n",
    "for arrays and types for values, e.g.\n",
    "<p>\n",
    "```\n",
    "type MyValues\n",
    "a\n",
    "end\n",
    "```\n",
    "</p></li>\n",
    "</div>"
   ]
  },
  {
   "cell_type": "markdown",
   "metadata": {},
   "source": [
    "### reference\n",
    "* Values vs Bindings: The Map is Not the Territory By John Myles White on 9.6.2014"
   ]
  }
 ],
 "metadata": {
  "kernelspec": {
   "display_name": "Julia 0.4.5",
   "language": "julia",
   "name": "julia-0.4"
  },
  "language_info": {
   "file_extension": ".jl",
   "mimetype": "application/julia",
   "name": "julia",
   "version": "0.4.5"
  }
 },
 "nbformat": 4,
 "nbformat_minor": 0
}
