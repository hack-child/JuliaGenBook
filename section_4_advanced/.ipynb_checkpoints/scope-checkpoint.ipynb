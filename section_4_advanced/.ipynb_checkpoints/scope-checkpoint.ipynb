{
 "metadata": {
  "name": "",
  "signature": "sha256:53e95d5196499cca0d77d749e175b8086a200e9e5f3fd34fa605eee67894f5d3"
 },
 "nbformat": 3,
 "nbformat_minor": 0,
 "worksheets": []
}