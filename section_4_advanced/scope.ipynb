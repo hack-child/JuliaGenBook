{
 "metadata": {
  "language": "Julia",
  "name": "",
  "signature": "sha256:8444bc71e58d5131ab152e5f06763595b7227ec4641301797119a47aba620954"
 },
 "nbformat": 3,
 "nbformat_minor": 0,
 "worksheets": [
  {
   "cells": [
    {
     "cell_type": "code",
     "collapsed": false,
     "input": [
      "a=10\n",
      "function myPrint()\n",
      "    println(a)\n",
      "end\n",
      "myPrint()"
     ],
     "language": "python",
     "metadata": {},
     "outputs": [
      {
       "output_type": "stream",
       "stream": "stdout",
       "text": [
        "10\n"
       ]
      }
     ],
     "prompt_number": 2
    },
    {
     "cell_type": "code",
     "collapsed": false,
     "input": [
      "a=10\n",
      "module printit\n",
      " function myPrint()\n",
      "    println(a)\n",
      " end\n",
      "end\n",
      "printit.myPrint()"
     ],
     "language": "python",
     "metadata": {},
     "outputs": [
      {
       "ename": "LoadError",
       "evalue": "a not defined\nwhile loading In[3], in expression starting on line 7",
       "output_type": "pyerr",
       "traceback": [
        "a not defined\nwhile loading In[3], in expression starting on line 7",
        "",
        " in myPrint at In[3]:4"
       ]
      }
     ],
     "prompt_number": 3
    },
    {
     "cell_type": "code",
     "collapsed": false,
     "input": [
      "global a=10\n",
      "printit.myPrint()\n",
      "#global in main; not global in module printit"
     ],
     "language": "python",
     "metadata": {},
     "outputs": [
      {
       "ename": "LoadError",
       "evalue": "a not defined\nwhile loading In[5], in expression starting on line 2",
       "output_type": "pyerr",
       "traceback": [
        "a not defined\nwhile loading In[5], in expression starting on line 2",
        "",
        " in myPrint at In[3]:4"
       ]
      }
     ],
     "prompt_number": 5
    }
   ],
   "metadata": {}
  }
 ]
}