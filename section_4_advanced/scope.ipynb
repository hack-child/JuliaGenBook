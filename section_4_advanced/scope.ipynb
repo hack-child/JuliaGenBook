{
 "cells": [
  {
   "cell_type": "code",
   "execution_count": 2,
   "metadata": {
    "collapsed": false
   },
   "outputs": [
    {
     "name": "stdout",
     "output_type": "stream",
     "text": [
      "10\n"
     ]
    }
   ],
   "source": [
    "a=10\n",
    "function myPrint()\n",
    "    println(a)\n",
    "end\n",
    "myPrint()"
   ]
  },
  {
   "cell_type": "code",
   "execution_count": 3,
   "metadata": {
    "collapsed": false
   },
   "outputs": [
    {
     "ename": "LoadError",
     "evalue": "a not defined\nwhile loading In[3], in expression starting on line 7",
     "output_type": "error",
     "traceback": [
      "a not defined\nwhile loading In[3], in expression starting on line 7",
      "",
      " in myPrint at In[3]:4"
     ]
    }
   ],
   "source": [
    "a=10\n",
    "module printit\n",
    " function myPrint()\n",
    "    println(a)\n",
    " end\n",
    "end\n",
    "printit.myPrint()"
   ]
  },
  {
   "cell_type": "code",
   "execution_count": 5,
   "metadata": {
    "collapsed": false
   },
   "outputs": [
    {
     "ename": "LoadError",
     "evalue": "a not defined\nwhile loading In[5], in expression starting on line 2",
     "output_type": "error",
     "traceback": [
      "a not defined\nwhile loading In[5], in expression starting on line 2",
      "",
      " in myPrint at In[3]:4"
     ]
    }
   ],
   "source": [
    "global a=10\n",
    "printit.myPrint()\n",
    "#global in main; not global in module printit"
   ]
  }
 ],
 "metadata": {
  "kernelspec": {
   "display_name": "Julia 0.4.5",
   "language": "julia",
   "name": "julia-0.4"
  },
  "language_info": {
   "file_extension": ".jl",
   "mimetype": "application/julia",
   "name": "julia",
   "version": "0.4.5"
  }
 },
 "nbformat": 4,
 "nbformat_minor": 0
}
