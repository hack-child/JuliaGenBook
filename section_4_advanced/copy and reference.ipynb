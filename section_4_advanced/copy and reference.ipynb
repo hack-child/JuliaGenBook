{
 "cells": [
  {
   "cell_type": "code",
   "execution_count": 2,
   "metadata": {
    "collapsed": false
   },
   "outputs": [
    {
     "data": {
      "text/plain": [
       "3x3 Array{Float64,2}:\n",
       " 0.819716   0.0342244  0.0510423\n",
       " 0.0577128  0.236684   0.936465 \n",
       " 0.775023   0.622408   0.0245087"
      ]
     },
     "execution_count": 2,
     "metadata": {},
     "output_type": "execute_result"
    }
   ],
   "source": [
    "a=rand(3,3)"
   ]
  },
  {
   "cell_type": "code",
   "execution_count": 12,
   "metadata": {
    "collapsed": false
   },
   "outputs": [
    {
     "name": "stdout",
     "output_type": "stream",
     "text": [
      "c is \n",
      "\n",
      "[999.0 0.03422437844440096 0.05104230711113367]\n",
      "\n",
      "a is still \n",
      "\n",
      "[0.8197159719234364 0.03422437844440096 0.05104230711113367\n",
      " 0.05771279588046019 0.23668366967320664 0.9364645233226421\n",
      " 0.7750227861646963 0.6224076491886941 0.024508663761478422]\n"
     ]
    }
   ],
   "source": [
    "c=a[1,:]\n",
    "c[1]=999\n",
    "\n",
    "println(\"c is \\n\\n\", c ,\"\\n\")\n",
    "println(\"a is still \\n\\n\", a)"
   ]
  },
  {
   "cell_type": "code",
   "execution_count": 14,
   "metadata": {
    "collapsed": false
   },
   "outputs": [
    {
     "name": "stdout",
     "output_type": "stream",
     "text": [
      "b is \n",
      "\n",
      "[1000.0 0.03422437844440096 0.05104230711113367\n",
      " 0.05771279588046019 0.23668366967320664 0.9364645233226421\n",
      " 0.7750227861646963 0.6224076491886941 0.024508663761478422]\n",
      "\n",
      "a is changed to \n",
      "\n",
      "[1000.0 0.03422437844440096 0.05104230711113367\n",
      " 0.05771279588046019 0.23668366967320664 0.9364645233226421\n",
      " 0.7750227861646963 0.6224076491886941 0.024508663761478422]\n"
     ]
    }
   ],
   "source": [
    "b=a\n",
    "b[1]=1000\n",
    "\n",
    "println(\"b is \\n\\n\",b ,\"\\n\")\n",
    "println(\"a is changed to \\n\\n\", a)"
   ]
  }
 ],
 "metadata": {
  "kernelspec": {
   "display_name": "Julia 0.3.5",
   "language": "julia",
   "name": "julia-0.3"
  },
  "language_info": {
   "name": "julia",
   "version": "0.3.5"
  }
 },
 "nbformat": 4,
 "nbformat_minor": 0
}
