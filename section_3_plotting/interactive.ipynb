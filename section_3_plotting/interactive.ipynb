{
 "metadata": {
  "language": "Julia",
  "name": "",
  "signature": "sha256:b89821ac51847e213f2a2971ea9a76c889a174615f9a8712b5dd346a17d2df97"
 },
 "nbformat": 3,
 "nbformat_minor": 0,
 "worksheets": [
  {
   "cells": [
    {
     "cell_type": "code",
     "collapsed": false,
     "input": [
      "using Distributions\n",
      "\n",
      "m=[0,0]\n",
      "v=[1.0 0.6\n",
      "   0.6 1.0]\n",
      "nrow=100\n",
      "ncol=2\n",
      "ypair=Array(Float64,nrow,ncol);\n",
      "\n",
      "y=Array(Float64,1,2)\n",
      "\n",
      "s12 =sqrt( v[1,1] - v[1,2]*v[1,2]/v[2,2]);\n",
      "s21 = sqrt(v[2,2] - v[1,2]*v[1,2]/v[1,1]);\n",
      "for (iter in 1:100)\n",
      "    m12 = m[1] + v[1,2]/v[2,2]*(y[2] - m[2]);\n",
      "    y[1] = rand(Normal(m12,s12));\n",
      "    m21 = m[2] + v[1,2]/v[1,1]*(y[1] - m[1]);\n",
      "    y[2] = rand(Normal(m21,s21));    \n",
      "    ypair[iter,:]=y\n",
      "end\n",
      "\n",
      "indexsort=sort(ypair[:,1],rev=true)\n",
      "best=0.05*nrow\n",
      "index=mean(indexsort[1:best])\n",
      "println(\"Selection on $index superiority = \", index)\n",
      "\n",
      "\n",
      "lower_1 = m[1]-3*v[1,1]\n",
      "upper_1 = m[1]+3*v[1,1]\n",
      "lower_2 = m[2]-3*v[2,2]\n",
      "upper_2 = m[2]+3*v[2,2]"
     ],
     "language": "python",
     "metadata": {},
     "outputs": []
    },
    {
     "cell_type": "markdown",
     "metadata": {},
     "source": [
      "###Winston"
     ]
    },
    {
     "cell_type": "code",
     "collapsed": false,
     "input": [
      "using Winston"
     ],
     "language": "python",
     "metadata": {},
     "outputs": []
    },
    {
     "cell_type": "code",
     "collapsed": false,
     "input": [
      "p = FramedPlot(\n",
      "         title=\"Bivariate Samples - Gibbs Sampling\",\n",
      "         xlabel=\"Trait 1\",\n",
      "         ylabel=\"Trait 2\",\n",
      "         xrange=(lower_1,upper_1),\n",
      "         yrange=(lower_2,upper_2))\n",
      "\n",
      "point1=Points(ypair[1,1],ypair[1,2],color=\"green\")\n",
      "point2=Points(ypair[1,1],ypair[1,2])\n",
      "add(p,point1)\n",
      "\n",
      "for iter=2:nrow\n",
      "    readline(STDIN)\n",
      "    point1=Points(ypair[iter-1,1],ypair[iter,2],color=\"green\")\n",
      "    add(p,point1,point2)\n",
      "    display(p)\n",
      "    point1=Points(ypair[iter-1,1],ypair[iter,2]) #change to black\n",
      "\n",
      "    readline(STDIN)\n",
      "    point2=Points(ypair[iter,1],ypair[iter,2],color=\"green\")\n",
      "    add(p, point1,point2)\n",
      "    display(p)\n",
      "    point2=Points(ypair[iter,1],ypair[iter,2]) #change to black\n",
      "end;"
     ],
     "language": "python",
     "metadata": {},
     "outputs": []
    },
    {
     "cell_type": "markdown",
     "metadata": {},
     "source": [
      "###Interact"
     ]
    },
    {
     "cell_type": "code",
     "collapsed": false,
     "input": [
      "using Interact"
     ],
     "language": "python",
     "metadata": {},
     "outputs": []
    },
    {
     "cell_type": "code",
     "collapsed": false,
     "input": [
      "using Reactive"
     ],
     "language": "python",
     "metadata": {},
     "outputs": []
    },
    {
     "cell_type": "code",
     "collapsed": false,
     "input": [
      "using Gadfly"
     ],
     "language": "python",
     "metadata": {},
     "outputs": []
    },
    {
     "cell_type": "code",
     "collapsed": false,
     "input": [
      "myplot=\n",
      "plot(x=covariate, y=response,Geom.point,\n",
      "layer([x->0.25x+0.5],0,1),\n",
      "Guide.xlabel(\"Covariate\"), \n",
      "Guide.ylabel(\"Response\"), \n",
      "Guide.title(\"Plotting\"))"
     ],
     "language": "python",
     "metadata": {},
     "outputs": []
    },
    {
     "cell_type": "code",
     "collapsed": false,
     "input": [
      "a=[1,2,3]\n",
      "repeat(a,inner=[2,3])"
     ],
     "language": "python",
     "metadata": {},
     "outputs": []
    },
    {
     "cell_type": "code",
     "collapsed": false,
     "input": [
      "gady1,gady2=[ypair[1,1]],[ypair[1,2]]\n",
      "    \n",
      "for i=2:nrow\n",
      "    push!(gady1,ypair[i-1,1])\n",
      "    push!(gady2,ypair[i,2])\n",
      "    push!(gady1,ypair[i-1,1])\n",
      "    push!(gady2,ypair[i,2])\n",
      "end"
     ],
     "language": "python",
     "metadata": {},
     "outputs": []
    },
    {
     "cell_type": "code",
     "collapsed": false,
     "input": [],
     "language": "python",
     "metadata": {},
     "outputs": []
    },
    {
     "cell_type": "code",
     "collapsed": false,
     "input": [
      "@manipulate for n=1:25        \n",
      "    Gadfly.plot(y=gady1[1:n], x=gady2[2:(n+1)],\n",
      "    Geom.point, Theme(default_color=color(\"orange\")))\n",
      "end"
     ],
     "language": "python",
     "metadata": {},
     "outputs": []
    },
    {
     "cell_type": "code",
     "collapsed": false,
     "input": [
      "@manipulate for n=1:25\n",
      "\n",
      "p = FramedPlot(\n",
      "         title=\"Bivariate Samples - Gibbs Sampling\",\n",
      "         xlabel=\"Trait 1\",\n",
      "         ylabel=\"Trait 2\",\n",
      "         xrange=(lower_1,upper_1),\n",
      "         yrange=(lower_2,upper_2))\n",
      "    for i=1:n  \n",
      "        point1=Points(ypair[n,1],ypair[n,2],color=\"green\")\n",
      "        add(p,point1)\n",
      "    end\n",
      "    p\n",
      "end"
     ],
     "language": "python",
     "metadata": {},
     "outputs": []
    },
    {
     "cell_type": "code",
     "collapsed": false,
     "input": [
      "@manipulate for nrow=4:7\n",
      "\n",
      "p = FramedPlot(\n",
      "         title=\"Bivariate Samples - Gibbs Sampling\",\n",
      "         xlabel=\"Trait 1\",\n",
      "         ylabel=\"Trait 2\",\n",
      "         xrange=(lower_1,upper_1),\n",
      "         yrange=(lower_2,upper_2))\n",
      "\n",
      "point1=Points(ypair[1,1],ypair[1,2],color=\"green\")\n",
      "point2=Points(ypair[1,1],ypair[1,2])\n",
      "add(p,point1)\n",
      "    display(p)    \n",
      "\n",
      "\n",
      "for iter=2:nrow\n",
      "\tpoint1=Points(ypair[iter-1,1],ypair[iter,2],color=\"green\")\n",
      "\tadd(p,point1,point2)\n",
      "\t\n",
      "\tpoint2=Points(ypair[iter,1],ypair[iter,2],color=\"green\")\n",
      "\tadd(p, point1,point2)\n",
      "end\n",
      "    \n",
      "    display(p)    \n",
      "end"
     ],
     "language": "python",
     "metadata": {},
     "outputs": []
    }
   ],
   "metadata": {}
  }
 ]
}