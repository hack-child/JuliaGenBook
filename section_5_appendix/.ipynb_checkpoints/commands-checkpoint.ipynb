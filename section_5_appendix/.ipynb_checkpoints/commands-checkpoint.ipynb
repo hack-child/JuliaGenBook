{
 "cells": [
  {
   "cell_type": "markdown",
   "metadata": {},
   "source": [
    "<font color=\"red\">1. sort by second columns then first column in descending order</font>"
   ]
  },
  {
   "cell_type": "code",
   "execution_count": 5,
   "metadata": {
    "collapsed": false
   },
   "outputs": [
    {
     "data": {
      "text/plain": [
       "3x3 Array{Int64,2}:\n",
       " 1  4  5\n",
       " 5  2  1\n",
       " 2  2  4"
      ]
     },
     "execution_count": 5,
     "metadata": {},
     "output_type": "execute_result"
    }
   ],
   "source": [
    "a=[1 4 5\n",
    "   5 2 1\n",
    "   2 2 4]"
   ]
  },
  {
   "cell_type": "code",
   "execution_count": 11,
   "metadata": {
    "collapsed": false
   },
   "outputs": [
    {
     "data": {
      "text/plain": [
       "3x3 Array{Int64,2}:\n",
       " 1  4  5\n",
       " 5  2  1\n",
       " 2  2  4"
      ]
     },
     "execution_count": 11,
     "metadata": {},
     "output_type": "execute_result"
    }
   ],
   "source": [
    "sortrows(a, by=x->(x[2],x[1]),rev=true)"
   ]
  },
  {
   "cell_type": "markdown",
   "metadata": {},
   "source": [
    "<font color=\"red\">2. submatrix</font>"
   ]
  },
  {
   "cell_type": "code",
   "execution_count": 14,
   "metadata": {
    "collapsed": false
   },
   "outputs": [
    {
     "data": {
      "text/plain": [
       "5x5 Array{Float64,2}:\n",
       " 0.797137  0.270514  0.917754  0.545996  0.285527\n",
       " 0.973702  0.748511  0.402551  0.848309  0.951121\n",
       " 0.725661  0.698808  0.93761   0.422556  0.982648\n",
       " 0.041232  0.922575  0.459169  0.931272  0.435496\n",
       " 0.411451  0.333348  0.35009   0.421053  0.098248"
      ]
     },
     "execution_count": 14,
     "metadata": {},
     "output_type": "execute_result"
    }
   ],
   "source": [
    "b=rand(5,5)"
   ]
  },
  {
   "cell_type": "code",
   "execution_count": 19,
   "metadata": {
    "collapsed": false
   },
   "outputs": [
    {
     "data": {
      "text/plain": [
       "2x3 Array{Float64,2}:\n",
       " 0.917754  0.545996  0.285527\n",
       " 0.93761   0.422556  0.982648"
      ]
     },
     "execution_count": 19,
     "metadata": {},
     "output_type": "execute_result"
    }
   ],
   "source": [
    "rows=[1,3]\n",
    "columns=[3:size(b,2)]\n",
    "b[rows,columns]"
   ]
  },
  {
   "cell_type": "markdown",
   "metadata": {},
   "source": [
    "<font color=\"red\">3. list functions in a module (or check a function)</font>"
   ]
  },
  {
   "cell_type": "code",
   "execution_count": 8,
   "metadata": {
    "collapsed": true
   },
   "outputs": [],
   "source": [
    "using PedModule"
   ]
  },
  {
   "cell_type": "code",
   "execution_count": 9,
   "metadata": {
    "collapsed": false
   },
   "outputs": [
    {
     "data": {
      "text/plain": [
       "12-element Array{Symbol,1}:\n",
       " :PedModule      \n",
       " :fillMap!       \n",
       " :PedNode        \n",
       " :AInverse       \n",
       " :genoSet!       \n",
       " :code!          \n",
       " :Pedigree       \n",
       " :calcInbreeding!\n",
       " :mkPed          \n",
       " :eval           \n",
       " :calcAddRel!    \n",
       " :getIDs         "
      ]
     },
     "execution_count": 9,
     "metadata": {},
     "output_type": "execute_result"
    }
   ],
   "source": [
    "names(PedModule, true)"
   ]
  },
  {
   "cell_type": "code",
   "execution_count": 10,
   "metadata": {
    "collapsed": false
   },
   "outputs": [
    {
     "data": {
      "text/html": [
       "1 method for generic function <b>code!</b>:<ul><li> code!(ped::<b>Pedigree</b>,id::<b>UTF8String</b>) at <a href=\"https://github.com/reworkhow/PedModule.jl/tree/9e2f181dbd78c227f8ffe43dc12f5451dc6cd5e8/src/PedModule.jl#L22\" target=\"_blank\">/Users/haocheng/.julia/v0.3/PedModule/src/PedModule.jl:22</a></ul>"
      ],
      "text/plain": [
       "# 1 method for generic function \"code!\":\n",
       "code!(ped::Pedigree,id::UTF8String) at /Users/haocheng/.julia/v0.3/PedModule/src/PedModule.jl:22"
      ]
     },
     "execution_count": 10,
     "metadata": {},
     "output_type": "execute_result"
    }
   ],
   "source": [
    "methods(PedModule.code!)"
   ]
  },
  {
   "cell_type": "markdown",
   "metadata": {},
   "source": [
    "<font color=\"red\">3. find function (similar to which function in R)</font>"
   ]
  },
  {
   "cell_type": "code",
   "execution_count": 1,
   "metadata": {
    "collapsed": false
   },
   "outputs": [
    {
     "data": {
      "text/plain": [
       "2-element Array{Int64,1}:\n",
       " 2\n",
       " 3"
      ]
     },
     "execution_count": 1,
     "metadata": {},
     "output_type": "execute_result"
    }
   ],
   "source": [
    "a=[3,7,9]\n",
    "find(x->x>4,a)"
   ]
  }
 ],
 "metadata": {
  "kernelspec": {
   "display_name": "Julia 0.3.11",
   "language": "julia",
   "name": "julia-0.3"
  },
  "language_info": {
   "name": "julia",
   "version": "0.3.11"
  }
 },
 "nbformat": 4,
 "nbformat_minor": 0
}
