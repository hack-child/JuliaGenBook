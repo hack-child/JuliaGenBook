{
 "cells": [
  {
   "cell_type": "markdown",
   "metadata": {},
   "source": [
    "###Matrix and Vector"
   ]
  },
  {
   "cell_type": "markdown",
   "metadata": {},
   "source": [
    "The data structure **array** is used in Julia for matrix algebra. Let's start with constructing matrices and vectors. "
   ]
  },
  {
   "cell_type": "markdown",
   "metadata": {},
   "source": [
    "####<font,color=\"blue\">construct a matrix</font>"
   ]
  },
  {
   "cell_type": "code",
   "execution_count": 10,
   "metadata": {
    "collapsed": false
   },
   "outputs": [
    {
     "data": {
      "text/plain": [
       "2x3 Array{Int64,2}:\n",
       " 1  2  1\n",
       " 2  1  3"
      ]
     },
     "execution_count": 10,
     "metadata": {},
     "output_type": "execute_result"
    }
   ],
   "source": [
    "X1=[1 2 1\n",
    "   2 1 3]\n",
    "\n",
    "X2=[1 2 1; 2 1 3]"
   ]
  },
  {
   "cell_type": "code",
   "execution_count": 11,
   "metadata": {
    "collapsed": false
   },
   "outputs": [
    {
     "name": "stdout",
     "output_type": "stream",
     "text": [
      "The type of X1 is Array{Int64,2}\n",
      "The type of X2 is Array{Int64,2}\n"
     ]
    }
   ],
   "source": [
    "println(\"The type of X1 is \",typeof(X1))\n",
    "println(\"The type of X2 is \",typeof(X2))"
   ]
  },
  {
   "cell_type": "markdown",
   "metadata": {},
   "source": [
    "The **typeof( )** function is used to check the type of the matrix.\n",
    "\n",
    "> Array{Int64,2} \n",
    "\n",
    "This array has 2 dimension and the type of the elements contained in the array is Int64."
   ]
  },
  {
   "cell_type": "markdown",
   "metadata": {},
   "source": [
    "####<font,color=\"blue\">construct a vector</font>"
   ]
  },
  {
   "cell_type": "code",
   "execution_count": 12,
   "metadata": {
    "collapsed": false
   },
   "outputs": [
    {
     "data": {
      "text/plain": [
       "3-element Array{Int64,1}:\n",
       " 1\n",
       " 2\n",
       " 3"
      ]
     },
     "execution_count": 12,
     "metadata": {},
     "output_type": "execute_result"
    }
   ],
   "source": [
    "y=[1,2,3]"
   ]
  },
  {
   "cell_type": "code",
   "execution_count": 13,
   "metadata": {
    "collapsed": false
   },
   "outputs": [
    {
     "name": "stdout",
     "output_type": "stream",
     "text": [
      "The type of y is Array{Int64,1}\n"
     ]
    }
   ],
   "source": [
    "println(\"The type of y is \",typeof(y))"
   ]
  },
  {
   "cell_type": "markdown",
   "metadata": {},
   "source": [
    "A vector is a one-dimension array."
   ]
  },
  {
   "cell_type": "markdown",
   "metadata": {},
   "source": [
    "####<font,color=\"blue\">construct a special matrix or vector</font>"
   ]
  },
  {
   "cell_type": "code",
   "execution_count": 2,
   "metadata": {
    "collapsed": false
   },
   "outputs": [
    {
     "name": "stdout",
     "output_type": "stream",
     "text": [
      "construct an empty vector\n",
      "[]\n",
      "construct another empty vector\n",
      "[]\n",
      "construct a linearly-spaced vector\n",
      "[1,3,5,7,9]\n",
      "construct a matrix of 1s\n",
      "[1.0 1.0 1.0\n",
      " 1.0 1.0 1.0]\n",
      "construct a matrix of 0s\n",
      "[0.0 0.0 0.0\n",
      " 0.0 0.0 0.0]\n",
      "construct a matrix of true\n",
      "Bool[true true true\n",
      "     true true true]\n",
      "construct a matrix with elements sampled from random normal then modify it\n",
      "[-0.18 -0.93 -0.86\n",
      " -0.63 0.89 0.39]\n",
      "[-0.18 1000.0 -0.86\n",
      " -0.63 0.89 0.39]\n",
      "construct a heterogeneous vector\n",
      "{10,\"hello\"}\n"
     ]
    }
   ],
   "source": [
    "println(\"construct an empty vector\")\n",
    "println(Array(Float64,0))\n",
    "\n",
    "println(\"construct another empty vector\")\n",
    "println(Float64[])\n",
    "\n",
    "println(\"construct a linearly-spaced vector\")\n",
    "println([1:2:10])\n",
    "\n",
    "println(\"construct a matrix of 1s\")\n",
    "println(ones(2,3))\n",
    "\n",
    "println(\"construct a matrix of 0s\")\n",
    "println(zeros(2,3))\n",
    "\n",
    "println(\"construct a matrix of true\")\n",
    "println(trues(2,3))\n",
    "\n",
    "println(\"construct a matrix with elements sampled from random normal then modify it\")\n",
    "A=round(randn(2,3),2)\n",
    "println(A)\n",
    "A[1,2]=1000\n",
    "println(A)\n",
    "\n",
    "println(\"construct a heterogeneous vector\")\n",
    "a=cell(2); a[1]=10; a[2]=\"hello\"\n",
    "println(a)"
   ]
  },
  {
   "cell_type": "markdown",
   "metadata": {},
   "source": [
    "####<font,color=\"blue\">Basic funtions for arrays</font>"
   ]
  },
  {
   "cell_type": "code",
   "execution_count": 15,
   "metadata": {
    "collapsed": false
   },
   "outputs": [
    {
     "data": {
      "text/plain": [
       "2x4 Array{Int64,2}:\n",
       " 1  2  1  2\n",
       " 1  3  1  2"
      ]
     },
     "execution_count": 15,
     "metadata": {},
     "output_type": "execute_result"
    }
   ],
   "source": [
    "X=[1 2 1 2;1 3 1 2]"
   ]
  },
  {
   "cell_type": "code",
   "execution_count": 16,
   "metadata": {
    "collapsed": false
   },
   "outputs": [
    {
     "name": "stdout",
     "output_type": "stream",
     "text": [
      "The number of elements in X is 8\n",
      "The number of rows and columns in X is (2,4)\n",
      "The number of columns in X is 4\n"
     ]
    }
   ],
   "source": [
    "println(\"The number of elements in X is \",length(X))\n",
    "println(\"The number of rows and columns in X is \",size(X))\n",
    "println(\"The number of columns in X is \",size(X,2))"
   ]
  },
  {
   "cell_type": "markdown",
   "metadata": {},
   "source": [
    "####<font,color=\"blue\">Learn other functions for array by an example</font>"
   ]
  },
  {
   "cell_type": "markdown",
   "metadata": {},
   "source": [
    "<font,color=\"charcoal\">1. declare an uninitilazed matrix $M$</font>"
   ]
  },
  {
   "cell_type": "code",
   "execution_count": 17,
   "metadata": {
    "collapsed": false
   },
   "outputs": [
    {
     "data": {
      "text/plain": [
       "2x3 Array{Float64,2}:\n",
       " 2.22719e-314  2.22728e-314  2.22727e-314\n",
       " 2.22722e-314  2.22729e-314  2.22714e-314"
      ]
     },
     "execution_count": 17,
     "metadata": {},
     "output_type": "execute_result"
    }
   ],
   "source": [
    "M=Array(Float64,2,3) #or Float64[2,3]"
   ]
  },
  {
   "cell_type": "markdown",
   "metadata": {},
   "source": [
    "<font,color=\"charcoal\">2. fill $M$ with a value</font>"
   ]
  },
  {
   "cell_type": "code",
   "execution_count": 18,
   "metadata": {
    "collapsed": false
   },
   "outputs": [
    {
     "data": {
      "text/plain": [
       "2x3 Array{Float64,2}:\n",
       " 3.0  3.0  3.0\n",
       " 3.0  3.0  3.0"
      ]
     },
     "execution_count": 18,
     "metadata": {},
     "output_type": "execute_result"
    }
   ],
   "source": [
    "fill!(M,3.0)\n",
    "M"
   ]
  },
  {
   "cell_type": "markdown",
   "metadata": {},
   "source": [
    "<font,color=\"charcoal\">3. construct a $3\\times 3$ identity matrix</font>"
   ]
  },
  {
   "cell_type": "code",
   "execution_count": 19,
   "metadata": {
    "collapsed": false
   },
   "outputs": [
    {
     "data": {
      "text/plain": [
       "3x3 Array{Float64,2}:\n",
       " 1.0  0.0  0.0\n",
       " 0.0  1.0  0.0\n",
       " 0.0  0.0  1.0"
      ]
     },
     "execution_count": 19,
     "metadata": {},
     "output_type": "execute_result"
    }
   ],
   "source": [
    "I=eye(3)"
   ]
  },
  {
   "cell_type": "markdown",
   "metadata": {},
   "source": [
    "<font,color=\"charcoal\">4. concatenate $M$ and $I$ vertically</font>"
   ]
  },
  {
   "cell_type": "code",
   "execution_count": 20,
   "metadata": {
    "collapsed": false
   },
   "outputs": [
    {
     "data": {
      "text/plain": [
       "5x3 Array{Float64,2}:\n",
       " 3.0  3.0  3.0\n",
       " 3.0  3.0  3.0\n",
       " 1.0  0.0  0.0\n",
       " 0.0  1.0  0.0\n",
       " 0.0  0.0  1.0"
      ]
     },
     "execution_count": 20,
     "metadata": {},
     "output_type": "execute_result"
    }
   ],
   "source": [
    "M2=vcat(M,I)"
   ]
  },
  {
   "cell_type": "markdown",
   "metadata": {},
   "source": [
    "<font,color=\"charcoal\">5. reshape $M2$</font>"
   ]
  },
  {
   "cell_type": "code",
   "execution_count": 21,
   "metadata": {
    "collapsed": false
   },
   "outputs": [
    {
     "data": {
      "text/plain": [
       "3x5 Array{Float64,2}:\n",
       " 3.0  0.0  3.0  0.0  0.0\n",
       " 3.0  0.0  0.0  3.0  0.0\n",
       " 1.0  3.0  1.0  3.0  1.0"
      ]
     },
     "execution_count": 21,
     "metadata": {},
     "output_type": "execute_result"
    }
   ],
   "source": [
    "M2=reshape(M2,3,5)"
   ]
  },
  {
   "cell_type": "markdown",
   "metadata": {},
   "source": [
    "<font,color=\"charcoal\">6. copy $M2$ to $M3$</font>"
   ]
  },
  {
   "cell_type": "code",
   "execution_count": 22,
   "metadata": {
    "collapsed": false
   },
   "outputs": [
    {
     "data": {
      "text/plain": [
       "3x5 Array{Float64,2}:\n",
       " 3.0  0.0  3.0  0.0  0.0\n",
       " 3.0  0.0  0.0  3.0  0.0\n",
       " 1.0  3.0  1.0  3.0  1.0"
      ]
     },
     "execution_count": 22,
     "metadata": {},
     "output_type": "execute_result"
    }
   ],
   "source": [
    "M3=copy(M2)"
   ]
  },
  {
   "cell_type": "markdown",
   "metadata": {},
   "source": [
    "<font,color=\"charcoal\">7. Get subset of $M3$</font>"
   ]
  },
  {
   "cell_type": "code",
   "execution_count": 23,
   "metadata": {
    "collapsed": false
   },
   "outputs": [
    {
     "data": {
      "text/plain": [
       "2x2 Array{Float64,2}:\n",
       " 3.0  0.0\n",
       " 1.0  1.0"
      ]
     },
     "execution_count": 23,
     "metadata": {},
     "output_type": "execute_result"
    }
   ],
   "source": [
    "M3[2:end,[1,3]]"
   ]
  },
  {
   "cell_type": "code",
   "execution_count": 24,
   "metadata": {
    "collapsed": false
   },
   "outputs": [
    {
     "data": {
      "text/plain": [
       "3x3 Array{Float64,2}:\n",
       " 3.0  0.0  3.0\n",
       " 3.0  0.0  0.0\n",
       " 1.0  3.0  1.0"
      ]
     },
     "execution_count": 24,
     "metadata": {},
     "output_type": "execute_result"
    }
   ],
   "source": [
    "M3[:,1:3]"
   ]
  },
  {
   "cell_type": "markdown",
   "metadata": {},
   "source": [
    "####<font,color=\"blue\">Learn advanced functions for array by an example</font>"
   ]
  },
  {
   "cell_type": "markdown",
   "metadata": {},
   "source": [
    "**construct an array using comprehensions**"
   ]
  },
  {
   "cell_type": "code",
   "execution_count": 45,
   "metadata": {
    "collapsed": false
   },
   "outputs": [
    {
     "name": "stderr",
     "output_type": "stream",
     "text": [
      "Warning: redefining constant x\n"
     ]
    },
    {
     "data": {
      "text/plain": [
       "3-element Array{Float64,1}:\n",
       "  2.0\n",
       "  5.0\n",
       " 10.0"
      ]
     },
     "execution_count": 45,
     "metadata": {},
     "output_type": "execute_result"
    }
   ],
   "source": [
    "x=[1:3]\n",
    "s=Float64[x[i]^2+1 for i=1:length(x)]"
   ]
  },
  {
   "cell_type": "markdown",
   "metadata": {},
   "source": [
    "**elementwise operator**"
   ]
  },
  {
   "cell_type": "code",
   "execution_count": 46,
   "metadata": {
    "collapsed": false
   },
   "outputs": [
    {
     "data": {
      "text/plain": [
       "3-element Array{Int64,1}:\n",
       " 1\n",
       " 4\n",
       " 9"
      ]
     },
     "execution_count": 46,
     "metadata": {},
     "output_type": "execute_result"
    }
   ],
   "source": [
    "a=[1,2,3]\n",
    "a.*a     #elemetwise operator"
   ]
  },
  {
   "cell_type": "markdown",
   "metadata": {},
   "source": [
    "**construct matrices with repeated parts**"
   ]
  },
  {
   "cell_type": "code",
   "execution_count": 55,
   "metadata": {
    "collapsed": false
   },
   "outputs": [
    {
     "name": "stdout",
     "output_type": "stream",
     "text": [
      "[1 2 3 1 2 3 1 2 3\n",
      " 1 2 3 1 2 3 1 2 3]\n",
      "[1 1 1 2 2 2 3 3 3\n",
      " 1 1 1 2 2 2 3 3 3]\n"
     ]
    }
   ],
   "source": [
    "m=[1 2 3]\n",
    "println(repmat(m,2,3))\n",
    "println(repeat(m,inner=[2,3]))"
   ]
  },
  {
   "cell_type": "markdown",
   "metadata": {},
   "source": [
    "**Broadcasting**"
   ]
  },
  {
   "cell_type": "markdown",
   "metadata": {},
   "source": [
    "broadcast( ) can save lots of memory."
   ]
  },
  {
   "cell_type": "code",
   "execution_count": 26,
   "metadata": {
    "collapsed": false
   },
   "outputs": [
    {
     "data": {
      "text/plain": [
       "2x2 Array{Float64,2}:\n",
       " 0.1  0.2\n",
       " 0.3  0.4"
      ]
     },
     "execution_count": 26,
     "metadata": {},
     "output_type": "execute_result"
    }
   ],
   "source": [
    "a=[10.0 1.0]\n",
    "b=[0.1 0.2;0.3 0.4]"
   ]
  },
  {
   "cell_type": "code",
   "execution_count": 27,
   "metadata": {
    "collapsed": false
   },
   "outputs": [
    {
     "data": {
      "text/plain": [
       "2x2 Array{Float64,2}:\n",
       " 10.1  1.2\n",
       " 10.3  1.4"
      ]
     },
     "execution_count": 27,
     "metadata": {},
     "output_type": "execute_result"
    }
   ],
   "source": [
    "broadcast(+,a,b)"
   ]
  },
  {
   "cell_type": "markdown",
   "metadata": {},
   "source": [
    "####<font,color=\"blue\">sparse matrix</font>"
   ]
  },
  {
   "cell_type": "markdown",
   "metadata": {},
   "source": [
    "In Julia, data structure **sparse matrix** can be used to reduce computing time and memory when enough elements in the matrix are zeros."
   ]
  },
  {
   "cell_type": "markdown",
   "metadata": {},
   "source": [
    "<font,color=\"charcoal\">1. construct a sparse matrix of zeros</font>"
   ]
  },
  {
   "cell_type": "code",
   "execution_count": 29,
   "metadata": {
    "collapsed": false
   },
   "outputs": [
    {
     "data": {
      "text/plain": [
       "2x3 sparse matrix with 0 Float64 entries:"
      ]
     },
     "execution_count": 29,
     "metadata": {},
     "output_type": "execute_result"
    }
   ],
   "source": [
    "spzeros(2,3)"
   ]
  },
  {
   "cell_type": "markdown",
   "metadata": {},
   "source": [
    "<font,color=\"charcoal\">2. construct a identity sparse matrix of zeros</font>"
   ]
  },
  {
   "cell_type": "code",
   "execution_count": 31,
   "metadata": {
    "collapsed": false
   },
   "outputs": [
    {
     "data": {
      "text/plain": [
       "2x3 sparse matrix with 2 Float64 entries:\n",
       "\t[1, 1]  =  1.0\n",
       "\t[2, 2]  =  1.0"
      ]
     },
     "execution_count": 31,
     "metadata": {},
     "output_type": "execute_result"
    }
   ],
   "source": [
    "S=speye(2,3)"
   ]
  },
  {
   "cell_type": "markdown",
   "metadata": {},
   "source": [
    "<font,color=\"charcoal\">3. get index and elements</font>"
   ]
  },
  {
   "cell_type": "code",
   "execution_count": 32,
   "metadata": {
    "collapsed": false
   },
   "outputs": [
    {
     "data": {
      "text/plain": [
       "([1,2],[1,2],[1.0,1.0])"
      ]
     },
     "execution_count": 32,
     "metadata": {},
     "output_type": "execute_result"
    }
   ],
   "source": [
    "findnz(S)"
   ]
  },
  {
   "cell_type": "markdown",
   "metadata": {},
   "source": [
    "<font,color=\"charcoal\">4. convert dense(sparse) matrices to sparse(dense) matrices</font>"
   ]
  },
  {
   "cell_type": "code",
   "execution_count": 36,
   "metadata": {
    "collapsed": false
   },
   "outputs": [
    {
     "data": {
      "text/plain": [
       "2x3 Array{Float64,2}:\n",
       " 1.0  0.0  0.0\n",
       " 0.0  1.0  0.0"
      ]
     },
     "execution_count": 36,
     "metadata": {},
     "output_type": "execute_result"
    }
   ],
   "source": [
    "D=full(S)"
   ]
  },
  {
   "cell_type": "code",
   "execution_count": 37,
   "metadata": {
    "collapsed": false
   },
   "outputs": [
    {
     "data": {
      "text/plain": [
       "2x3 sparse matrix with 2 Float64 entries:\n",
       "\t[1, 1]  =  1.0\n",
       "\t[2, 2]  =  1.0"
      ]
     },
     "execution_count": 37,
     "metadata": {},
     "output_type": "execute_result"
    }
   ],
   "source": [
    "sparse(D)"
   ]
  }
 ],
 "metadata": {
  "kernelspec": {
   "display_name": "Julia 0.3.5",
   "language": "julia",
   "name": "julia-0.3"
  },
  "language_info": {
   "name": "julia",
   "version": "0.3.5"
  }
 },
 "nbformat": 4,
 "nbformat_minor": 0
}
