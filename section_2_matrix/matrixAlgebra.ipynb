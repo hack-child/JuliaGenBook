{
 "metadata": {
  "language": "Julia",
  "name": "",
  "signature": "sha256:a9e1108abf4d12c0897570725cbb005afad36da63961c0fdd3bda5a5bb081624"
 },
 "nbformat": 3,
 "nbformat_minor": 0,
 "worksheets": [
  {
   "cells": [
    {
     "cell_type": "markdown",
     "metadata": {},
     "source": [
      "####<font,color=\"blue\">The notations for matrix algebra in Julia are beautiful. The transpose of a matrix is just</font>"
     ]
    },
    {
     "cell_type": "code",
     "collapsed": false,
     "input": [
      "X=[1 2;3 4]"
     ],
     "language": "python",
     "metadata": {},
     "outputs": [
      {
       "metadata": {},
       "output_type": "pyout",
       "prompt_number": 16,
       "text": [
        "2x2 Array{Int64,2}:\n",
        " 1  2\n",
        " 3  4"
       ]
      }
     ],
     "prompt_number": 16
    },
    {
     "cell_type": "code",
     "collapsed": false,
     "input": [
      "X'"
     ],
     "language": "python",
     "metadata": {},
     "outputs": [
      {
       "metadata": {},
       "output_type": "pyout",
       "prompt_number": 2,
       "text": [
        "2x2 Array{Int64,2}:\n",
        " 1  3\n",
        " 2  4"
       ]
      }
     ],
     "prompt_number": 2
    },
    {
     "cell_type": "markdown",
     "metadata": {},
     "source": [
      "####<font,color=\"blue\">Lots of linear algebra functions are avalable.</font>"
     ]
    },
    {
     "cell_type": "code",
     "collapsed": false,
     "input": [
      "X'X"
     ],
     "language": "python",
     "metadata": {},
     "outputs": [
      {
       "metadata": {},
       "output_type": "pyout",
       "prompt_number": 3,
       "text": [
        "2x2 Array{Int64,2}:\n",
        " 10  14\n",
        " 14  20"
       ]
      }
     ],
     "prompt_number": 3
    },
    {
     "cell_type": "code",
     "collapsed": false,
     "input": [
      "kron(X,X)"
     ],
     "language": "python",
     "metadata": {},
     "outputs": [
      {
       "metadata": {},
       "output_type": "pyout",
       "prompt_number": 17,
       "text": [
        "4x4 Array{Int64,2}:\n",
        " 1   2   2   4\n",
        " 3   4   6   8\n",
        " 3   6   4   8\n",
        " 9  12  12  16"
       ]
      }
     ],
     "prompt_number": 17
    },
    {
     "cell_type": "code",
     "collapsed": false,
     "input": [
      "y=[3,10]\n",
      "X'X\\X'y  #solve X'X\u03b2=X'y"
     ],
     "language": "python",
     "metadata": {},
     "outputs": [
      {
       "metadata": {},
       "output_type": "pyout",
       "prompt_number": 20,
       "text": [
        "2-element Array{Float64,1}:\n",
        "  4.0\n",
        " -0.5"
       ]
      }
     ],
     "prompt_number": 20
    },
    {
     "cell_type": "markdown",
     "metadata": {},
     "source": [
      "####<font,color=\"blue\">It's easy to check the rank of a matrix, whether it is positive definite, trace, determinant ...</font>"
     ]
    },
    {
     "cell_type": "code",
     "collapsed": false,
     "input": [
      "rank(X)"
     ],
     "language": "python",
     "metadata": {},
     "outputs": [
      {
       "metadata": {},
       "output_type": "pyout",
       "prompt_number": 4,
       "text": [
        "2"
       ]
      }
     ],
     "prompt_number": 4
    },
    {
     "cell_type": "code",
     "collapsed": false,
     "input": [
      "isposdef(X'X)"
     ],
     "language": "python",
     "metadata": {},
     "outputs": [
      {
       "metadata": {},
       "output_type": "pyout",
       "prompt_number": 6,
       "text": [
        "true"
       ]
      }
     ],
     "prompt_number": 6
    },
    {
     "cell_type": "markdown",
     "metadata": {},
     "source": [
      "Matrix decompositions"
     ]
    },
    {
     "cell_type": "code",
     "collapsed": false,
     "input": [
      "eig(X'X)"
     ],
     "language": "python",
     "metadata": {},
     "outputs": [
      {
       "metadata": {},
       "output_type": "pyout",
       "prompt_number": 9,
       "text": [
        "([0.133931,29.8661],\n",
        "2x2 Array{Float64,2}:\n",
        " -0.817416  0.576048\n",
        "  0.576048  0.817416)"
       ]
      }
     ],
     "prompt_number": 9
    },
    {
     "cell_type": "code",
     "collapsed": false,
     "input": [
      "chol(X'X)"
     ],
     "language": "python",
     "metadata": {},
     "outputs": [
      {
       "metadata": {},
       "output_type": "pyout",
       "prompt_number": 12,
       "text": [
        "2x2 Array{Float64,2}:\n",
        " 3.16228  4.42719 \n",
        " 0.0      0.632456"
       ]
      }
     ],
     "prompt_number": 12
    },
    {
     "cell_type": "markdown",
     "metadata": {},
     "source": [
      "Linear algebra functions in Julia are mostly implemented by calling LAPACK. Please check the official documentation to learn more."
     ]
    },
    {
     "cell_type": "markdown",
     "metadata": {},
     "source": [
      "####reference\n",
      "[official document1](http://docs.julialang.org/en/latest/manual/linear-algebra/)\n",
      "\n",
      "[official document2](http://docs.julialang.org/en/latest/stdlib/linalg/#stdlib-linalg)\n",
      "\n"
     ]
    }
   ],
   "metadata": {}
  }
 ]
}