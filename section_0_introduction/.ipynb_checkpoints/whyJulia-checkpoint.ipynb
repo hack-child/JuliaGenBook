{
 "cells": [
  {
   "cell_type": "markdown",
   "metadata": {},
   "source": [
    "###Why Julia?"
   ]
  },
  {
   "cell_type": "markdown",
   "metadata": {},
   "source": [
    "Julia is a high-level, high-performance dynamic programming language for technical computing. It has lots of appealing features. Please read the [homepage](http://julialang.org) of Julia to have an overview of this nice language. As what they said in the [introduction](http://docs.julialang.org/en/release-0.3/manual/introduction/) part of the official documention, "
   ]
  },
  {
   "cell_type": "markdown",
   "metadata": {},
   "source": [
    "> it is a flexible dynamic language, appropriate for scientific and numerical computing, with performance comparable to traditional statically-typed languages."
   ]
  },
  {
   "cell_type": "markdown",
   "metadata": {},
   "source": [
    ">Julia aims to create an unprecedented combination of ease-of-use, power, and efficiency in a single language."
   ]
  },
  {
   "cell_type": "markdown",
   "metadata": {},
   "source": [
    "Till now the reasons why we prefer Julia are: 1) speed 2)nice syntax . Below is an expample for syntax in Julia."
   ]
  },
  {
   "cell_type": "code",
   "execution_count": 1,
   "metadata": {
    "collapsed": false
   },
   "outputs": [
    {
     "data": {
      "text/plain": [
       "2x2 Array{Int64,2}:\n",
       " 10  14\n",
       " 14  20"
      ]
     },
     "execution_count": 1,
     "metadata": {},
     "output_type": "execute_result"
    }
   ],
   "source": [
    "X = [1 2\n",
    "     3 4]\n",
    "X'X"
   ]
  },
  {
   "cell_type": "markdown",
   "metadata": {},
   "source": [
    "A set of [Benchmarks](http://julialang.org/benchmarks/) have been shown at the Julia official website. Below a comparison of speed between Julia and R implementations of BayesC, a Bayesian multiptle-regression method for genome-wide association study and genomic prediction, is shown with "
   ]
  }
 ],
 "metadata": {
  "kernelspec": {
   "display_name": "Julia 0.3.5",
   "language": "julia",
   "name": "julia-0.3"
  },
  "language_info": {
   "name": "julia",
   "version": "0.3.5"
  }
 },
 "nbformat": 4,
 "nbformat_minor": 0
}
