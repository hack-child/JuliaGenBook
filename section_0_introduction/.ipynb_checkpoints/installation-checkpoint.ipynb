{
 "cells": [
  {
   "cell_type": "markdown",
   "metadata": {},
   "source": [
    "##Installation"
   ]
  },
  {
   "cell_type": "markdown",
   "metadata": {},
   "source": [
    "1. To **install Julia**, please go to [Julia (command line version) download](http://julialang.org/downloads/) section on the official website. Please check platform specific instructions below the downloads table if you have any trouble installing Julia.\n",
    "<br><br>\n",
    "\n",
    "2. To **install Juno**, an integrated development environment (IDE) for Julia, such as RStudio for R language, Visual studio/XCODE for C++, please go to the [Julia + Juno IDE bundles](http://julialang.org/downloads/) section on the official website..\n",
    "<br><br>\n",
    "\n",
    "3. To **install IJulia notebook**, an interactive environment, please go to [IJulia](https://github.com/JuliaLang/IJulia.jl)."
   ]
  },
  {
   "cell_type": "markdown",
   "metadata": {},
   "source": [
    "####Troubleshooting"
   ]
  },
  {
   "cell_type": "markdown",
   "metadata": {},
   "source": [
    "1. Please make sure your Julia is up-to-date using\n",
    "```\n",
    "versioninfo()\n",
    "```\n",
    "\n",
    "1. Please make sure your Julia packages are up-to-date using \n",
    "```\n",
    "Pkg.update()\n",
    "```\n",
    "2. Please check platform specific instructions below the downloads table if you have trouble installing Julia.\n",
    "\n",
    "3. Please check the the troubleshooting part on [IJulia](https://github.com/JuliaLang/IJulia.jl) webpage if you have trouble installing IJulia.  "
   ]
  }
 ],
 "metadata": {
  "kernelspec": {
   "display_name": "Julia 0.3.7",
   "language": "julia",
   "name": "julia-0.3"
  },
  "language_info": {
   "name": "julia",
   "version": "0.3.7"
  }
 },
 "nbformat": 4,
 "nbformat_minor": 0
}
