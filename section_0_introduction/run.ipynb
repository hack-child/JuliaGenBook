{
 "cells": [
  {
   "cell_type": "markdown",
   "metadata": {},
   "source": [
    "##Run"
   ]
  },
  {
   "cell_type": "markdown",
   "metadata": {},
   "source": [
    "#####Julia\n",
    "\n",
    "1. run with REPL(start julia by opening the Julia app)\n",
    "```julia\n",
    ">julia 2+3\n",
    "5\n",
    "```\n",
    "\n",
    "2. run script directly from the command line\n",
    "```bash\n",
    "$julia script.jl\n",
    "```\n",
    "\n",
    "Please see [Getting Started](http://docs.julialang.org/en/release-0.3/manual/getting-started/) and [Interacting with Julia] (http://docs.julialang.org/en/release-0.3/manual/interacting-with-julia/) parts in official documentation for more details.\n",
    "\n",
    "#####IJulia\n",
    "\n",
    "1. To start the IJulia notebook in the browser, run from the command line.\n",
    "```bash\n",
    "ipython notebook --profile julia\n",
    "```\n",
    " \n",
    "Please see [Running the IJulia Notebook](https://github.com/JuliaLang/IJulia.jl) on IJulia website."
   ]
  }
 ],
 "metadata": {
  "kernelspec": {
   "display_name": "Julia 0.3.5",
   "language": "julia",
   "name": "julia-0.3"
  },
  "language_info": {
   "name": "julia",
   "version": "0.3.5"
  }
 },
 "nbformat": 4,
 "nbformat_minor": 0
}
