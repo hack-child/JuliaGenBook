{
 "metadata": {
  "language": "Julia",
  "name": "",
  "signature": "sha256:f71942cdcb2b84ade30f825de7f3fbb965af145ab254a47e57cff711877321bc"
 },
 "nbformat": 3,
 "nbformat_minor": 0,
 "worksheets": [
  {
   "cells": [
    {
     "cell_type": "markdown",
     "metadata": {},
     "source": [
      "In Julia, all arguments to functions are passed by reference."
     ]
    },
    {
     "cell_type": "markdown",
     "metadata": {},
     "source": [
      "In general, unlike many other technical computing languages, Julia does not expect programs to be written in a vectorized style for performance. Julia\u2019s compiler uses type inference and generates optimized code for scalar array indexing, allowing programs to be written in a style that is convenient and readable, without sacrificing performance, and using less memory at times."
     ]
    }
   ],
   "metadata": {}
  }
 ]
}