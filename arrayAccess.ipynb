{
 "cells": [
  {
   "cell_type": "code",
   "execution_count": 1,
   "metadata": {
    "collapsed": true
   },
   "outputs": [],
   "source": [
    "using Distributions"
   ]
  },
  {
   "cell_type": "code",
   "execution_count": 2,
   "metadata": {
    "collapsed": true
   },
   "outputs": [],
   "source": [
    "n=100000\n",
    "x=randn(n);"
   ]
  },
  {
   "cell_type": "markdown",
   "metadata": {},
   "source": [
    "###comparison among different array access without poiinter"
   ]
  },
  {
   "cell_type": "code",
   "execution_count": 3,
   "metadata": {
    "collapsed": false
   },
   "outputs": [
    {
     "data": {
      "text/plain": [
       "sq_1 (generic function with 1 method)"
      ]
     },
     "execution_count": 3,
     "metadata": {},
     "output_type": "execute_result"
    }
   ],
   "source": [
    "function sq_1(x)\n",
    "    sum=0.0\n",
    "    for i in x\n",
    "        sum += i^2\n",
    "    end\n",
    "end"
   ]
  },
  {
   "cell_type": "code",
   "execution_count": 4,
   "metadata": {
    "collapsed": false
   },
   "outputs": [
    {
     "data": {
      "text/plain": [
       "sq_1_1 (generic function with 1 method)"
      ]
     },
     "execution_count": 4,
     "metadata": {},
     "output_type": "execute_result"
    }
   ],
   "source": [
    "function sq_1_1(x)\n",
    "    sum=0.0\n",
    "    for i in 1:length(x)\n",
    "        sum += x[i]^2\n",
    "    end\n",
    "end\n"
   ]
  },
  {
   "cell_type": "code",
   "execution_count": 5,
   "metadata": {
    "collapsed": false
   },
   "outputs": [
    {
     "data": {
      "text/plain": [
       "sq_2 (generic function with 1 method)"
      ]
     },
     "execution_count": 5,
     "metadata": {},
     "output_type": "execute_result"
    }
   ],
   "source": [
    "function sq_2(x,j)\n",
    "    sum=0.0\n",
    "    for i in j\n",
    "        sum += x[i]^2\n",
    "    end\n",
    "end"
   ]
  },
  {
   "cell_type": "code",
   "execution_count": 7,
   "metadata": {
    "collapsed": false
   },
   "outputs": [
    {
     "data": {
      "text/plain": [
       "sq_inbound (generic function with 1 method)"
      ]
     },
     "execution_count": 7,
     "metadata": {},
     "output_type": "execute_result"
    }
   ],
   "source": [
    "function sq_inbound(x,j)\n",
    "    sum=0.0\n",
    "    for i in j\n",
    "        @inbounds sum += x[i]^2\n",
    "    end\n",
    "end"
   ]
  },
  {
   "cell_type": "code",
   "execution_count": 15,
   "metadata": {
    "collapsed": false
   },
   "outputs": [
    {
     "name": "stdout",
     "output_type": "stream",
     "text": [
      "elapsed time: 3.594e-6 seconds (80 bytes allocated)\n",
      "elapsed time: 6.717e-5 seconds (80 bytes allocated)\n",
      "elapsed time: 6.7013e-5 seconds (80 bytes allocated)\n",
      "elapsed time: 4.557e-5 seconds (80 bytes allocated)\n",
      "elapsed time: 4.595e-5 seconds (80 bytes allocated)\n",
      "elapsed time: 0.000184387 seconds (80 bytes allocated)\n"
     ]
    }
   ],
   "source": [
    "k=1:n\n",
    "j=sample(1:n,n);\n",
    "@time sq_inbound(x,k)\n",
    "@time sq_inbound(x,j)\n",
    "@time sq_1(x)\n",
    "@time sq_1_1(x) #always faster than sq_1\n",
    "@time sq_2(x,k)\n",
    "@time sq_2(x,j)"
   ]
  },
  {
   "cell_type": "markdown",
   "metadata": {},
   "source": [
    "###compare sq5 and sq5_2, sq5_3, sq5_4"
   ]
  },
  {
   "cell_type": "code",
   "execution_count": 60,
   "metadata": {
    "collapsed": false
   },
   "outputs": [
    {
     "data": {
      "text/plain": [
       "sq5_4 (generic function with 1 method)"
      ]
     },
     "execution_count": 60,
     "metadata": {},
     "output_type": "execute_result"
    }
   ],
   "source": [
    "function sq5(x)\n",
    "    sum=0.0\n",
    "    p1=pointer(x,1)\n",
    "\n",
    "    for i in 1:length(x)\n",
    "        sum += unsafe_load(p1+sizeof(Float64)*(i-1))^2\n",
    "    end\n",
    "end\n",
    "\n",
    "function sq5_2(x)\n",
    "    sum=0.0\n",
    "    p1=pointer(x,1)\n",
    "\n",
    "    for i in 1:length(x)\n",
    "        sum += unsafe_load(p1)^2\n",
    "        p1+=sizeof(Float64)\n",
    "    end\n",
    "end\n",
    "\n",
    "function sq5_3(x)\n",
    "    sum=0.0\n",
    "    p1=pointer(x,1)\n",
    "\n",
    "    for i in 1:length(x)\n",
    "        sum += unsafe_load(p1,i)^2\n",
    "    end\n",
    "end\n",
    "\n",
    "function sq5_4(x)\n",
    "    sum=0.0\n",
    "    p1=pointer(x,1)\n",
    "    k=1\n",
    "    \n",
    "    for i in 1:length(x)\n",
    "        sum += unsafe_load(p1,k)^2\n",
    "        k=k+1\n",
    "    end\n",
    "end"
   ]
  },
  {
   "cell_type": "code",
   "execution_count": 76,
   "metadata": {
    "collapsed": false
   },
   "outputs": [
    {
     "name": "stdout",
     "output_type": "stream",
     "text": [
      "elapsed time: 4.284e-6 seconds (80 bytes allocated)\n",
      "elapsed time: 4.302e-6 seconds (80 bytes allocated)\n",
      "elapsed time: 5.234e-6 seconds (80 bytes allocated)\n",
      "elapsed time: 3.934e-6 seconds (80 bytes allocated)\n"
     ]
    }
   ],
   "source": [
    "@time sq5(x)\n",
    "@time sq5_2(x)\n",
    "@time sq5_3(x)\n",
    "@time sq5_4(x)"
   ]
  },
  {
   "cell_type": "markdown",
   "metadata": {},
   "source": [
    "###test sq_5 to check whehter order of array element access has big effects"
   ]
  },
  {
   "cell_type": "code",
   "execution_count": 77,
   "metadata": {
    "collapsed": false
   },
   "outputs": [
    {
     "data": {
      "text/plain": [
       "sq5_3_1 (generic function with 1 method)"
      ]
     },
     "execution_count": 77,
     "metadata": {},
     "output_type": "execute_result"
    }
   ],
   "source": [
    "function sq5_3_1(x,ord)\n",
    "    sum=0.0\n",
    "    p1=pointer(x,1)\n",
    "\n",
    "    for i in ord\n",
    "        sum += unsafe_load(p1,i)^2\n",
    "    end\n",
    "end"
   ]
  },
  {
   "cell_type": "code",
   "execution_count": 78,
   "metadata": {
    "collapsed": false
   },
   "outputs": [
    {
     "data": {
      "text/plain": [
       "true"
      ]
     },
     "execution_count": 78,
     "metadata": {},
     "output_type": "execute_result"
    }
   ],
   "source": [
    "k=5\n",
    "myord1=repmat(1:k, 1, int(n/k))[:];\n",
    "myord2=1:n;\n",
    "myord3=sample(1:n,n)\n",
    "length(myord1)==length(myord2)==length(myord3)"
   ]
  },
  {
   "cell_type": "code",
   "execution_count": 133,
   "metadata": {
    "collapsed": false
   },
   "outputs": [
    {
     "name": "stdout",
     "output_type": "stream",
     "text": [
      "elapsed time: 9.4737e-5 seconds (80 bytes allocated)\n",
      "elapsed time: 2.1014e-5 seconds (80 bytes allocated)\n",
      "elapsed time: 0.00011409 seconds (80 bytes allocated)\n"
     ]
    }
   ],
   "source": [
    "@time sq5_3_1(x,myord1)\n",
    "@time sq5_3_1(x,myord2)\n",
    "@time sq5_3_1(x,myord3)"
   ]
  },
  {
   "cell_type": "markdown",
   "metadata": {},
   "source": [
    "###inbounds make it simple"
   ]
  },
  {
   "cell_type": "markdown",
   "metadata": {},
   "source": [
    "###Why???"
   ]
  }
 ],
 "metadata": {
  "kernelspec": {
   "display_name": "Julia 0.3.11",
   "language": "julia",
   "name": "julia-0.3"
  },
  "language_info": {
   "file_extension": ".jl",
   "mimetype": "application/julia",
   "name": "julia",
   "version": "0.3.11"
  }
 },
 "nbformat": 4,
 "nbformat_minor": 0
}
