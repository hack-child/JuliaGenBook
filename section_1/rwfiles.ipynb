{
 "metadata": {
  "language": "Julia",
  "name": "",
  "signature": "sha256:3cea29efa8717abd337ca4136ab79cb6e647fa43ab940d4bb6e5f311874d39bb"
 },
 "nbformat": 3,
 "nbformat_minor": 0,
 "worksheets": [
  {
   "cells": [
    {
     "cell_type": "markdown",
     "metadata": {},
     "source": [
      "##read and write files"
     ]
    },
    {
     "cell_type": "markdown",
     "metadata": {},
     "source": [
      "Several ways to read and write files are intrudoced in this section. Please see [I/O and Network](http://docs.julialang.org/en/release-0.3/stdlib/io-network/) part in official documentation for more details."
     ]
    },
    {
     "cell_type": "markdown",
     "metadata": {},
     "source": [
      "#####1. <font,color=\"blue\">readdlm</font> is used to read a whole file. \n",
      "\n",
      " Read a matrix from a file with headers with elements separated by the delimeter(,). "
     ]
    },
    {
     "cell_type": "code",
     "collapsed": false,
     "input": [
      ";cat data.txt"
     ],
     "language": "python",
     "metadata": {},
     "outputs": [
      {
       "output_type": "stream",
       "stream": "stdout",
       "text": [
        "age,weight\n",
        "12,110\n",
        "54,165\n",
        "26,131\n"
       ]
      }
     ],
     "prompt_number": 2
    },
    {
     "cell_type": "code",
     "collapsed": false,
     "input": [
      "d=readdlm(\"data.txt\",',',header=true)"
     ],
     "language": "python",
     "metadata": {},
     "outputs": [
      {
       "metadata": {},
       "output_type": "pyout",
       "prompt_number": 3,
       "text": [
        "(\n",
        "3x2 Array{Float64,2}:\n",
        " 12.0  110.0\n",
        " 54.0  165.0\n",
        " 26.0  131.0,\n",
        "\n",
        "1x2 Array{String,2}:\n",
        " \"age\"  \"weight\")"
       ]
      }
     ],
     "prompt_number": 3
    },
    {
     "cell_type": "markdown",
     "metadata": {},
     "source": [
      "The type of the array in d is determined by Julia. The type of the array can also be define with options. For example, the type of the array can be defined as String."
     ]
    },
    {
     "cell_type": "code",
     "collapsed": false,
     "input": [
      "d=readdlm(\"data.txt\",',',String,header=true,)"
     ],
     "language": "python",
     "metadata": {},
     "outputs": [
      {
       "metadata": {},
       "output_type": "pyout",
       "prompt_number": 4,
       "text": [
        "(\n",
        "3x2 Array{String,2}:\n",
        " \"12\"  \"110\"\n",
        " \"54\"  \"165\"\n",
        " \"26\"  \"131\",\n",
        "\n",
        "1x2 Array{String,2}:\n",
        " \"age\"  \"weight\")"
       ]
      }
     ],
     "prompt_number": 4
    },
    {
     "cell_type": "markdown",
     "metadata": {},
     "source": [
      "#####2. <font,color=\"blue\">readline</font> is used to read files line by line."
     ]
    },
    {
     "cell_type": "markdown",
     "metadata": {},
     "source": [
      "The function **readline** is more flexible, because working with one line uses less memory and may be much faster."
     ]
    },
    {
     "cell_type": "markdown",
     "metadata": {},
     "source": [
      "Sometime it's impossible to read a big file with **readdlm**. An function to handle reading a big genotype using **readline** is shown below. The function **open** is used to open a file (here for read only without specifying a mode). The function readline is used to read one line from the file as an array. **split** and **int** are used to split the single array to tokens and transfer the type from string to int. The functin **close** is used to close the stream. "
     ]
    },
    {
     "cell_type": "code",
     "collapsed": false,
     "input": [
      "function read_genotypes(file,nrow,ncol,header=true)\n",
      "    f=open(file)\n",
      "\n",
      "    if header==true\n",
      "        readline(f)\n",
      "        nrow=nrow-1\n",
      "    end\n",
      "\n",
      "    mat = zeros(Int64,nrow,ncol)\n",
      "\n",
      "    for i=1:nrow\n",
      "        mat[i,:]=int(split(readline(f)))\n",
      "\n",
      "        if(i%1000==0)\n",
      "            println(\"This is line \",i)\n",
      "        end\n",
      "    end\n",
      "\n",
      "    close(f)\n",
      "    return mat\n",
      "end"
     ],
     "language": "python",
     "metadata": {},
     "outputs": [
      {
       "metadata": {},
       "output_type": "pyout",
       "prompt_number": 5,
       "text": [
        "read_genotypes (generic function with 2 methods)"
       ]
      }
     ],
     "prompt_number": 5
    },
    {
     "cell_type": "markdown",
     "metadata": {},
     "source": [
      "#####3. <font,color=\"blue\">writedlm</font> is used to write a file.\n",
      "\n",
      "The d matrix is modified and write to another file using writedlm( filename, matrix, delimeter )."
     ]
    },
    {
     "cell_type": "code",
     "collapsed": false,
     "input": [
      "newdata=d[1]"
     ],
     "language": "python",
     "metadata": {},
     "outputs": [
      {
       "metadata": {},
       "output_type": "pyout",
       "prompt_number": 6,
       "text": [
        "3x2 Array{String,2}:\n",
        " \"12\"  \"110\"\n",
        " \"54\"  \"165\"\n",
        " \"26\"  \"131\""
       ]
      }
     ],
     "prompt_number": 6
    },
    {
     "cell_type": "code",
     "collapsed": false,
     "input": [
      "newdata[1,2]=\"314\""
     ],
     "language": "python",
     "metadata": {},
     "outputs": [
      {
       "metadata": {},
       "output_type": "pyout",
       "prompt_number": 8,
       "text": [
        "\"314\""
       ]
      }
     ],
     "prompt_number": 8
    },
    {
     "cell_type": "code",
     "collapsed": false,
     "input": [
      "writedlm(\"datanew.txt\",newdata,\" \")"
     ],
     "language": "python",
     "metadata": {},
     "outputs": [],
     "prompt_number": 16
    },
    {
     "cell_type": "code",
     "collapsed": false,
     "input": [
      ";cat datanew.txt"
     ],
     "language": "python",
     "metadata": {},
     "outputs": [
      {
       "output_type": "stream",
       "stream": "stdout",
       "text": [
        "12 314\n",
        "54 165\n",
        "26 131\n"
       ]
      }
     ],
     "prompt_number": 18
    },
    {
     "cell_type": "markdown",
     "metadata": {},
     "source": [
      "You may find there is no header in datanew.txt. This can be solved as"
     ]
    },
    {
     "cell_type": "code",
     "collapsed": false,
     "input": [
      "myheader=d[2]\n",
      "f = open(\"datanew2.txt\", \"w\")\n",
      "writedlm(f, myheader)\n",
      "writedlm(f, newdata)\n",
      "close(f)"
     ],
     "language": "python",
     "metadata": {},
     "outputs": [],
     "prompt_number": 23
    },
    {
     "cell_type": "code",
     "collapsed": false,
     "input": [
      ";cat datanew2.txt"
     ],
     "language": "python",
     "metadata": {},
     "outputs": [
      {
       "output_type": "stream",
       "stream": "stdout",
       "text": [
        "age\tweight\n",
        "12\t314\n",
        "54\t165\n",
        "26\t131\n"
       ]
      }
     ],
     "prompt_number": 25
    },
    {
     "cell_type": "markdown",
     "metadata": {},
     "source": [
      "#####4. read and write <font,color=\"blue\">binary</font> files"
     ]
    },
    {
     "cell_type": "markdown",
     "metadata": {},
     "source": [
      "If you need to work with a file several times, it's better to save it as a binary file to read and write in order to save memory and increase reading speed. "
     ]
    },
    {
     "cell_type": "markdown",
     "metadata": {},
     "source": [
      "To write a variable as a binary file, "
     ]
    },
    {
     "cell_type": "code",
     "collapsed": false,
     "input": [
      "x=123\n",
      "y=314\n",
      "myfile=open(\"file.bin\",\"w\")\n",
      "write(myfile,x)\n",
      "write(myfile,y)\n",
      "close(myfile)"
     ],
     "language": "python",
     "metadata": {},
     "outputs": [],
     "prompt_number": 38
    },
    {
     "cell_type": "markdown",
     "metadata": {},
     "source": [
      "To read a binary file,"
     ]
    },
    {
     "cell_type": "code",
     "collapsed": false,
     "input": [
      "myfile2=open(\"file.bin\")\n",
      "x2=read(myfile2,Int64)\n",
      "y2=read(myfile2,Int64)\n",
      "close(myfile2)"
     ],
     "language": "python",
     "metadata": {},
     "outputs": [],
     "prompt_number": 40
    },
    {
     "cell_type": "code",
     "collapsed": false,
     "input": [
      "println(x2,\" \",y2)"
     ],
     "language": "python",
     "metadata": {},
     "outputs": [
      {
       "output_type": "stream",
       "stream": "stdout",
       "text": [
        "123 "
       ]
      },
      {
       "output_type": "stream",
       "stream": "stdout",
       "text": [
        "314\n"
       ]
      }
     ],
     "prompt_number": 45
    },
    {
     "cell_type": "markdown",
     "metadata": {},
     "source": [
      "To learn more about reading and writing files, please see the official documentation. A package called **DataFrames** may be helpful. Another package **ODBC** can be used to work with a database."
     ]
    }
   ],
   "metadata": {}
  }
 ]
}