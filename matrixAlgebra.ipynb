{
 "metadata": {
  "language": "Julia",
  "name": "",
  "signature": "sha256:e3bb9224fa98d022ae7897da0b47afdf5d00e131dc20ae00746b9040330c821e"
 },
 "nbformat": 3,
 "nbformat_minor": 0,
 "worksheets": [
  {
   "cells": [
    {
     "cell_type": "markdown",
     "metadata": {},
     "source": [
      "Vectorized Operators and Functions(in multi-array part)"
     ]
    }
   ],
   "metadata": {}
  }
 ]
}