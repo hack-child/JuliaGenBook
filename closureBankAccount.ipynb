{
 "metadata": {
  "language": "Julia",
  "name": "",
  "signature": "sha256:949eb50f6463b87afa0a417d494d9fde81b0247426f7d39e4d28af4472c90ab1"
 },
 "nbformat": 3,
 "nbformat_minor": 0,
 "worksheets": [
  {
   "cells": [
    {
     "cell_type": "heading",
     "level": 1,
     "metadata": {},
     "source": [
      "Using Bank Account Example to Demonstrate Use of Closure in Julia"
     ]
    },
    {
     "cell_type": "markdown",
     "metadata": {},
     "source": [
      "This is a Type of object used to store the \"data member\" balance and the \"method\" addToMyBal that is a reference to a function. In the definiton the Type of addToMyBal is given as Any because I am not sure what the Type of a function reference is."
     ]
    },
    {
     "cell_type": "code",
     "collapsed": false,
     "input": [
      "type BankAccount\n",
      "    balance::Float64\n",
      "    addToMyBal::Any\n",
      "end"
     ],
     "language": "python",
     "metadata": {},
     "outputs": []
    },
    {
     "cell_type": "markdown",
     "metadata": {},
     "source": [
      "The function that does the \"heavy lifting\" is defined here. "
     ]
    },
    {
     "cell_type": "code",
     "collapsed": false,
     "input": [
      "function addToBal(myAccount,x) \n",
      "    myAccount.balance += x; nothing\n",
      "end"
     ],
     "language": "python",
     "metadata": {},
     "outputs": []
    },
    {
     "cell_type": "markdown",
     "metadata": {},
     "source": [
      "This is a constructor for the Type BankAccount defined earlier, but taking only one argument, the starting balance. In this constructor, which is a closure, the myAccount object is created and initialized with the starting balance and a reference to the wrapper for the addToBal function. "
     ]
    },
    {
     "cell_type": "code",
     "collapsed": false,
     "input": [
      "function BankAccount(startBalance::Int64)\n",
      "    function addToMyBal(x) # this is small wrapper which is called with the amount to add to the balance\n",
      "        addToBal(myAccount,x); nothing\n",
      "    end\n",
      "    myAccount = BankAccount(startBalance,addToMyBal)\n",
      "    return(myAccount)\n",
      "end "
     ],
     "language": "python",
     "metadata": {},
     "outputs": []
    },
    {
     "cell_type": "code",
     "collapsed": false,
     "input": [
      "acc1 = BankAccount(100)\n",
      "acc2 = BankAccount(200)\n",
      "acc1.addToMyBal(10)\n",
      "acc2.addToMyBal(20)\n",
      "println (acc1.balance)\n",
      "println (acc2.balance)"
     ],
     "language": "python",
     "metadata": {},
     "outputs": [
      {
       "output_type": "stream",
       "stream": "stdout",
       "text": [
        "110"
       ]
      },
      {
       "output_type": "stream",
       "stream": "stdout",
       "text": [
        ".0\n",
        "220.0\n"
       ]
      }
     ],
     "prompt_number": 6
    }
   ],
   "metadata": {}
  }
 ]
}