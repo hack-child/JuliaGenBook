{
 "metadata": {
  "language": "Julia",
  "name": "",
  "signature": "sha256:c4e3762428ccea00dec43b2eeba8046990ca92fbf10a51c16a20f8de6299b6ad"
 },
 "nbformat": 3,
 "nbformat_minor": 0,
 "worksheets": [
  {
   "cells": [
    {
     "cell_type": "markdown",
     "metadata": {},
     "source": [
      "###Matrix and Vector"
     ]
    },
    {
     "cell_type": "markdown",
     "metadata": {},
     "source": [
      "The data structure **array** is used in Julia for matrix algebra. Let's start with constructing matrices and vectors. "
     ]
    },
    {
     "cell_type": "markdown",
     "metadata": {},
     "source": [
      "####<font,color=\"blue\">construct a matrix</font>"
     ]
    },
    {
     "cell_type": "code",
     "collapsed": false,
     "input": [
      "X1=[1 2 1\n",
      "   2 1 3]\n",
      "\n",
      "X2=[1 2 1; 2 1 3]"
     ],
     "language": "python",
     "metadata": {},
     "outputs": [
      {
       "metadata": {},
       "output_type": "pyout",
       "prompt_number": 10,
       "text": [
        "2x3 Array{Int64,2}:\n",
        " 1  2  1\n",
        " 2  1  3"
       ]
      }
     ],
     "prompt_number": 10
    },
    {
     "cell_type": "code",
     "collapsed": false,
     "input": [
      "println(\"The type of X1 is \",typeof(X1))\n",
      "println(\"The type of X2 is \",typeof(X2))"
     ],
     "language": "python",
     "metadata": {},
     "outputs": [
      {
       "output_type": "stream",
       "stream": "stdout",
       "text": [
        "The type of X1 is Array"
       ]
      },
      {
       "output_type": "stream",
       "stream": "stdout",
       "text": [
        "{Int64,2}\n",
        "The type of X2 is Array{Int64,2}\n"
       ]
      }
     ],
     "prompt_number": 11
    },
    {
     "cell_type": "markdown",
     "metadata": {},
     "source": [
      "The **typeof( )** function is used to check the type of the matrix.\n",
      "\n",
      "> Array{Int64,2} \n",
      "\n",
      "This array has 2 dimension and the type of the elements contained in the array is Int64."
     ]
    },
    {
     "cell_type": "markdown",
     "metadata": {},
     "source": [
      "####<font,color=\"blue\">construct a vector</font>"
     ]
    },
    {
     "cell_type": "code",
     "collapsed": false,
     "input": [
      "y=[1,2,3]"
     ],
     "language": "python",
     "metadata": {},
     "outputs": [
      {
       "metadata": {},
       "output_type": "pyout",
       "prompt_number": 12,
       "text": [
        "3-element Array{Int64,1}:\n",
        " 1\n",
        " 2\n",
        " 3"
       ]
      }
     ],
     "prompt_number": 12
    },
    {
     "cell_type": "code",
     "collapsed": false,
     "input": [
      "println(\"The type of y is \",typeof(y))"
     ],
     "language": "python",
     "metadata": {},
     "outputs": [
      {
       "output_type": "stream",
       "stream": "stdout",
       "text": [
        "The type of y is "
       ]
      },
      {
       "output_type": "stream",
       "stream": "stdout",
       "text": [
        "Array{Int64,1}\n"
       ]
      }
     ],
     "prompt_number": 13
    },
    {
     "cell_type": "markdown",
     "metadata": {},
     "source": [
      "A vector is a one-dimension array."
     ]
    },
    {
     "cell_type": "markdown",
     "metadata": {},
     "source": [
      "####<font,color=\"blue\">construct a special matrix or vector</font>"
     ]
    },
    {
     "cell_type": "code",
     "collapsed": false,
     "input": [
      "println(\"construct an empty vector\")\n",
      "println(Array(Float64,0))\n",
      "\n",
      "println(\"construct another empty vector\")\n",
      "println(Float64[])\n",
      "\n",
      "println(\"construct a linearly-spaced vector\")\n",
      "println([1:2:10])\n",
      "\n",
      "println(\"construct a matrix of 1s\")\n",
      "println(ones(2,3))\n",
      "\n",
      "println(\"construct a matrix of 0s\")\n",
      "println(zeros(2,3))\n",
      "\n",
      "println(\"construct a matrix of true\")\n",
      "println(trues(2,3))\n",
      "\n",
      "println(\"construct a matrix with elements sampled from random normal\")\n",
      "println(round(randn(2,3),2))\n",
      "\n",
      "println(\"construct a heterogeneous vector\")\n",
      "a=cell(2); a[1]=10; a[2]=\"hello\"\n",
      "println(a)"
     ],
     "language": "python",
     "metadata": {},
     "outputs": [
      {
       "output_type": "stream",
       "stream": "stdout",
       "text": [
        "construct an empty vector\n"
       ]
      },
      {
       "output_type": "stream",
       "stream": "stdout",
       "text": [
        "[]\n",
        "construct another empty vector\n",
        "[]\n",
        "construct a linearly-spaced vector\n",
        "[1,3,5,7,9]\n",
        "construct a matrix of 1s\n",
        "["
       ]
      },
      {
       "output_type": "stream",
       "stream": "stdout",
       "text": [
        "1.0 1.0 1.0\n",
        " 1.0 1.0 1.0]\n",
        "construct a matrix of 0s\n",
        "[0.0 0.0 0.0\n",
        " 0.0 0.0 0.0]\n",
        "construct a matrix of true\n",
        "Bool["
       ]
      },
      {
       "output_type": "stream",
       "stream": "stdout",
       "text": [
        "true true true\n",
        "     true true true]\n",
        "construct a matrix with elements sampled from random normal\n",
        "["
       ]
      },
      {
       "output_type": "stream",
       "stream": "stdout",
       "text": [
        "-0.12 0.59 2.01\n",
        " 0.44 0.54 -1.22]\n",
        "construct a heterogeneous vector\n",
        "{10,\""
       ]
      },
      {
       "output_type": "stream",
       "stream": "stdout",
       "text": [
        "hello\"}\n"
       ]
      }
     ],
     "prompt_number": 14
    },
    {
     "cell_type": "markdown",
     "metadata": {},
     "source": [
      "####<font,color=\"blue\">Basic funtions for arrays</font>"
     ]
    },
    {
     "cell_type": "code",
     "collapsed": false,
     "input": [
      "X=[1 2 1 2;1 3 1 2]"
     ],
     "language": "python",
     "metadata": {},
     "outputs": [
      {
       "metadata": {},
       "output_type": "pyout",
       "prompt_number": 15,
       "text": [
        "2x4 Array{Int64,2}:\n",
        " 1  2  1  2\n",
        " 1  3  1  2"
       ]
      }
     ],
     "prompt_number": 15
    },
    {
     "cell_type": "code",
     "collapsed": false,
     "input": [
      "println(\"The number of elements in X is \",length(X))\n",
      "println(\"The number of rows and columns in X is \",size(X))\n",
      "println(\"The number of columns in X is \",size(X,2))"
     ],
     "language": "python",
     "metadata": {},
     "outputs": [
      {
       "output_type": "stream",
       "stream": "stdout",
       "text": [
        "The number of elements in X is 8\n",
        "The number of rows and columns in X is (2,4)\n",
        "The number of columns in X is 4\n"
       ]
      }
     ],
     "prompt_number": 16
    },
    {
     "cell_type": "markdown",
     "metadata": {},
     "source": [
      "####<font,color=\"blue\">Learn other functions for array by an example</font>"
     ]
    },
    {
     "cell_type": "markdown",
     "metadata": {},
     "source": [
      "<font,color=\"charcoal\">1. declare an uninitilazed matrix $M$</font>"
     ]
    },
    {
     "cell_type": "code",
     "collapsed": false,
     "input": [
      "M=Array(Float64,2,3) #or Float64[2,3]"
     ],
     "language": "python",
     "metadata": {},
     "outputs": [
      {
       "metadata": {},
       "output_type": "pyout",
       "prompt_number": 17,
       "text": [
        "2x3 Array{Float64,2}:\n",
        " 2.22719e-314  2.22728e-314  2.22727e-314\n",
        " 2.22722e-314  2.22729e-314  2.22714e-314"
       ]
      }
     ],
     "prompt_number": 17
    },
    {
     "cell_type": "markdown",
     "metadata": {},
     "source": [
      "<font,color=\"charcoal\">2. fill $M$ with a value</font>"
     ]
    },
    {
     "cell_type": "code",
     "collapsed": false,
     "input": [
      "fill!(M,3.0)\n",
      "M"
     ],
     "language": "python",
     "metadata": {},
     "outputs": [
      {
       "metadata": {},
       "output_type": "pyout",
       "prompt_number": 18,
       "text": [
        "2x3 Array{Float64,2}:\n",
        " 3.0  3.0  3.0\n",
        " 3.0  3.0  3.0"
       ]
      }
     ],
     "prompt_number": 18
    },
    {
     "cell_type": "markdown",
     "metadata": {},
     "source": [
      "<font,color=\"charcoal\">3. construct a $3\\times 3$ identity matrix</font>"
     ]
    },
    {
     "cell_type": "code",
     "collapsed": false,
     "input": [
      "I=eye(3)"
     ],
     "language": "python",
     "metadata": {},
     "outputs": [
      {
       "metadata": {},
       "output_type": "pyout",
       "prompt_number": 19,
       "text": [
        "3x3 Array{Float64,2}:\n",
        " 1.0  0.0  0.0\n",
        " 0.0  1.0  0.0\n",
        " 0.0  0.0  1.0"
       ]
      }
     ],
     "prompt_number": 19
    },
    {
     "cell_type": "markdown",
     "metadata": {},
     "source": [
      "<font,color=\"charcoal\">4. concatenate $M$ and $I$ vertically</font>"
     ]
    },
    {
     "cell_type": "code",
     "collapsed": false,
     "input": [
      "M2=vcat(M,I)"
     ],
     "language": "python",
     "metadata": {},
     "outputs": [
      {
       "metadata": {},
       "output_type": "pyout",
       "prompt_number": 20,
       "text": [
        "5x3 Array{Float64,2}:\n",
        " 3.0  3.0  3.0\n",
        " 3.0  3.0  3.0\n",
        " 1.0  0.0  0.0\n",
        " 0.0  1.0  0.0\n",
        " 0.0  0.0  1.0"
       ]
      }
     ],
     "prompt_number": 20
    },
    {
     "cell_type": "markdown",
     "metadata": {},
     "source": [
      "<font,color=\"charcoal\">5. reshape $M2$</font>"
     ]
    },
    {
     "cell_type": "code",
     "collapsed": false,
     "input": [
      "M2=reshape(M2,3,5)"
     ],
     "language": "python",
     "metadata": {},
     "outputs": [
      {
       "metadata": {},
       "output_type": "pyout",
       "prompt_number": 21,
       "text": [
        "3x5 Array{Float64,2}:\n",
        " 3.0  0.0  3.0  0.0  0.0\n",
        " 3.0  0.0  0.0  3.0  0.0\n",
        " 1.0  3.0  1.0  3.0  1.0"
       ]
      }
     ],
     "prompt_number": 21
    },
    {
     "cell_type": "markdown",
     "metadata": {},
     "source": [
      "<font,color=\"charcoal\">6. copy $M2$ to $M3$</font>"
     ]
    },
    {
     "cell_type": "code",
     "collapsed": false,
     "input": [
      "M3=copy(M2)"
     ],
     "language": "python",
     "metadata": {},
     "outputs": [
      {
       "metadata": {},
       "output_type": "pyout",
       "prompt_number": 22,
       "text": [
        "3x5 Array{Float64,2}:\n",
        " 3.0  0.0  3.0  0.0  0.0\n",
        " 3.0  0.0  0.0  3.0  0.0\n",
        " 1.0  3.0  1.0  3.0  1.0"
       ]
      }
     ],
     "prompt_number": 22
    },
    {
     "cell_type": "markdown",
     "metadata": {},
     "source": [
      "<font,color=\"charcoal\">7. Get subset of $M3$</font>"
     ]
    },
    {
     "cell_type": "code",
     "collapsed": false,
     "input": [
      "M3[2:end,[1,3]]"
     ],
     "language": "python",
     "metadata": {},
     "outputs": [
      {
       "metadata": {},
       "output_type": "pyout",
       "prompt_number": 23,
       "text": [
        "2x2 Array{Float64,2}:\n",
        " 3.0  0.0\n",
        " 1.0  1.0"
       ]
      }
     ],
     "prompt_number": 23
    },
    {
     "cell_type": "code",
     "collapsed": false,
     "input": [
      "M3[:,1:3]"
     ],
     "language": "python",
     "metadata": {},
     "outputs": [
      {
       "metadata": {},
       "output_type": "pyout",
       "prompt_number": 24,
       "text": [
        "3x3 Array{Float64,2}:\n",
        " 3.0  0.0  3.0\n",
        " 3.0  0.0  0.0\n",
        " 1.0  3.0  1.0"
       ]
      }
     ],
     "prompt_number": 24
    },
    {
     "cell_type": "markdown",
     "metadata": {},
     "source": [
      "####<font,color=\"blue\">Learn advanced functions for array by an example</font>"
     ]
    },
    {
     "cell_type": "code",
     "collapsed": false,
     "input": [
      "const x=[1:3]\n",
      "s=Float64[x[i]^2+1 for i=1:length(x)]"
     ],
     "language": "python",
     "metadata": {},
     "outputs": [
      {
       "output_type": "stream",
       "stream": "stderr",
       "text": [
        "Warning: redefining constant x\n"
       ]
      },
      {
       "metadata": {},
       "output_type": "pyout",
       "prompt_number": 25,
       "text": [
        "3-element Array{Float64,1}:\n",
        "  2.0\n",
        "  5.0\n",
        " 10.0"
       ]
      }
     ],
     "prompt_number": 25
    },
    {
     "cell_type": "markdown",
     "metadata": {},
     "source": [
      "Broadcasting"
     ]
    },
    {
     "cell_type": "markdown",
     "metadata": {},
     "source": [
      "broadcast() can save lots of memory."
     ]
    },
    {
     "cell_type": "code",
     "collapsed": false,
     "input": [
      "a=[10.0 1.0]\n",
      "b=[0.1 0.2;0.3 0.4]"
     ],
     "language": "python",
     "metadata": {},
     "outputs": [
      {
       "metadata": {},
       "output_type": "pyout",
       "prompt_number": 26,
       "text": [
        "2x2 Array{Float64,2}:\n",
        " 0.1  0.2\n",
        " 0.3  0.4"
       ]
      }
     ],
     "prompt_number": 26
    },
    {
     "cell_type": "code",
     "collapsed": false,
     "input": [
      "broadcast(+,a,b)"
     ],
     "language": "python",
     "metadata": {},
     "outputs": [
      {
       "metadata": {},
       "output_type": "pyout",
       "prompt_number": 27,
       "text": [
        "2x2 Array{Float64,2}:\n",
        " 10.1  1.2\n",
        " 10.3  1.4"
       ]
      }
     ],
     "prompt_number": 27
    },
    {
     "cell_type": "markdown",
     "metadata": {},
     "source": [
      "####<font,color=\"blue\">sparse matrix</font>"
     ]
    },
    {
     "cell_type": "markdown",
     "metadata": {},
     "source": [
      "In Julia, data structure **sparse matrix** can be used to reduce computing time and memory when enough elements in the matrix are zeros."
     ]
    },
    {
     "cell_type": "markdown",
     "metadata": {},
     "source": [
      "<font,color=\"charcoal\">1. construct a sparse matrix of zeros</font>"
     ]
    },
    {
     "cell_type": "code",
     "collapsed": false,
     "input": [
      "spzeros(2,3)"
     ],
     "language": "python",
     "metadata": {},
     "outputs": [
      {
       "metadata": {},
       "output_type": "pyout",
       "prompt_number": 29,
       "text": [
        "2x3 sparse matrix with 0 Float64 entries:"
       ]
      }
     ],
     "prompt_number": 29
    },
    {
     "cell_type": "markdown",
     "metadata": {},
     "source": [
      "<font,color=\"charcoal\">2. construct a identity sparse matrix of zeros</font>"
     ]
    },
    {
     "cell_type": "code",
     "collapsed": false,
     "input": [
      "S=speye(2,3)"
     ],
     "language": "python",
     "metadata": {},
     "outputs": [
      {
       "metadata": {},
       "output_type": "pyout",
       "prompt_number": 31,
       "text": [
        "2x3 sparse matrix with 2 Float64 entries:\n",
        "\t[1, 1]  =  1.0\n",
        "\t[2, 2]  =  1.0"
       ]
      }
     ],
     "prompt_number": 31
    },
    {
     "cell_type": "markdown",
     "metadata": {},
     "source": [
      "<font,color=\"charcoal\">3. get index and elements</font>"
     ]
    },
    {
     "cell_type": "code",
     "collapsed": false,
     "input": [
      "findnz(S)"
     ],
     "language": "python",
     "metadata": {},
     "outputs": [
      {
       "metadata": {},
       "output_type": "pyout",
       "prompt_number": 32,
       "text": [
        "([1,2],[1,2],[1.0,1.0])"
       ]
      }
     ],
     "prompt_number": 32
    },
    {
     "cell_type": "markdown",
     "metadata": {},
     "source": [
      "<font,color=\"charcoal\">4. convert dense(sparse) matrices to sparse(dense) matrices</font>"
     ]
    },
    {
     "cell_type": "code",
     "collapsed": false,
     "input": [
      "D=full(S)"
     ],
     "language": "python",
     "metadata": {},
     "outputs": [
      {
       "metadata": {},
       "output_type": "pyout",
       "prompt_number": 36,
       "text": [
        "2x3 Array{Float64,2}:\n",
        " 1.0  0.0  0.0\n",
        " 0.0  1.0  0.0"
       ]
      }
     ],
     "prompt_number": 36
    },
    {
     "cell_type": "code",
     "collapsed": false,
     "input": [
      "sparse(D)"
     ],
     "language": "python",
     "metadata": {},
     "outputs": [
      {
       "metadata": {},
       "output_type": "pyout",
       "prompt_number": 37,
       "text": [
        "2x3 sparse matrix with 2 Float64 entries:\n",
        "\t[1, 1]  =  1.0\n",
        "\t[2, 2]  =  1.0"
       ]
      }
     ],
     "prompt_number": 37
    },
    {
     "cell_type": "markdown",
     "metadata": {},
     "source": [
      "> To learn more about matrix, please to check the Julia documents."
     ]
    }
   ],
   "metadata": {}
  }
 ]
}