{
 "metadata": {
  "language": "Julia",
  "name": "",
  "signature": "sha256:5f9e39b599da592b660c8de617d848a983a776aa4c33fb94638bb1b9af0819f2"
 },
 "nbformat": 3,
 "nbformat_minor": 0,
 "worksheets": [
  {
   "cells": [
    {
     "cell_type": "code",
     "collapsed": false,
     "input": [
      "x=\"Introduction\"\n",
      "y=\"quantitative genetics\"\n",
      "\n",
      "println(\"$x to $y\" )"
     ],
     "language": "python",
     "metadata": {},
     "outputs": [
      {
       "output_type": "stream",
       "stream": "stdout",
       "text": [
        "Introduction to quantitative genetics\n"
       ]
      }
     ],
     "prompt_number": 2
    }
   ],
   "metadata": {}
  }
 ]
}