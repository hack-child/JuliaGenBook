{
 "metadata": {
  "language": "Julia",
  "name": "",
  "signature": "sha256:ee34d873a5912b6b970b1151686872fcd379de6ae526cb671d13853f3a9ec956"
 },
 "nbformat": 3,
 "nbformat_minor": 0,
 "worksheets": [
  {
   "cells": [
    {
     "cell_type": "markdown",
     "metadata": {},
     "source": [
      "In Julia, all arguments to functions are passed by reference."
     ]
    },
    {
     "cell_type": "code",
     "collapsed": false,
     "input": [],
     "language": "python",
     "metadata": {},
     "outputs": []
    },
    {
     "cell_type": "markdown",
     "metadata": {},
     "source": [
      "In general, unlike many other technical computing languages, Julia does not expect programs to be written in a vectorized style for performance. Julia\u2019s compiler uses type inference and generates optimized code for scalar array indexing, allowing programs to be written in a style that is convenient and readable, without sacrificing performance, and using less memory at times."
     ]
    },
    {
     "cell_type": "code",
     "collapsed": false,
     "input": [],
     "language": "python",
     "metadata": {},
     "outputs": []
    },
    {
     "cell_type": "markdown",
     "metadata": {},
     "source": [
      "In Julia, types are themselves run-time objects, and can also be used to convey information to the compiler."
     ]
    },
    {
     "cell_type": "code",
     "collapsed": false,
     "input": [],
     "language": "python",
     "metadata": {},
     "outputs": []
    },
    {
     "cell_type": "markdown",
     "metadata": {},
     "source": [
      "**Different from C++**\n",
      "\n",
      "This model is a good fit for mathematical programming, where it is unnatural for the first argument to \u201cown\u201d an operation as in traditional object-oriented dispatch. Operators are just functions with special notation \u2014 to extend addition to new user-defined data types, you define new methods for the + function. Existing code then seamlessly applies to the new data types."
     ]
    }
   ],
   "metadata": {}
  }
 ]
}