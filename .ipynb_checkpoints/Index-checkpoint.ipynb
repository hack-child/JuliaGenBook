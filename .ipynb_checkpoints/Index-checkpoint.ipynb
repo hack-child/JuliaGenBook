{
 "metadata": {
  "kernelspec": {
   "codemirror_mode": {
    "name": "ipython",
    "version": 2
   },
   "display_name": "IPython (Python 2)",
   "language": "python",
   "name": "python2"
  },
  "language": "Julia",
  "name": "",
  "signature": "sha256:acd303176ce43e734dcced9b0b33f7d8a15058303e0f769d9175af4a14d19457"
 },
 "nbformat": 3,
 "nbformat_minor": 0,
 "worksheets": [
  {
   "cells": [
    {
     "cell_type": "markdown",
     "metadata": {},
     "source": [
      "#Introduction to Julia for Statictical Genetics"
     ]
    },
    {
     "cell_type": "markdown",
     "metadata": {},
     "source": [
      "<div style=\"float:right; \\\">\n",
      "<img src=\"QTL.jpg\" \n",
      " align=right style=\"float:right; margin-left: 5px; margin-top: 100px\" \n",
      " />\n",
      "</div>\n",
      "\n",
      "The note is entirely written inside <a href=\"http://ipython.org/notebook.html\" target=\"_blank\">Jupeter notebooks</a>. <br>\n",
      "\n",
      "> Why [Jupyter notebook](http://www.nature.com/news/interactive-notebooks-sharing-the-code-1.16261)?\n",
      "\n",
      "[Juliabox](https://www.juliabox.org) can be used to easily check this notebook.\n",
      "\n",
      "####Authors\n",
      "\n",
      "* Hao Cheng (haocheng@iastate.edu)    \n",
      "\n",
      "* Rohan Fernando (rohan@iastate.edu)"
     ]
    },
    {
     "cell_type": "markdown",
     "metadata": {},
     "source": [
      "[Julia by example](http://www.scolvin.com/juliabyexample/#Multidimensional-Arrays)\n",
      "\n",
      "[forio](http://forio.com/labs/julia-studio/tutorials/beginner/2/)\n",
      "\n",
      "[nbviewer](http://nbviewer.ipython.org/github/john9631/JuliaDocs/tree/master/)"
     ]
    },
    {
     "cell_type": "markdown",
     "metadata": {},
     "source": [
      "###Content"
     ]
    },
    {
     "cell_type": "markdown",
     "metadata": {},
     "source": [
      "* Section 0:\n",
      "  &nbsp; **Introduction**\n",
      "\n",
      "    * [0.1](section_0_introduction/whyJulia.ipynb) &nbsp; Why Julia\n",
      "    * [0.2](section_0_introduction/installation.ipynb) &nbsp; Installation <font color=\"red\">$\\bigstar$</font> \n",
      "    * [0.3](section_0_introduction/run.ipynb) &nbsp; Run code <font color=\"red\">$\\bigstar$</font>"
     ]
    },
    {
     "cell_type": "markdown",
     "metadata": {},
     "source": [
      "* Section 1:\n",
      "  &nbsp; **Basics**\n",
      " \n",
      "    * [1.1](section_1_basics/MapFunction.ipynb) &nbsp; basic types learnxiny and random number(distributions)? string(my_example)\n",
      "    * [1.2](section_1_basics/MapFunction.ipynb) &nbsp; loops/control flow?\n",
      "    * [1.3](section_1_basics/RecProb.ipynb) &nbsp; function\n",
      "    * [1.4](section_1_basics/LD.ipynb) &nbsp; map (data structure)(learn it with example (factor incidence matrix)  )\n",
      "    * [1.5](section_1_basics/rwfiles.ipynb) &nbsp; Read and write files <font color=\"red\">$\\bigstar$</font>\n",
      "    * [1.6](section_1_basics/plotting.ipynb) &nbsp; Plotting <font color=\"red\">$\\bigstar$</font>\n",
      "    * [1.4](basic/LD.ipynb) &nbsp; regular expression\n"
     ]
    },
    {
     "cell_type": "markdown",
     "metadata": {},
     "source": [
      "* Section 2:\n",
      "  &nbsp; **Matrix**\n",
      " \n",
      "    * [2.1](section_2_matrix/matrix.ipynb) &nbsp; Matrix <font color=\"red\">$\\bigstar$</font>\n",
      "    * [2.2](section_2_matrix/matrixAlgebra.ipynb) &nbsp; Matrix Algebra <font color=\"red\">$\\bigstar$</font>"
     ]
    },
    {
     "cell_type": "markdown",
     "metadata": {},
     "source": [
      "* Section 3:\n",
      "&nbsp; **Plotting**\n",
      " \n",
      "* [2.1](section_3_plotting/plotting.ipynb) &nbsp; Plotting with Gadfly <font color=\"red\">$\\bigstar$</font>\n",
      "* [2.2](section_3_plotting/interactive.ipynb) &nbsp; Interactive Plotting"
     ]
    },
    {
     "cell_type": "markdown",
     "metadata": {},
     "source": [
      "* Section 3:\n",
      "  &nbsp; **Advanced**\n",
      "\n",
      "    * [2.1](section_2/pointer.ipynb) &nbsp; Pointer <font color=\"red\">(Half Done)</font>   \n",
      "    * [2.1](section_2/BayesTheorem.ipynb) &nbsp; Type(GenSim)\n",
      "    * [2.2](section_2/BayesInference.ipynb) &nbsp; Module\n",
      "    * [2.2](section_2/BayesInference.ipynb) &nbsp; Tricky things(Traps) in Julia\n",
      "    * [2.2](section_2/BayesInference.ipynb) &nbsp; Example things(Traps) in Julia\n",
      "    * [3.6](section_2/BayesInference.ipynb) &nbsp; Closure(Traps) in Julia\n",
      "    * [3.7](create a package) &nbsp; Create your own pakckage"
     ]
    },
    {
     "cell_type": "markdown",
     "metadata": {},
     "source": [
      "    \n",
      "* Section 4:\n",
      "  &nbsp; **Applications in Statistical Genetics**\n",
      "\n",
      "    * [2.1](Bayes/BayesTheorem.ipynb) &nbsp; inverse numerator relationship matrix\n",
      "    * [2.2](Bayes/BayesInference.ipynb) &nbsp; GenSel package\n",
      "    * [2.2](Bayes/BayesInference.ipynb) &nbsp; GenSim package"
     ]
    }
   ],
   "metadata": {}
  }
 ]
}