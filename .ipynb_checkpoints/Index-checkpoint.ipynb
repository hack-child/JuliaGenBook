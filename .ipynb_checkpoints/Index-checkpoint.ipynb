{
 "metadata": {
  "kernelspec": {
   "codemirror_mode": {
    "name": "ipython",
    "version": 2
   },
   "display_name": "IPython (Python 2)",
   "language": "python",
   "name": "python2"
  },
  "language": "Julia",
  "name": "",
  "signature": "sha256:5aae1cecf971f909b9a326e5a2624886711750d4d25b529c6178674ff7b8c4c7"
 },
 "nbformat": 3,
 "nbformat_minor": 0,
 "worksheets": [
  {
   "cells": [
    {
     "cell_type": "markdown",
     "metadata": {},
     "source": [
      "#Introduction to Julia for Quantitative Genetics"
     ]
    },
    {
     "cell_type": "markdown",
     "metadata": {},
     "source": [
      "<div style=\"float:right; \\\">\n",
      "<img src=\"QTL.jpg\" \n",
      " align=right style=\"float:right; margin-left: 5px; margin-top: 100px\" \n",
      " />\n",
      "</div>\n",
      "\n",
      "The note is entirely written inside <a href=\"http://ipython.org/notebook.html\" target=\"_blank\">Jupeter notebooks</a>. <br>\n",
      "\n",
      "> Why [Jupyter notebook](http://www.nature.com/news/interactive-notebooks-sharing-the-code-1.16261)?\n",
      "\n",
      "\n",
      "The guide to install Julia and iJulia notebook.\n",
      "\n",
      "[Juliabox](https://www.juliabox.org) can be used to easily check this notebook.\n",
      "\n",
      "####Authors\n",
      "\n",
      "* Hao Cheng (haocheng@iastate.edu)    \n",
      "\n",
      "* Rohan Fernando (rohan@iastate.edu)"
     ]
    },
    {
     "cell_type": "markdown",
     "metadata": {},
     "source": [
      "[Julia by example](http://www.scolvin.com/juliabyexample/#Multidimensional-Arrays)\n",
      "\n",
      "[forio](http://forio.com/labs/julia-studio/tutorials/beginner/2/)\n",
      "\n",
      "[nbviewer](http://nbviewer.ipython.org/github/john9631/JuliaDocs/tree/master/)"
     ]
    },
    {
     "cell_type": "markdown",
     "metadata": {},
     "source": [
      "###Content\n",
      "\n",
      "* Section 0:\n",
      "  &nbsp; **Introduction**\n",
      " \n",
      "    * [1.1](basic/MapFunction.ipynb) &nbsp; Why Julia, speed?\n",
      "    * [1.2](basic/MapFunction.ipynb) &nbsp; Installation?(Julia,Ijulia,Juno,Pkg installation, platform specific instructions if you have trouble installing Julia.)\n",
      "    * [1.3](basic/MapFunction.ipynb) &nbsp; run it from terminal(an exaple form official Julia document)\n",
      "<br><br>"
     ]
    },
    {
     "cell_type": "markdown",
     "metadata": {},
     "source": [
      "* Section 1:\n",
      "  &nbsp; **Basic**\n",
      " \n",
      "    * [1.1](basic/MapFunction.ipynb) &nbsp; basic types learnxiny and random number(distributions)? string(my_example)\n",
      "    * [1.2](basic/MapFunction.ipynb) &nbsp; loops/control flow?\n",
      "    * [1.3](basic/RecProb.ipynb) &nbsp; function\n",
      "    * [1.4](basic/LD.ipynb) &nbsp; map (data structure)(learn it with example (factor incidence matrix)  )\n",
      "<br><br>"
     ]
    },
    {
     "cell_type": "markdown",
     "metadata": {},
     "source": [
      "* Section 1:\n",
      "  &nbsp; **Files**\n",
      " \n",
      "    * [1.1](basic/MapFunction.ipynb) &nbsp; Read files?\n",
      "    * [1.2](basic/MapFunction.ipynb) &nbsp; Fast read files?\n",
      "    * [1.3](basic/RecProb.ipynb) &nbsp; read binary files?\n",
      "    * [1.4](basic/LD.ipynb) &nbsp; regular expression\n",
      "<br><br>"
     ]
    },
    {
     "cell_type": "markdown",
     "metadata": {},
     "source": [
      "* Section 1:\n",
      "  &nbsp; **Matrix**\n",
      " \n",
      "    * [1.1](matrix/matrix.ipynb) &nbsp; Matrix\n",
      "    * [1.2](matrix/matrixAlgebra.ipynb) &nbsp; Matrix Algebra\n",
      "<br><br>"
     ]
    },
    {
     "cell_type": "markdown",
     "metadata": {},
     "source": [
      "* Section 3:\n",
      "  &nbsp; **Advanced**\n",
      "\n",
      "    * [2.1](Bayes/BayesTheorem.ipynb) &nbsp; Pointer   \n",
      "    * [2.1](Bayes/BayesTheorem.ipynb) &nbsp; Type(GenSim)\n",
      "    * [2.2](Bayes/BayesInference.ipynb) &nbsp; Module\n",
      "    * [2.2](Bayes/BayesInference.ipynb) &nbsp; Tricky things(Traps) in Julia\n",
      "    * [2.2](Bayes/BayesInference.ipynb) &nbsp; Example things(Traps) in Julia\n",
      "<br><br>"
     ]
    },
    {
     "cell_type": "markdown",
     "metadata": {},
     "source": [
      "    \n",
      "* Section 4:\n",
      "  &nbsp; **Examples**\n",
      "\n",
      "    * [2.1](Bayes/BayesTheorem.ipynb) &nbsp; A inverse\n",
      "    * [2.3](create a package) &nbsp; Create your own pakckage\n",
      "    * [2.2](Bayes/BayesInference.ipynb) &nbsp; Gensel package\n",
      "\n",
      "\n",
      "<br><br>"
     ]
    }
   ],
   "metadata": {}
  }
 ]
}