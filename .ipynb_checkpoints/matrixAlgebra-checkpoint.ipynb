{
 "metadata": {
  "name": "",
  "signature": "sha256:d0e5da5546f25e065b7041aa30721157c5767afcb8632860db0c2afde571d008"
 },
 "nbformat": 3,
 "nbformat_minor": 0,
 "worksheets": []
}