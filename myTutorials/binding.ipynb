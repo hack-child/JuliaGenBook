{
 "cells": [
  {
   "cell_type": "markdown",
   "metadata": {},
   "source": [
    "## Scalar and Array Bindings "
   ]
  },
  {
   "cell_type": "code",
   "execution_count": 9,
   "metadata": {
    "collapsed": false
   },
   "outputs": [
    {
     "name": "stdout",
     "output_type": "stream",
     "text": [
      "The address of content of a is Ptr{Void} @0x00007fb42682a060\n",
      "The address of content of b is Ptr{Void} @0x00007fb42682a060\n",
      "The address of content of bb is Ptr{Void} @0x00007fb42682a080\n",
      "The address of a constant 1 is Ptr{Void} @0x00007fb42682a060\n"
     ]
    }
   ],
   "source": [
    "a = 1\n",
    "b = 1\n",
    "bb= 2\n",
    "println(\"The address of content of a is \", pointer_from_objref(a))\n",
    "println(\"The address of content of b is \", pointer_from_objref(b))\n",
    "println(\"The address of content of bb is \", pointer_from_objref(bb))\n",
    "println(\"The address of a constant 1 is \", pointer_from_objref(1))"
   ]
  },
  {
   "cell_type": "code",
   "execution_count": 13,
   "metadata": {
    "collapsed": false
   },
   "outputs": [
    {
     "name": "stdout",
     "output_type": "stream",
     "text": [
      "The address of container c is Ptr{Int64} @0x00007fb4057d2160\n",
      "The address of container d is Ptr{Int64} @0x00007fb4057d2340\n",
      "The address of container e is Ptr{Int64} @0x00007fb4057d2160\n",
      "The address of first element in of c is Ptr{Void} @0x00007fb42682a060\n",
      "The address of first element in of d is Ptr{Void} @0x00007fb42682a060\n",
      "The address of first element in of e is Ptr{Void} @0x00007fb42682a060\n",
      "The address of third element in of c is Ptr{Void} @0x00007fb42682a080\n",
      "The address of third element in of d is Ptr{Void} @0x00007fb42682a080\n",
      "The address of third element in of e is Ptr{Void} @0x00007fb42682a080\n"
     ]
    }
   ],
   "source": [
    "c=[a,b,bb]\n",
    "d=[a,b,bb]\n",
    "e=c\n",
    "\n",
    "println(\"The address of container c is \", pointer(c))\n",
    "println(\"The address of container d is \", pointer(d))\n",
    "println(\"The address of container e is \", pointer(e))\n",
    "\n",
    "\n",
    "println(\"The address of first element in of c is \", pointer_from_objref(c[1]))\n",
    "println(\"The address of first element in of d is \", pointer_from_objref(d[1]))\n",
    "println(\"The address of first element in of e is \", pointer_from_objref(e[1]))\n",
    "\n",
    "\n",
    "println(\"The address of third element in of c is \", pointer_from_objref(c[3]))\n",
    "println(\"The address of third element in of d is \", pointer_from_objref(d[3]))\n",
    "println(\"The address of third element in of e is \", pointer_from_objref(e[3]))"
   ]
  },
  {
   "cell_type": "code",
   "execution_count": 17,
   "metadata": {
    "collapsed": false
   },
   "outputs": [
    {
     "name": "stdout",
     "output_type": "stream",
     "text": [
      "true\n",
      "false\n"
     ]
    }
   ],
   "source": [
    "println(pointer(c) == pointer(e))\n",
    "println(pointer(c) == pointer(d))"
   ]
  },
  {
   "cell_type": "markdown",
   "metadata": {},
   "source": [
    "###functions"
   ]
  },
  {
   "cell_type": "code",
   "execution_count": 4,
   "metadata": {
    "collapsed": false
   },
   "outputs": [
    {
     "name": "stdout",
     "output_type": "stream",
     "text": [
      "The address of content of x is Ptr{Void} @0x00007fe4ce820460\n",
      "The address of content of y inside a function is Ptr{Void} @0x00007fe4ce820460\n",
      "The address of content of y=y+1 inside a function is Ptr{Void} @0x00007fe4ce820480\n",
      "The address of content of y=y-1 inside a function is Ptr{Void} @0x00007fe4ce820460\n"
     ]
    }
   ],
   "source": [
    "function f1(y)\n",
    "    println(\"The address of content of y inside a function is \", pointer_from_objref(y))\n",
    "    y = y + 1\n",
    "    println(\"The address of content of y=y+1 inside a function is \", pointer_from_objref(y))\n",
    "    y = y - 1\n",
    "    println(\"The address of content of y=y-1 inside a function is \", pointer_from_objref(y))\n",
    "end\n",
    "\n",
    "x=1\n",
    "println(\"The address of content of x is \", pointer_from_objref(x))\n",
    "f1(x)"
   ]
  },
  {
   "cell_type": "markdown",
   "metadata": {},
   "source": [
    "* At scalar level \n",
    "\n",
    " * everything is an object, even contants.\n",
    "\n",
    " * a constant has unique address. \n",
    " \n",
    " * name objects are binging to their content object.\n",
    "\n",
    " * same content of different name objects has same address."
   ]
  },
  {
   "cell_type": "code",
   "execution_count": 2,
   "metadata": {
    "collapsed": false
   },
   "outputs": [
    {
     "data": {
      "text/plain": [
       "Ptr{Int64} @0x00007fccdc77d990"
      ]
     },
     "execution_count": 2,
     "metadata": {},
     "output_type": "execute_result"
    }
   ],
   "source": [
    "x=[1,2,3]\n",
    "pointer(x)"
   ]
  },
  {
   "cell_type": "code",
   "execution_count": 4,
   "metadata": {
    "collapsed": false
   },
   "outputs": [
    {
     "name": "stdout",
     "output_type": "stream",
     "text": [
      "Ptr{Int64} @0x00007fccdfb9b730\n",
      "Ptr{Int64} @0x00007fccdfb9c570\n",
      "Ptr{Int64} @0x00007fccdfb9c6b0\n"
     ]
    }
   ],
   "source": [
    "println(pointer(x[1:2]))\n",
    "println(pointer(x[1:2]))\n",
    "println(pointer(x[1:2]))"
   ]
  },
  {
   "cell_type": "code",
   "execution_count": 9,
   "metadata": {
    "collapsed": false
   },
   "outputs": [
    {
     "data": {
      "text/plain": [
       "3-element Array{Int64,1}:\n",
       " 10\n",
       " 10\n",
       "  3"
      ]
     },
     "execution_count": 9,
     "metadata": {},
     "output_type": "execute_result"
    }
   ],
   "source": [
    "x[1:2]=[10,10]\n",
    "x"
   ]
  },
  {
   "cell_type": "code",
   "execution_count": 10,
   "metadata": {
    "collapsed": false
   },
   "outputs": [
    {
     "data": {
      "text/plain": [
       "Ptr{Int64} @0x00007fccdc77d990"
      ]
     },
     "execution_count": 10,
     "metadata": {},
     "output_type": "execute_result"
    }
   ],
   "source": [
    "pointer(x)"
   ]
  },
  {
   "cell_type": "code",
   "execution_count": 16,
   "metadata": {
    "collapsed": false
   },
   "outputs": [
    {
     "name": "stdout",
     "output_type": "stream",
     "text": [
      "[1,2,3]\n",
      "[1,2,3]\n",
      "Ptr{Int64} @0x00007fccdc7b3030\n",
      "Ptr{Int64} @0x00007fccdc7b3210\n"
     ]
    }
   ],
   "source": [
    "x=[1,2,3]\n",
    "x[1:2][1]=100\n",
    "println(x)\n",
    "\n",
    "\n",
    "#equivalent to (I think)\n",
    "x=[1,2,3]\n",
    "x1=x[1:2]\n",
    "x1[1]=100\n",
    "println(x)\n",
    "\n",
    "#remind; scalars(numbers) are unique, but arrays with same contents are different \n",
    "a=[1,2,3]\n",
    "b=[1,2,3]\n",
    "println(pointer(a))\n",
    "println(pointer(b))"
   ]
  },
  {
   "cell_type": "code",
   "execution_count": null,
   "metadata": {
    "collapsed": false
   },
   "outputs": [],
   "source": []
  },
  {
   "cell_type": "code",
   "execution_count": null,
   "metadata": {
    "collapsed": false
   },
   "outputs": [],
   "source": []
  },
  {
   "cell_type": "code",
   "execution_count": null,
   "metadata": {
    "collapsed": false
   },
   "outputs": [],
   "source": []
  },
  {
   "cell_type": "code",
   "execution_count": null,
   "metadata": {
    "collapsed": false
   },
   "outputs": [],
   "source": []
  },
  {
   "cell_type": "code",
   "execution_count": null,
   "metadata": {
    "collapsed": false
   },
   "outputs": [],
   "source": []
  },
  {
   "cell_type": "code",
   "execution_count": null,
   "metadata": {
    "collapsed": false
   },
   "outputs": [],
   "source": []
  },
  {
   "cell_type": "code",
   "execution_count": 22,
   "metadata": {
    "collapsed": false
   },
   "outputs": [
    {
     "data": {
      "text/plain": [
       "3-element Array{Int64,1}:\n",
       " 10\n",
       "  2\n",
       "  3"
      ]
     },
     "execution_count": 22,
     "metadata": {},
     "output_type": "execute_result"
    }
   ],
   "source": [
    "a=[1,2,3]\n",
    "ptr=pointer(a)\n",
    "b=pointer_to_array(ptr,2)\n",
    "b[1]=10\n",
    "a"
   ]
  },
  {
   "cell_type": "markdown",
   "metadata": {},
   "source": [
    ">what if want a subarray not starting from the beginingg and assign new values to that address? "
   ]
  },
  {
   "cell_type": "markdown",
   "metadata": {},
   "source": [
    "##declare as 1 row matrix"
   ]
  },
  {
   "cell_type": "code",
   "execution_count": 24,
   "metadata": {
    "collapsed": false
   },
   "outputs": [
    {
     "data": {
      "text/plain": [
       "1x3 Array{Int64,2}:\n",
       " 1  2  3"
      ]
     },
     "execution_count": 24,
     "metadata": {},
     "output_type": "execute_result"
    }
   ],
   "source": [
    "a=[1 2 3]"
   ]
  },
  {
   "cell_type": "code",
   "execution_count": 26,
   "metadata": {
    "collapsed": false
   },
   "outputs": [
    {
     "data": {
      "text/plain": [
       "Ptr{Int64} @0x00007fcce3fc1fd8"
      ]
     },
     "execution_count": 26,
     "metadata": {},
     "output_type": "execute_result"
    }
   ],
   "source": [
    "ptr=pointer(a,2)"
   ]
  },
  {
   "cell_type": "code",
   "execution_count": 32,
   "metadata": {
    "collapsed": false
   },
   "outputs": [
    {
     "data": {
      "text/plain": [
       "2-element Array{Int64,1}:\n",
       " 2\n",
       " 3"
      ]
     },
     "execution_count": 32,
     "metadata": {},
     "output_type": "execute_result"
    }
   ],
   "source": [
    "b=pointer_to_array(ptr,2)"
   ]
  },
  {
   "cell_type": "code",
   "execution_count": 33,
   "metadata": {
    "collapsed": false
   },
   "outputs": [
    {
     "data": {
      "text/plain": [
       "100"
      ]
     },
     "execution_count": 33,
     "metadata": {},
     "output_type": "execute_result"
    }
   ],
   "source": [
    "b[2]=100"
   ]
  },
  {
   "cell_type": "code",
   "execution_count": 34,
   "metadata": {
    "collapsed": false
   },
   "outputs": [
    {
     "data": {
      "text/plain": [
       "1x3 Array{Int64,2}:\n",
       " 1  2  100"
      ]
     },
     "execution_count": 34,
     "metadata": {},
     "output_type": "execute_result"
    }
   ],
   "source": [
    "a"
   ]
  }
 ],
 "metadata": {
  "kernelspec": {
   "display_name": "Julia 0.3.11",
   "language": "julia",
   "name": "julia-0.3"
  }
 },
 "nbformat": 4,
 "nbformat_minor": 0
}
