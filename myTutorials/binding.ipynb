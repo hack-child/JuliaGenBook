{
 "metadata": {
  "language": "Julia",
  "name": "",
  "signature": "sha256:af1e8f1e7104e481a0269b510d84e6c971d008f1f40b5d1a0748e63bd5a2e3cd"
 },
 "nbformat": 3,
 "nbformat_minor": 0,
 "worksheets": [
  {
   "cells": [
    {
     "cell_type": "heading",
     "level": 2,
     "metadata": {},
     "source": [
      "Scalar and Array Bindings "
     ]
    },
    {
     "cell_type": "code",
     "collapsed": false,
     "input": [
      "a = 1\n",
      "b = 1\n",
      "bb= 2\n",
      "println(\"The address of content of a is \", pointer_from_objref(a))\n",
      "println(\"The address of content of b is \", pointer_from_objref(b))\n",
      "println(\"The address of content of bb is \", pointer_from_objref(bb))\n",
      "println(\"The address of a constant 1 is \", pointer_from_objref(1))"
     ],
     "language": "python",
     "metadata": {},
     "outputs": [
      {
       "output_type": "stream",
       "stream": "stdout",
       "text": [
        "The address of content of a is Ptr{Void}"
       ]
      },
      {
       "output_type": "stream",
       "stream": "stdout",
       "text": [
        " @0x00007fb42682a060\n",
        "The address of content of b is Ptr{Void} @0x00007fb42682a060\n",
        "The address of content of bb is Ptr{Void} @0x00007fb42682a080\n",
        "The address of a constant 1 is Ptr{Void} @0x00007fb42682a060\n"
       ]
      }
     ],
     "prompt_number": 9
    },
    {
     "cell_type": "code",
     "collapsed": false,
     "input": [
      "c=[a,b,bb]\n",
      "d=[a,b,bb]\n",
      "e=c\n",
      "\n",
      "println(\"The address of container c is \", pointer(c))\n",
      "println(\"The address of container d is \", pointer(d))\n",
      "println(\"The address of container e is \", pointer(e))\n",
      "\n",
      "\n",
      "println(\"The address of first element in of c is \", pointer_from_objref(c[1]))\n",
      "println(\"The address of first element in of d is \", pointer_from_objref(d[1]))\n",
      "println(\"The address of first element in of e is \", pointer_from_objref(e[1]))\n",
      "\n",
      "\n",
      "println(\"The address of third element in of c is \", pointer_from_objref(c[3]))\n",
      "println(\"The address of third element in of d is \", pointer_from_objref(d[3]))\n",
      "println(\"The address of third element in of e is \", pointer_from_objref(e[3]))"
     ],
     "language": "python",
     "metadata": {},
     "outputs": [
      {
       "output_type": "stream",
       "stream": "stdout",
       "text": [
        "The address of container c is Ptr"
       ]
      },
      {
       "output_type": "stream",
       "stream": "stdout",
       "text": [
        "{Int64} @0x00007fb4057d2160\n",
        "The address of container d is Ptr{Int64} @0x00007fb4057d2340\n",
        "The address of container e is Ptr{Int64} @0x00007fb4057d2160\n",
        "The address of first element in of c is Ptr{Void} @0x00007fb42682a060\n",
        "The address of first element in of d is Ptr{Void} @0x00007fb42682a060\n",
        "The address of first element in of e is Ptr{Void} @0x00007fb42682a060\n",
        "The address of third element in of c is Ptr{Void} @0x00007fb42682a080\n",
        "The address of third element in of d is Ptr{Void} @0x00007fb42682a080\n",
        "The address of third element in of e is Ptr{Void} @0x00007fb42682a080\n"
       ]
      }
     ],
     "prompt_number": 13
    },
    {
     "cell_type": "code",
     "collapsed": false,
     "input": [
      "println(pointer(c) == pointer(e))\n",
      "println(pointer(c) == pointer(d))"
     ],
     "language": "python",
     "metadata": {},
     "outputs": [
      {
       "output_type": "stream",
       "stream": "stdout",
       "text": [
        "true\n"
       ]
      },
      {
       "output_type": "stream",
       "stream": "stdout",
       "text": [
        "false\n"
       ]
      }
     ],
     "prompt_number": 17
    },
    {
     "cell_type": "markdown",
     "metadata": {},
     "source": [
      "###functions"
     ]
    },
    {
     "cell_type": "code",
     "collapsed": false,
     "input": [
      "function f1(y)\n",
      "    println(\"The address of content of y inside a function is \", pointer_from_objref(y))\n",
      "    y = y + 1\n",
      "    println(\"The address of content of y=y+1 inside a function is \", pointer_from_objref(y))\n",
      "    y = y - 1\n",
      "    println(\"The address of content of y=y-1 inside a function is \", pointer_from_objref(y))\n",
      "end\n",
      "\n",
      "x=1\n",
      "println(\"The address of content of x is \", pointer_from_objref(x))\n",
      "f1(x)"
     ],
     "language": "python",
     "metadata": {},
     "outputs": [
      {
       "output_type": "stream",
       "stream": "stdout",
       "text": [
        "The address of content of x is Ptr{Void}"
       ]
      },
      {
       "output_type": "stream",
       "stream": "stdout",
       "text": [
        " @0x00007fe4ce820460\n",
        "The address of content of y inside a function is Ptr{Void} @0x00007fe4ce820460\n",
        "The address of content of y=y+1 inside a function is Ptr{Void} @0x00007fe4ce820480\n",
        "The address of content of y=y-1 inside a function is Ptr{Void} @0x00007fe4ce820460\n"
       ]
      }
     ],
     "prompt_number": 4
    },
    {
     "cell_type": "markdown",
     "metadata": {},
     "source": [
      "* At scalar level \n",
      "\n",
      " * everything is an object, even contants.\n",
      "\n",
      " * a constant has unique address. \n",
      " \n",
      " * name objects are binging to their content object.\n",
      "\n",
      " * same content of different name objects has same address."
     ]
    }
   ],
   "metadata": {}
  }
 ]
}