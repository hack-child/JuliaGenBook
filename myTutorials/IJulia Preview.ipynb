{
 "metadata": {
  "language": "Julia",
  "name": "",
  "signature": "sha256:a9e18be122edc2f1e4b9bbb6090aa181738d6aebfa4879b51c6b4c4fb5da675d"
 },
 "nbformat": 3,
 "nbformat_minor": 0,
 "worksheets": [
  {
   "cells": [
    {
     "cell_type": "heading",
     "level": 1,
     "metadata": {},
     "source": [
      "An IJulia Preview"
     ]
    },
    {
     "cell_type": "markdown",
     "metadata": {},
     "source": [
      "This notebook is a preview demo of **IJulia**: a [Julia-language](http://julialang.org/) backend combined with the [IPython](http://ipython.org/) interactive environment.   This combination allows you to interact with the Julia language using IPython's powerful [graphical notebook](http://ipython.org/notebook.html), which combines code, formatted text, math, and multimedia in a single document.\n",
      "\n",
      "* Note: this is a *preview*, because it relies on pre-release bleeding-edge versions of Julia, IPython, and several Julia packages, as explained on the [IJulia github page](https://github.com/JuliaLang/IJulia.jl), and functionality is evolving rapidly.  We hope to have a more polished release soon."
     ]
    },
    {
     "cell_type": "heading",
     "level": 2,
     "metadata": {},
     "source": [
      "Basic Julia interaction"
     ]
    },
    {
     "cell_type": "markdown",
     "metadata": {},
     "source": [
      "Basic mathematical expressions work like you expect:"
     ]
    },
    {
     "cell_type": "code",
     "collapsed": false,
     "input": [
      "2 + sin(3)"
     ],
     "language": "python",
     "metadata": {},
     "outputs": [
      {
       "metadata": {},
       "output_type": "pyout",
       "prompt_number": 1,
       "text": [
        "2.1411200080598674"
       ]
      }
     ],
     "prompt_number": 1
    },
    {
     "cell_type": "markdown",
     "metadata": {},
     "source": [
      "You can define variables, write loops, and execute arbitrary multiline code blocks.  Here is an example of an alternating harmonic series $\\sum_{n=1}^\\infty \\frac{(-1)^n}{n}$ from a [Julia tutorial by Homer Reid](http://homerreid.ath.cx/teaching/18.330/JuliaProgramming.shtml#SimplePrograms):"
     ]
    },
    {
     "cell_type": "code",
     "collapsed": false,
     "input": [
      "s = 0.0\n",
      "for n = 1:2:10000\n",
      "    s += 1/n - 1/(n+1)\n",
      "end\n",
      "s # an expression on the last line (if it doesn't end with \";\") is printed as \"Out\""
     ],
     "language": "python",
     "metadata": {},
     "outputs": [
      {
       "metadata": {},
       "output_type": "pyout",
       "prompt_number": 2,
       "text": [
        "0.6930971830599458"
       ]
      }
     ],
     "prompt_number": 2
    },
    {
     "cell_type": "markdown",
     "metadata": {},
     "source": [
      "Previous outputs can be referred to via `Out[`*n*`]`, following the IPython, for example `Out[2]` for the result above.  You can also use the shorthand `_2`, or `_` for the previous result, as in IPython.  Like in Matlab, `ans` can also be used to refer to the previous result, *even if it was not printed* (when the command ended with `;`).\n",
      "\n",
      "For example, the harmonic series above should be converging (slowly) to $\\ln 2$, and we can check this:"
     ]
    },
    {
     "cell_type": "code",
     "collapsed": false,
     "input": [
      "Out[2] - log(2)"
     ],
     "language": "python",
     "metadata": {},
     "outputs": [
      {
       "metadata": {},
       "output_type": "pyout",
       "prompt_number": 3,
       "text": [
        "-4.9997499999454575e-5"
       ]
      }
     ],
     "prompt_number": 3
    },
    {
     "cell_type": "markdown",
     "metadata": {},
     "source": [
      "Like Matlab or Scipy + Numpy, Julia has lots of mathematical functions and linear algebra built in.  For example, we can define a $500\\times500$ random matrix $R$ and form the positive-definite matrix $R^* R$:"
     ]
    },
    {
     "cell_type": "code",
     "collapsed": false,
     "input": [
      "R = rand(500,500)\n",
      "R' * R"
     ],
     "language": "python",
     "metadata": {},
     "outputs": [
      {
       "metadata": {},
       "output_type": "pyout",
       "prompt_number": 4,
       "text": [
        "500x500 Float64 Array:\n",
        " 162.603  127.476  125.076  118.914  \u2026  121.913  119.346  123.416  118.659\n",
        " 127.476  173.211  132.191  125.419     131.765  126.816  131.182  126.373\n",
        " 125.076  132.191  165.643  122.073     123.358  119.285  127.365  127.132\n",
        " 118.914  125.419  122.073  161.962     124.197  116.947  125.176  119.248\n",
        " 119.912  127.888  125.779  119.243     124.572  120.879  124.785  123.494\n",
        " 113.774  118.241  121.404  118.418  \u2026  121.256  118.652  120.242  117.505\n",
        " 125.258  128.183  125.683  123.607     122.044  120.701  127.675  123.064\n",
        " 123.856  128.797  127.62   126.731     125.854  121.413  130.059  129.455\n",
        " 119.448  123.88   122.982  117.524     119.345  119.598  121.751  120.35 \n",
        " 121.084  132.255  125.685  126.087     125.765  122.052  134.187  124.131\n",
        "   \u22ee                                 \u22f1                                    \n",
        " 122.913  126.649  124.402  122.839  \u2026  128.841  119.598  131.985  119.851\n",
        " 119.279  120.223  119.79   118.196     121.333  116.689  121.644  117.713\n",
        " 115.047  121.647  119.567  119.708     120.483  116.044  124.468  116.12 \n",
        " 118.465  127.593  120.366  116.033     116.425  115.412  123.313  120.278\n",
        " 121.567  127.576  123.69   118.96      119.438  116.865  125.093  116.793\n",
        " 122.765  127.004  123.946  119.973  \u2026  122.286  121.177  126.788  124.31 \n",
        " 121.913  131.765  123.358  124.197     168.014  122.242  128.991  122.263\n",
        " 119.346  126.816  119.285  116.947     122.242  161.424  123.398  119.624\n",
        " 123.416  131.182  127.365  125.176     128.991  123.398  173.575  128.892\n",
        " 118.659  126.373  127.132  119.248     122.263  119.624  128.892  161.541"
       ]
      }
     ],
     "prompt_number": 4
    },
    {
     "cell_type": "markdown",
     "metadata": {},
     "source": [
      "(Notice that, by default, only a portion of a large matrix is shown.  You didn't really want to read $500^2 = 250,000$ numbers, did you?)\n",
      "\n",
      "Standard output from Julia is also captured and sent to the IJulia notebook as you'd expect:"
     ]
    },
    {
     "cell_type": "code",
     "collapsed": false,
     "input": [
      "println(\"Hello world!\\n\")\n",
      "println(STDERR, \"B\u00f6rk b\u00f6rk b\u00f6rk, some unicode output on stderr...\\n\")"
     ],
     "language": "python",
     "metadata": {},
     "outputs": [
      {
       "output_type": "stream",
       "stream": "stdout",
       "text": [
        "Hello world!\n",
        "\n"
       ]
      },
      {
       "output_type": "stream",
       "stream": "stderr",
       "text": [
        "B\u00f6rk b\u00f6rk b\u00f6rk, some unicode output on stderr...\n",
        "\n"
       ]
      }
     ],
     "prompt_number": 5
    },
    {
     "cell_type": "markdown",
     "metadata": {},
     "source": [
      "IJulia even captures output from external C libraries (and notice how easy it is using Julia's `ccall` intrinsic):"
     ]
    },
    {
     "cell_type": "code",
     "collapsed": false,
     "input": [
      "ccall(:printf, Cint, (Ptr{Uint8},), \"Hello from C!!\\n\");"
     ],
     "language": "python",
     "metadata": {},
     "outputs": [
      {
       "output_type": "stream",
       "stream": "stdout",
       "text": [
        "Hello from C!!\n"
       ]
      }
     ],
     "prompt_number": 1
    },
    {
     "cell_type": "markdown",
     "metadata": {},
     "source": [
      "We can define functions, of course, and use them in later input cells:"
     ]
    },
    {
     "cell_type": "code",
     "collapsed": false,
     "input": [
      "f(x) = x + 1"
     ],
     "language": "python",
     "metadata": {},
     "outputs": [
      {
       "metadata": {},
       "output_type": "pyout",
       "prompt_number": 2,
       "text": [
        "f (generic function with 1 method)"
       ]
      }
     ],
     "prompt_number": 2
    },
    {
     "cell_type": "code",
     "collapsed": false,
     "input": [
      "println(f(3))\n",
      "f([1,1,2,3,5,8])"
     ],
     "language": "python",
     "metadata": {},
     "outputs": [
      {
       "output_type": "stream",
       "stream": "stdout",
       "text": [
        "4\n"
       ]
      },
      {
       "metadata": {},
       "output_type": "pyout",
       "prompt_number": 4,
       "text": [
        "6-element Array{Int64,1}:\n",
        " 2\n",
        " 2\n",
        " 3\n",
        " 4\n",
        " 6\n",
        " 9"
       ]
      }
     ],
     "prompt_number": 4
    },
    {
     "cell_type": "markdown",
     "metadata": {},
     "source": [
      "Notice that the input above both printed an scalar to `STDOUT` and also returned a vector, the latter using Julia's ability to write polymorphic functions and built-in array operations.\n",
      "\n",
      "On the other hand adding a string to a number is not defined (there is no `+` method defined for those types, although we could easily add one), and attempting to do so will throw an exception:"
     ]
    },
    {
     "cell_type": "code",
     "collapsed": false,
     "input": [
      "f(\"Hello?\")"
     ],
     "language": "python",
     "metadata": {},
     "outputs": [
      {
       "ename": "LoadError",
       "evalue": "no method +(ASCIIString,Int64)\nat In[8]:1",
       "output_type": "pyerr",
       "traceback": [
        "no method +(ASCIIString,Int64)\nat In[8]:1",
        " in f at In[6]:1"
       ]
      }
     ],
     "prompt_number": 8
    },
    {
     "cell_type": "heading",
     "level": 2,
     "metadata": {},
     "source": [
      "Julia\u2013Python interoperability: SciPy and Matplotlib"
     ]
    },
    {
     "cell_type": "markdown",
     "metadata": {},
     "source": [
      "Julia can easily and transparently call external Python code using a package called [PyCall](https://github.com/stevengj/PyCall.jl), and to illustrate that capability we will show some examples calling [SciPy](http://www.scipy.org/) and [Matplotlib](http://matplotlib.org/) from Julia.\n",
      "\n",
      "For example, we can use the [Newton solver in scipy.optimize](http://docs.scipy.org/doc/scipy/reference/generated/scipy.optimize.newton.html) to solve a transcendental equation $\\cos(x) - x = 0$ given a *Julia* function:"
     ]
    },
    {
     "cell_type": "code",
     "collapsed": false,
     "input": [
      "using PyCall\n",
      "@pyimport scipy.optimize as so\n",
      "so.newton(x -> cos(x) - x, 1)"
     ],
     "language": "python",
     "metadata": {},
     "outputs": [
      {
       "ename": "UndefRefError",
       "evalue": "access to undefined reference",
       "output_type": "pyerr",
       "traceback": [
        "KERNEL EXCEPTION",
        "access to undefined reference",
        "",
        " in convert at /Users/erxingfangshui/.julia/v0.3/PyCall/src/conversions.jl:82",
        " in pystring at /Users/erxingfangshui/.julia/v0.3/PyCall/src/PyCall.jl:545",
        " in show at /Users/erxingfangshui/.julia/v0.3/PyCall/src/exception.jl:35",
        " in showerror at replutil.jl:72",
        " in showerror at replutil.jl:78",
        " in sprint at iostream.jl:229",
        " in pyerr_content at /Users/erxingfangshui/.julia/v0.3/IJulia/src/execute_request.jl:78"
       ]
      }
     ]
    },
    {
     "cell_type": "markdown",
     "metadata": {},
     "source": [
      "We can use the same `@pyimport` syntax to import Matplotlib (specifically, the `matplotlib.pyplot` module), but to integrate Matplotlib's graphics with the IJulia display requires a little more work.  To simplify this, we've created a [PyPlot module](https://github.com/stevengj/PyPlot.jl) for Julia:"
     ]
    },
    {
     "cell_type": "code",
     "collapsed": false,
     "input": [
      "using PyPlot\n",
      "x = linspace(0,2*pi,1000)\n",
      "y = sin(3*x + 4*cos(2*x))\n",
      "plot(x, y, color=\"red\", linewidth=2.0, linestyle=\"--\")\n",
      "ylabel(\"the y axis\")\n",
      "xlabel(\"the x axis\")\n",
      "title(\"a sinusoidally-modulated sinusoid\")"
     ],
     "language": "python",
     "metadata": {},
     "outputs": [
      {
       "ename": "LoadError",
       "evalue": "plot not defined\nwhile loading In[7], in expression starting on line 4",
       "output_type": "pyerr",
       "traceback": [
        "plot not defined\nwhile loading In[7], in expression starting on line 4",
        ""
       ]
      }
     ],
     "prompt_number": 7
    },
    {
     "cell_type": "markdown",
     "metadata": {},
     "source": [
      "Notice that, by default, the plots are displayed inline (just as for the `%pylab inline` \"magic\" in IPython).  This kind of multimedia display can be enabled for *any* Julia object, as explained in the next section."
     ]
    },
    {
     "cell_type": "heading",
     "level": 2,
     "metadata": {},
     "source": [
      "Multimedia display in IJulia"
     ]
    },
    {
     "cell_type": "markdown",
     "metadata": {},
     "source": [
      "Like most programming languages, Julia has a built-in `print(x)` function for outputting an object `x` as text, and you can override the resulting text representation of a user-defined type by overloading Julia's `show` function.  The next version of Julia, however, will extend this to a more general mechanism to display **arbitrary multimedia representations** of objects, as defined by standard [MIME types](https://en.wikipedia.org/wiki/Internet_media_type).   More specifically, the Julia [multimedia I/O API](http://docs.julialang.org/en/latest/stdlib/base/#multimedia-i-o) provides:\n",
      "\n",
      "* A `display(x)` function requests the richest available multimedia display of a Julia object x (with a `text/plain` fallback).\n",
      "* Overloading `writemime` allows one to indicate arbitrary multimedia representations (keyed by standard MIME types) of user-defined types.\n",
      "* Multimedia-capable display backends may be registered by subclassing a generic `Display` type.  IJulia provides one such backend which, thanks to the IPython notebook, is capable of displaying HTML, LaTeX, SVG, PNG, and JPEG media formats.\n",
      "\n",
      "The last two points are critical, because they separate **multimedia export** (which is defined by functions associated with the originating Julia data) from **multimedia display** (defined by backends which know nothing about the source of the data).\n",
      "\n",
      "Precisely these mechanism were used to create the inline PyPlot plots above.   To start with, the simplest thing is to provide the MIME type of the data when you call `display`, which allows you to pass \"raw\" data in the corresponding format:"
     ]
    },
    {
     "cell_type": "code",
     "collapsed": false,
     "input": [
      "display(\"text/html\", \"\"\"Hello <b>world</b> in <font color=\"red\">HTML</font>!\"\"\")"
     ],
     "language": "python",
     "metadata": {},
     "outputs": [
      {
       "html": [
        "Hello <b>world</b> in <font color=\"red\">HTML</font>!"
       ],
       "metadata": {},
       "output_type": "display_data"
      }
     ],
     "prompt_number": 8
    },
    {
     "cell_type": "markdown",
     "metadata": {},
     "source": [
      "However, it will be more common to attach this information to types, so that they display correctly automatically.  For example, let's define a simple `HTML` type in Julia that contains a string and automatically displays as HTML (given an HTML-capable backend such as IJulia):"
     ]
    },
    {
     "cell_type": "code",
     "collapsed": false,
     "input": [
      "type HTML\n",
      "   s::String\n",
      "end\n",
      "import Base.writemime\n",
      "writemime(io::IO, ::@MIME\"text/html\", x::HTML) = print(io, x.s)"
     ],
     "language": "python",
     "metadata": {},
     "outputs": [
      {
       "ename": "LoadError",
       "evalue": "syntax: invalid macro use \"@((macrocall @MIME_str text/html))\"\nwhile loading In[12], in expression starting on line 5",
       "output_type": "pyerr",
       "traceback": [
        "syntax: invalid macro use \"@((macrocall @MIME_str text/html))\"\nwhile loading In[12], in expression starting on line 5",
        ""
       ]
      }
     ],
     "prompt_number": 12
    },
    {
     "cell_type": "markdown",
     "metadata": {},
     "source": [
      "Here, `writemime` is just a function that writes `x` in the corresponding format (`text/html`) to the I/O stream `io`.  The `@MIME` is a bit of magic to allow Julia's [multiple dispatch](http://en.wikipedia.org/wiki/Multiple_dispatch) to automatically select the correct `writemime` function for a given MIME type (here `\"text/html\"`) and object type (here `HTML`).  We also needed an `import` statement in order to add new methods to an existing function from another module.\n",
      "\n",
      "This `writemime` definition is all that we need to make any object of type `HTML` display automatically as HTML text in IJulia:"
     ]
    },
    {
     "cell_type": "code",
     "collapsed": false,
     "input": [
      "x = HTML(\"<ul> <li> Hello from a bulleted list! </ul>\")"
     ],
     "language": "python",
     "metadata": {},
     "outputs": [
      {
       "html": [
        "<ul> <li> Hello from a bulleted list! </ul>"
       ],
       "metadata": {},
       "output_type": "pyout",
       "prompt_number": 13,
       "text": [
        "HTML(\"<ul> <li> Hello from a bulleted list! </ul>\")"
       ]
      }
     ],
     "prompt_number": 13
    },
    {
     "cell_type": "code",
     "collapsed": false,
     "input": [
      "display(x)\n",
      "println(x)"
     ],
     "language": "python",
     "metadata": {},
     "outputs": [
      {
       "html": [
        "<ul> <li> Hello from a bulleted list! </ul>"
       ],
       "metadata": {},
       "output_type": "display_data",
       "text": [
        "HTML(\"<ul> <li> Hello from a bulleted list! </ul>\")"
       ]
      },
      {
       "output_type": "stream",
       "stream": "stdout",
       "text": [
        "HTML("
       ]
      },
      {
       "output_type": "stream",
       "stream": "stdout",
       "text": [
        "\"<ul> <li> Hello from a bulleted list! </ul>\")\n"
       ]
      }
     ],
     "prompt_number": 14
    },
    {
     "cell_type": "markdown",
     "metadata": {},
     "source": [
      "Once this functionality becomes available in a Julia release, we expect that many Julia modules will provide rich representations of their objects for display in IJulia, and moreover that other backends will appear.  Not only can other backends (such as Tim Holy's [ImageView](https://github.com/timholy/ImageView.jl) package) provide more full-featured display of images etcetera than IJulia's inline graphics, but they can also add support for displaying MIME types not handled by the IPython notebook (such as video or audio)."
     ]
    }
   ],
   "metadata": {}
  }
 ]
}