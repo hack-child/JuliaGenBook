{
 "metadata": {
  "language": "Julia",
  "name": "",
  "signature": "sha256:85b3994c41e35972a9191aaa132aa0ad9f84522c0c14efdcfa9bf2455bc4c094"
 },
 "nbformat": 3,
 "nbformat_minor": 0,
 "worksheets": [
  {
   "cells": [
    {
     "cell_type": "code",
     "collapsed": false,
     "input": [
      "d=[1,2,3]"
     ],
     "language": "python",
     "metadata": {},
     "outputs": [
      {
       "metadata": {},
       "output_type": "pyout",
       "prompt_number": 6,
       "text": [
        "3-element Array{Int64,1}:\n",
        " 1\n",
        " 2\n",
        " 3"
       ]
      }
     ],
     "prompt_number": 6
    },
    {
     "cell_type": "code",
     "collapsed": false,
     "input": [
      "function change(ha)\n",
      "    ha=ha+[2,2,2]\n",
      "end\n",
      "\n",
      "function change2(ha)\n",
      "    ha=ha.+[1,2,3]\n",
      "end\n",
      "\n",
      "function change3(ha)\n",
      "    ha[1]=ha[1]+1\n",
      "end"
     ],
     "language": "python",
     "metadata": {},
     "outputs": [
      {
       "metadata": {},
       "output_type": "pyout",
       "prompt_number": 5,
       "text": [
        "change3 (generic function with 1 method)"
       ]
      }
     ],
     "prompt_number": 5
    },
    {
     "cell_type": "code",
     "collapsed": false,
     "input": [
      "change(d)\n",
      "println(d)\n",
      "change2(d)\n",
      "println(d)\n",
      "change3(d)\n",
      "println(d)"
     ],
     "language": "python",
     "metadata": {},
     "outputs": [
      {
       "output_type": "stream",
       "stream": "stdout",
       "text": [
        "[1"
       ]
      },
      {
       "output_type": "stream",
       "stream": "stdout",
       "text": [
        ",2,3]\n",
        "[1,2,3]\n",
        "[2,2,3]\n"
       ]
      }
     ],
     "prompt_number": 7
    },
    {
     "cell_type": "code",
     "collapsed": false,
     "input": [
      "function thun(x)\n",
      "    w=x\n",
      "    w[1]=10\n",
      "end\n",
      "\n",
      "haha=[1,2,3]\n",
      "thun(haha)\n",
      "haha"
     ],
     "language": "python",
     "metadata": {},
     "outputs": [
      {
       "metadata": {},
       "output_type": "pyout",
       "prompt_number": 1,
       "text": [
        "3-element Array{Int64,1}:\n",
        " 10\n",
        "  2\n",
        "  3"
       ]
      }
     ],
     "prompt_number": 1
    }
   ],
   "metadata": {}
  }
 ]
}