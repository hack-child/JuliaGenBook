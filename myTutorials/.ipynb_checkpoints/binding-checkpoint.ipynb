{
 "metadata": {
  "language": "Julia",
  "name": "",
  "signature": "sha256:3cff03b6614b960adb1e8ac89b03b1f414f90bfdf4686dd34e55792de88bed12"
 },
 "nbformat": 3,
 "nbformat_minor": 0,
 "worksheets": [
  {
   "cells": [
    {
     "cell_type": "heading",
     "level": 2,
     "metadata": {},
     "source": [
      "Scalar and Array Bindings "
     ]
    },
    {
     "cell_type": "code",
     "collapsed": false,
     "input": [
      "a = 1\n",
      "b = 1\n",
      "bb= 2\n",
      "println(\"The address of content of a is \", pointer_from_objref(a))\n",
      "println(\"The address of content of b is \", pointer_from_objref(b))\n",
      "println(\"The address of content of bb is \", pointer_from_objref(bb))\n",
      "println(\"The address of a constant 1 is \", pointer_from_objref(1))"
     ],
     "language": "python",
     "metadata": {},
     "outputs": [
      {
       "output_type": "stream",
       "stream": "stdout",
       "text": [
        "The address of content of a is Ptr{Void}"
       ]
      },
      {
       "output_type": "stream",
       "stream": "stdout",
       "text": [
        " @0x00007fb42682a060\n",
        "The address of content of b is Ptr{Void} @0x00007fb42682a060\n",
        "The address of content of bb is Ptr{Void} @0x00007fb42682a080\n",
        "The address of a constant 1 is Ptr{Void} @0x00007fb42682a060\n"
       ]
      }
     ],
     "prompt_number": 9
    },
    {
     "cell_type": "code",
     "collapsed": false,
     "input": [
      "c=[a,b,bb]\n",
      "d=[a,b,bb]\n",
      "e=c\n",
      "\n",
      "println(\"The address of container c is \", pointer(c))\n",
      "println(\"The address of container d is \", pointer(d))\n",
      "println(\"The address of container e is \", pointer(e))\n",
      "\n",
      "\n",
      "println(\"The address of first element in of c is \", pointer_from_objref(c[1]))\n",
      "println(\"The address of first element in of d is \", pointer_from_objref(d[1]))\n",
      "println(\"The address of first element in of e is \", pointer_from_objref(e[1]))\n",
      "\n",
      "\n",
      "println(\"The address of third element in of c is \", pointer_from_objref(c[3]))\n",
      "println(\"The address of third element in of d is \", pointer_from_objref(d[3]))\n",
      "println(\"The address of third element in of e is \", pointer_from_objref(e[3]))"
     ],
     "language": "python",
     "metadata": {},
     "outputs": [
      {
       "output_type": "stream",
       "stream": "stdout",
       "text": [
        "The address of container c is Ptr"
       ]
      },
      {
       "output_type": "stream",
       "stream": "stdout",
       "text": [
        "{Int64} @0x00007fb4057d2160\n",
        "The address of container d is Ptr{Int64} @0x00007fb4057d2340\n",
        "The address of container e is Ptr{Int64} @0x00007fb4057d2160\n",
        "The address of first element in of c is Ptr{Void} @0x00007fb42682a060\n",
        "The address of first element in of d is Ptr{Void} @0x00007fb42682a060\n",
        "The address of first element in of e is Ptr{Void} @0x00007fb42682a060\n",
        "The address of third element in of c is Ptr{Void} @0x00007fb42682a080\n",
        "The address of third element in of d is Ptr{Void} @0x00007fb42682a080\n",
        "The address of third element in of e is Ptr{Void} @0x00007fb42682a080\n"
       ]
      }
     ],
     "prompt_number": 13
    },
    {
     "cell_type": "code",
     "collapsed": false,
     "input": [
      "println(pointer(c) == pointer(e))\n",
      "println(pointer(c) == pointer(d))"
     ],
     "language": "python",
     "metadata": {},
     "outputs": [
      {
       "output_type": "stream",
       "stream": "stdout",
       "text": [
        "true\n"
       ]
      },
      {
       "output_type": "stream",
       "stream": "stdout",
       "text": [
        "false\n"
       ]
      }
     ],
     "prompt_number": 17
    },
    {
     "cell_type": "markdown",
     "metadata": {},
     "source": [
      "###functions"
     ]
    },
    {
     "cell_type": "code",
     "collapsed": false,
     "input": [
      "function f1(y)\n",
      "    println(\"The address of content of y inside a function is \", pointer_from_objref(y))\n",
      "    y = y + 1\n",
      "    println(\"The address of content of y=y+1 inside a function is \", pointer_from_objref(y))\n",
      "    y = y - 1\n",
      "    println(\"The address of content of y=y-1 inside a function is \", pointer_from_objref(y))\n",
      "end\n",
      "\n",
      "x=1\n",
      "println(\"The address of content of x is \", pointer_from_objref(x))\n",
      "f1(x)"
     ],
     "language": "python",
     "metadata": {},
     "outputs": [
      {
       "output_type": "stream",
       "stream": "stdout",
       "text": [
        "The address of content of x is Ptr{Void}"
       ]
      },
      {
       "output_type": "stream",
       "stream": "stdout",
       "text": [
        " @0x00007fe4ce820460\n",
        "The address of content of y inside a function is Ptr{Void} @0x00007fe4ce820460\n",
        "The address of content of y=y+1 inside a function is Ptr{Void} @0x00007fe4ce820480\n",
        "The address of content of y=y-1 inside a function is Ptr{Void} @0x00007fe4ce820460\n"
       ]
      }
     ],
     "prompt_number": 4
    },
    {
     "cell_type": "markdown",
     "metadata": {},
     "source": [
      "* At scalar level \n",
      "\n",
      " * everything is an object, even contants.\n",
      "\n",
      " * a constant has unique address. \n",
      " \n",
      " * name objects are binging to their content object.\n",
      "\n",
      " * same content of different name objects has same address."
     ]
    },
    {
     "cell_type": "code",
     "collapsed": false,
     "input": [
      "x=[1,2,3]\n",
      "pointer(x)"
     ],
     "language": "python",
     "metadata": {},
     "outputs": [
      {
       "metadata": {},
       "output_type": "pyout",
       "prompt_number": 2,
       "text": [
        "Ptr{Int64} @0x00007fccdc77d990"
       ]
      }
     ],
     "prompt_number": 2
    },
    {
     "cell_type": "code",
     "collapsed": false,
     "input": [
      "println(pointer(x[1:2]))\n",
      "println(pointer(x[1:2]))\n",
      "println(pointer(x[1:2]))"
     ],
     "language": "python",
     "metadata": {},
     "outputs": [
      {
       "output_type": "stream",
       "stream": "stdout",
       "text": [
        "Ptr{"
       ]
      },
      {
       "output_type": "stream",
       "stream": "stdout",
       "text": [
        "Int64} @0x00007fccdfb9b730\n",
        "Ptr{Int64} @0x00007fccdfb9c570\n",
        "Ptr{Int64} @0x00007fccdfb9c6b0\n"
       ]
      }
     ],
     "prompt_number": 4
    },
    {
     "cell_type": "code",
     "collapsed": false,
     "input": [
      "x[1:2]=[10,10]\n",
      "x"
     ],
     "language": "python",
     "metadata": {},
     "outputs": [
      {
       "metadata": {},
       "output_type": "pyout",
       "prompt_number": 9,
       "text": [
        "3-element Array{Int64,1}:\n",
        " 10\n",
        " 10\n",
        "  3"
       ]
      }
     ],
     "prompt_number": 9
    },
    {
     "cell_type": "code",
     "collapsed": false,
     "input": [
      "pointer(x)"
     ],
     "language": "python",
     "metadata": {},
     "outputs": [
      {
       "metadata": {},
       "output_type": "pyout",
       "prompt_number": 10,
       "text": [
        "Ptr{Int64} @0x00007fccdc77d990"
       ]
      }
     ],
     "prompt_number": 10
    },
    {
     "cell_type": "code",
     "collapsed": false,
     "input": [
      "x=[1,2,3]\n",
      "x[1:2][1]=100\n",
      "println(x)\n",
      "\n",
      "\n",
      "#equivalent to (I think)\n",
      "x=[1,2,3]\n",
      "x1=x[1:2]\n",
      "x1[1]=100\n",
      "println(x)\n",
      "\n",
      "#remind; scalars(numbers) are unique, but arrays with same contents are different \n",
      "a=[1,2,3]\n",
      "b=[1,2,3]\n",
      "println(pointer(a))\n",
      "println(pointer(b))"
     ],
     "language": "python",
     "metadata": {},
     "outputs": [
      {
       "output_type": "stream",
       "stream": "stdout",
       "text": [
        "[1"
       ]
      },
      {
       "output_type": "stream",
       "stream": "stdout",
       "text": [
        ",2,3]\n",
        "[1,2,3]\n",
        "Ptr{Int64} @0x00007fccdc7b3030\n",
        "Ptr{Int64} @0x00007fccdc7b3210\n"
       ]
      }
     ],
     "prompt_number": 16
    },
    {
     "cell_type": "code",
     "collapsed": false,
     "input": [],
     "language": "python",
     "metadata": {},
     "outputs": []
    },
    {
     "cell_type": "code",
     "collapsed": false,
     "input": [],
     "language": "python",
     "metadata": {},
     "outputs": []
    },
    {
     "cell_type": "code",
     "collapsed": false,
     "input": [],
     "language": "python",
     "metadata": {},
     "outputs": []
    },
    {
     "cell_type": "code",
     "collapsed": false,
     "input": [],
     "language": "python",
     "metadata": {},
     "outputs": []
    },
    {
     "cell_type": "code",
     "collapsed": false,
     "input": [],
     "language": "python",
     "metadata": {},
     "outputs": []
    },
    {
     "cell_type": "code",
     "collapsed": false,
     "input": [],
     "language": "python",
     "metadata": {},
     "outputs": []
    },
    {
     "cell_type": "code",
     "collapsed": false,
     "input": [
      "a=[1,2,3]\n",
      "ptr=pointer(a)\n",
      "b=pointer_to_array(ptr,2)\n",
      "b[1]=10\n",
      "a"
     ],
     "language": "python",
     "metadata": {},
     "outputs": [
      {
       "metadata": {},
       "output_type": "pyout",
       "prompt_number": 22,
       "text": [
        "3-element Array{Int64,1}:\n",
        " 10\n",
        "  2\n",
        "  3"
       ]
      }
     ],
     "prompt_number": 22
    },
    {
     "cell_type": "markdown",
     "metadata": {},
     "source": [
      ">what if want a subarray not starting from the beginingg and assign new values to that address? "
     ]
    },
    {
     "cell_type": "markdown",
     "metadata": {},
     "source": [
      "##declare as 1 row matrix"
     ]
    },
    {
     "cell_type": "code",
     "collapsed": false,
     "input": [
      "a=[1 2 3]"
     ],
     "language": "python",
     "metadata": {},
     "outputs": [
      {
       "metadata": {},
       "output_type": "pyout",
       "prompt_number": 24,
       "text": [
        "1x3 Array{Int64,2}:\n",
        " 1  2  3"
       ]
      }
     ],
     "prompt_number": 24
    },
    {
     "cell_type": "code",
     "collapsed": false,
     "input": [
      "ptr=pointer(a,2)"
     ],
     "language": "python",
     "metadata": {},
     "outputs": [
      {
       "metadata": {},
       "output_type": "pyout",
       "prompt_number": 26,
       "text": [
        "Ptr{Int64} @0x00007fcce3fc1fd8"
       ]
      }
     ],
     "prompt_number": 26
    },
    {
     "cell_type": "code",
     "collapsed": false,
     "input": [
      "b=pointer_to_array(ptr,2)"
     ],
     "language": "python",
     "metadata": {},
     "outputs": [
      {
       "metadata": {},
       "output_type": "pyout",
       "prompt_number": 32,
       "text": [
        "2-element Array{Int64,1}:\n",
        " 2\n",
        " 3"
       ]
      }
     ],
     "prompt_number": 32
    },
    {
     "cell_type": "code",
     "collapsed": false,
     "input": [
      "b[2]=100"
     ],
     "language": "python",
     "metadata": {},
     "outputs": [
      {
       "metadata": {},
       "output_type": "pyout",
       "prompt_number": 33,
       "text": [
        "100"
       ]
      }
     ],
     "prompt_number": 33
    },
    {
     "cell_type": "code",
     "collapsed": false,
     "input": [
      "a"
     ],
     "language": "python",
     "metadata": {},
     "outputs": [
      {
       "metadata": {},
       "output_type": "pyout",
       "prompt_number": 34,
       "text": [
        "1x3 Array{Int64,2}:\n",
        " 1  2  100"
       ]
      }
     ],
     "prompt_number": 34
    }
   ],
   "metadata": {}
  }
 ]
}