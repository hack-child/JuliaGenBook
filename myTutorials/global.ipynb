{
 "metadata": {
  "language": "Julia",
  "name": "",
  "signature": "sha256:69bc1ef1f9d8987abc62600c9337323e5e96cc110afbce7850511881cd1ae29d"
 },
 "nbformat": 3,
 "nbformat_minor": 0,
 "worksheets": [
  {
   "cells": [
    {
     "cell_type": "code",
     "collapsed": false,
     "input": [
      "#Run BayesC0\n",
      "module haha\n",
      "\n",
      "function abc(a)\n",
      "    a=markerMeans\n",
      "end\n",
      "\n",
      "end\n",
      "#runGenSel(parm1,X,y)\n",
      "markerMeans = [1,2,2]\n",
      "using haha\n",
      "ji=[1,2]\n",
      "haha.abc(ji)"
     ],
     "language": "python",
     "metadata": {},
     "outputs": []
    }
   ],
   "metadata": {}
  }
 ]
}