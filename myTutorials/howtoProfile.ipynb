{
 "metadata": {
  "language": "Julia",
  "name": "",
  "signature": "sha256:e947a4dee35bc6f5fdcb89db80d764eb2184919803cd0fe4b7ee4d7f6e411603"
 },
 "nbformat": 3,
 "nbformat_minor": 0,
 "worksheets": [
  {
   "cells": [
    {
     "cell_type": "code",
     "collapsed": false,
     "input": [
      "@time BayesC0!(2000,nMarkers,X,xpx,yCorr,mu,meanMu,\u03b1,meanAlpha,vRes,vEff,x)"
     ],
     "language": "python",
     "metadata": {},
     "outputs": [
      {
       "output_type": "stream",
       "stream": "stdout",
       "text": [
        "Correlation of between true and predicted breeding value: ["
       ]
      },
      {
       "output_type": "stream",
       "stream": "stdout",
       "text": [
        "-0.02271077798849886]\n",
        "Correlation of between true and predicted breeding value: "
       ]
      },
      {
       "output_type": "stream",
       "stream": "stdout",
       "text": [
        "[-0.02271091305286883]\n",
        "elapsed time: 0.764968735 seconds (325140648 bytes allocated, 30.65% gc time)\n"
       ]
      }
     ],
     "prompt_number": 87
    },
    {
     "cell_type": "code",
     "collapsed": false,
     "input": [
      "Profile.clear()\n",
      "@profile BayesC0!(10000,nMarkers,X,xpx,yCorr,mu,meanMu,\u03b1,meanAlpha,vRes,vEff,x)"
     ],
     "language": "python",
     "metadata": {},
     "outputs": [
      {
       "output_type": "stream",
       "stream": "stdout",
       "text": [
        "Correlation of between true and predicted breeding value: ["
       ]
      },
      {
       "output_type": "stream",
       "stream": "stdout",
       "text": [
        "0.007032452215342844]\n",
        "Correlation of between true and predicted breeding value: "
       ]
      },
      {
       "output_type": "stream",
       "stream": "stdout",
       "text": [
        "[0.007034070006034689]\n",
        "Correlation of between true and predicted breeding value: "
       ]
      },
      {
       "output_type": "stream",
       "stream": "stdout",
       "text": [
        "[0.007029312567977779]\n",
        "Correlation of between true and predicted breeding value: "
       ]
      },
      {
       "output_type": "stream",
       "stream": "stdout",
       "text": [
        "[0.007028992916861719]\n",
        "Correlation of between true and predicted breeding value: "
       ]
      },
      {
       "output_type": "stream",
       "stream": "stdout",
       "text": [
        "[0.007028938131895956]\n",
        "Correlation of between true and predicted breeding value: "
       ]
      },
      {
       "output_type": "stream",
       "stream": "stdout",
       "text": [
        "[0.007027780244821598]\n",
        "Correlation of between true and predicted breeding value: "
       ]
      },
      {
       "output_type": "stream",
       "stream": "stdout",
       "text": [
        "[0.007027976797630184]\n",
        "Correlation of between true and predicted breeding value: "
       ]
      },
      {
       "output_type": "stream",
       "stream": "stdout",
       "text": [
        "[0.007028758098831074]\n",
        "Correlation of between true and predicted breeding value: "
       ]
      },
      {
       "output_type": "stream",
       "stream": "stdout",
       "text": [
        "[0.007028853490696556]\n",
        "Correlation of between true and predicted breeding value: "
       ]
      },
      {
       "output_type": "stream",
       "stream": "stdout",
       "text": [
        "[0.007030187607901894]\n"
       ]
      }
     ],
     "prompt_number": 88
    },
    {
     "cell_type": "code",
     "collapsed": false,
     "input": [
      "Profile.print()"
     ],
     "language": "python",
     "metadata": {},
     "outputs": [
      {
       "output_type": "stream",
       "stream": "stdout",
       "text": [
        "1    linalg/blas.jl; dot; line: 144\n"
       ]
      },
      {
       "output_type": "stream",
       "stream": "stdout",
       "text": [
        "2    pointer.jl; pointer; line: 29\n",
        "2    random.jl; randn!; line: 257\n",
        "1    reduce.jl; mapreduce_seq_impl; line: 193\n",
        "2522 task.jl; anonymous; line: 340\n",
        " 2522 .../IJulia/src/IJulia.jl; eventloop; line: 115\n",
        "  2521 ...rc/execute_request.jl; execute_request_0x535c5df2; line: 145\n",
        "   2521 loading.jl; include_string; line: 97\n",
        "    2521 profile.jl; anonymous; line: 14\n",
        "     5    In[85]; BayesC0!; line: 14\n",
        "      2 ...ibutions/src/rmath.jl; rand; line: 69\n",
        "     2    In[85]; BayesC0!; line: 18\n",
        "      2 array.jl; +; line: 770\n",
        "       1 array.jl; .+; line: 756\n",
        "       1 array.jl; .+; line: 758\n",
        "     2    In[85]; BayesC0!; line: 19\n",
        "      2 reduce.jl; sum; line: 234\n",
        "       1 reduce.jl; _mapreduce; line: 168\n",
        "        1 reduce.jl; mapreduce_pairwise_impl; line: 125\n",
        "         1 reduce.jl; mapreduce_seq_impl; line: 214\n",
        "     4    In[85]; BayesC0!; line: 20\n",
        "      3 ...a/lib/julia/sys.dylib; /; (unknown line)\n",
        "     26   In[85]; BayesC0!; line: 22\n",
        "     5    In[85]; BayesC0!; line: 23\n",
        "      3 array.jl; -; line: 772\n",
        "       1 array.jl; .-; line: 756\n",
        "       2 array.jl; .-; line: 758\n",
        "     27   In[85]; BayesC0!; line: 24\n",
        "     2282 In[85]; BayesC0!; line: 27\n",
        "      948  In[52]; sampleEffects!; line: 4\n",
        "       20 pointer.jl; pointer; line: 29\n",
        "      136  In[52]; sampleEffects!; line: 6\n",
        "       35 linalg/blas.jl; dot; line: 144\n",
        "       1  linalg/blas.jl; dot; line: 145\n",
        "       39 linalg/blas.jl; dot; line: 146\n",
        "      9    In[52]; sampleEffects!; line: 7\n",
        "      40   In[52]; sampleEffects!; line: 8\n",
        "      1025 In[52]; sampleEffects!; line: 11\n",
        "       4   dSFMT.jl; randmtzig_randn; line: 600\n",
        "       253 random.jl; randn!; line: 257\n",
        "        39 dSFMT.jl; randmtzig_randn; line: 593\n",
        "        34 dSFMT.jl; randmtzig_randn; line: 595\n",
        "        11 dSFMT.jl; randmtzig_randn; line: 596\n",
        "        1  dSFMT.jl; randmtzig_randn; line: 597\n",
        "        89 dSFMT.jl; randmtzig_randn; line: 598\n",
        "        3  dSFMT.jl; randmtzig_randn; line: 599\n",
        "        4  dSFMT.jl; randmtzig_randn; line: 600\n",
        "        20 dSFMT.jl; randmtzig_randn; line: 609\n",
        "        11 dSFMT.jl; randmtzig_randn; line: 610\n",
        "      106  In[52]; sampleEffects!; line: 12\n",
        "       8  linalg/blas.jl; axpy!; line: 215\n",
        "       55 linalg/blas.jl; axpy!; line: 216\n",
        "      3    linalg/blas.jl; dot; line: 146\n",
        "     107  In[85]; BayesC0!; line: 28\n",
        "      1  array.jl; +; line: 719\n",
        "      10 array.jl; +; line: 721\n",
        "      12 array.jl; -; line: 719\n",
        "      10 array.jl; -; line: 721\n",
        "      65 array.jl; .*; line: 756\n",
        "      9  array.jl; .*; line: 758\n",
        "     59   In[85]; BayesC0!; line: 31\n",
        "      50 .../lib/julia/sys.dylib; *; (unknown line)\n",
        "      3  ...butions/src/rmath.jl; rand; line: 69\n",
        "     2    In[85]; BayesC0!; line: 36\n",
        "      2 string.jl; println; line: 5\n",
        "       2 string.jl; print; line: 4\n",
        "        2 string.jl; print; line: 3\n",
        "         2 show.jl; showarray; line: 1075\n",
        "          2 show.jl; print_matrix_repr; line: 1033\n",
        "           2 ascii.jl; print; line: 93\n",
        "            2 stream.jl; write; line: 788\n",
        "             2 ...ib/julia/sys.dylib; stream_wait; (unknown line)\n",
        "              2 ...ib/julia/sys.dylib; wait; (unknown line)\n",
        "               2 ...b/julia/sys.dylib; process_events; (unknown line)\n",
        "  1    ...rc/execute_request.jl; execute_request_0x535c5df2; line: 177\n",
        "   1 ....3/IJulia/src/stdio.jl; send_stream; line: 24\n",
        "    1 ...0.3/IJulia/src/msg.jl; send_ipython; line: 51\n",
        "     1 iostream.jl; sprint; line: 227\n"
       ]
      }
     ],
     "prompt_number": 89
    },
    {
     "cell_type": "code",
     "collapsed": false,
     "input": [],
     "language": "python",
     "metadata": {},
     "outputs": []
    }
   ],
   "metadata": {}
  }
 ]
}